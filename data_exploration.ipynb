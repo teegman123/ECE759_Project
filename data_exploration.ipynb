{
 "cells": [
  {
   "cell_type": "markdown",
   "metadata": {},
   "source": [
    "## Unpacking Cellular Clarity Dataset to Preprocess and Prepare the Dataset"
   ]
  },
  {
   "cell_type": "markdown",
   "metadata": {},
   "source": [
    "#### Teague McCracken 2/24/25"
   ]
  },
  {
   "cell_type": "markdown",
   "metadata": {},
   "source": [
    "Note: create a new environment if sequence alignment tools are needed"
   ]
  },
  {
   "cell_type": "code",
   "execution_count": 6,
   "metadata": {},
   "outputs": [],
   "source": [
    "import pandas as pd\n",
    "import os\n",
    "\n",
    "git_path = os.getcwd() #gives path to git clone\n",
    "data_path = os.path.join(git_path, 'cellular_clarity')"
   ]
  },
  {
   "cell_type": "code",
   "execution_count": 8,
   "metadata": {},
   "outputs": [],
   "source": [
    "epidermis_RPKM = pd.read_excel(os.path.join(data_path, 'GSE228011_epidermis_RPKM.xlsx'))"
   ]
  },
  {
   "cell_type": "code",
   "execution_count": 10,
   "metadata": {},
   "outputs": [
    {
     "data": {
      "text/plain": [
       "Index(['AGI', 'Alias', 'Description', 'A1', 'A2', 'A3', 'Mean  A', 'B+1',\n",
       "       'B+2', 'B+3', 'Mean B+', 'C+1', 'C+2', 'C+3', 'Mean C+', 'D+1', 'D+2',\n",
       "       'D+3', 'Mean D+', 'E+1', 'E+2', 'E+3', 'Mean E+', 'F+1', 'F+2', 'F+3',\n",
       "       'Mean F+', 'G+1', 'G+3', 'G+4', 'Mean G+', 'B-1', 'B-2', 'B-3',\n",
       "       'Mean B-', 'C-1', 'C-2', 'C-3', 'Mean C-', 'D-1', 'D-2', 'D-3',\n",
       "       'Mean D-', 'E-1', 'E-2', 'E-3', 'Mean E-', 'F-1', 'F-2', 'F-3',\n",
       "       'Mean F-', 'G-1', 'G-2', 'G-4', 'Mean G-'],\n",
       "      dtype='object')"
      ]
     },
     "execution_count": 10,
     "metadata": {},
     "output_type": "execute_result"
    }
   ],
   "source": [
    "epidermis_RPKM.columns"
   ]
  }
 ],
 "metadata": {
  "kernelspec": {
   "display_name": "transcriptomics",
   "language": "python",
   "name": "python3"
  },
  "language_info": {
   "codemirror_mode": {
    "name": "ipython",
    "version": 3
   },
   "file_extension": ".py",
   "mimetype": "text/x-python",
   "name": "python",
   "nbconvert_exporter": "python",
   "pygments_lexer": "ipython3",
   "version": "3.12.2"
  }
 },
 "nbformat": 4,
 "nbformat_minor": 2
}
