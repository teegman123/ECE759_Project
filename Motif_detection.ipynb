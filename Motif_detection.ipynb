{
 "cells": [
  {
   "cell_type": "markdown",
   "metadata": {},
   "source": [
    "# Motif Detection of Every Gene Detected in Experimental Data"
   ]
  },
  {
   "cell_type": "markdown",
   "metadata": {},
   "source": [
    "Teague McCracken \n",
    "03/30/2025"
   ]
  },
  {
   "cell_type": "markdown",
   "metadata": {},
   "source": [
    "## Step 1 - Extract promoter sequences for each gene"
   ]
  },
  {
   "cell_type": "code",
   "execution_count": null,
   "metadata": {},
   "outputs": [],
   "source": [
    "# Initialize the notebook, set environment to transcriptomics\n",
    "import pandas as pd\n",
    "import subprocess\n",
    "import os\n",
    "\n",
    "# File paths\n",
    "gtf = \"/home/temccrac/Programs/data/genomes/Arabidopsis_thaliana.TAIR10.54.gtf\"\n",
    "gene_list = \"genes_of_interest.txt\"\n",
    "genome_fa = \"/home/temccrac/Programs/data/genomes/Arabidopsis_thaliana.TAIR10.dna.toplevel.fa\"\n",
    "genome_sizes = \"/home/temccrac/Programs/data/genomes/Arabidopsis.genome\"\n",
    "\n",
    "filtered_gtf = \"filtered.gtf\"\n",
    "tss_bed = \"tss.bed\"\n",
    "promoter_bed = \"promoters.bed\"\n",
    "output_fasta = \"promoters.fa\""
   ]
  },
  {
   "cell_type": "markdown",
   "metadata": {},
   "source": [
    "Inputs needed: <br>\n",
    "1. gtf_file (reference genome information) <br>\n",
    "2. gene_list_file (detected genes from experiment) <br>\n",
    "3. genome.fa"
   ]
  },
  {
   "cell_type": "code",
   "execution_count": null,
   "metadata": {},
   "outputs": [],
   "source": [
    "def filter_gtf_by_genes(gtf_file, gene_list_file, output_gtf):\n",
    "    with open(gene_list_file, 'r') as f:\n",
    "        genes = set(f.read().splitlines())\n",
    "\n",
    "    with open(gtf_file, 'r') as gtf_in, open(output_gtf, 'w') as gtf_out:\n",
    "        for line in gtf_in:\n",
    "            if line.startswith('#'):\n",
    "                continue\n",
    "            if any(gene in line for gene in genes):\n",
    "                gtf_out.write(line)\n",
    "\n",
    "def extract_tss_bed(filtered_gtf, output_bed):\n",
    "    awk_cmd = (\n",
    "        '''awk '$3 == \"transcript\" {\n",
    "            match($0, /gene_id \"([^\"]+)\"/, m);\n",
    "            gene = m[1];\n",
    "            if ($7 == \"+\") {\n",
    "                print $1 \"\\\\t\" $4-1 \"\\\\t\" $4 \"\\\\t\" gene \"\\\\t.\\\\t\" $7;\n",
    "            } else {\n",
    "                print $1 \"\\\\t\" $5-1 \"\\\\t\" $5 \"\\\\t\" gene \"\\\\t.\\\\t\" $7;\n",
    "            }\n",
    "        }' '''\n",
    "    )\n",
    "    full_cmd = f\"{awk_cmd} {filtered_gtf} > {output_bed}\"\n",
    "    subprocess.run(full_cmd, shell=True, check=True)\n",
    "\n",
    "def create_promoter_bed(tss_bed, genome_sizes, output_bed, length=1000):\n",
    "    with open(output_bed, 'w') as out_f:\n",
    "        subprocess.run([\n",
    "            \"bedtools\", \"flank\",\n",
    "            \"-i\", tss_bed,\n",
    "            \"-g\", genome_sizes,\n",
    "            \"-l\", str(length),\n",
    "            \"-r\", \"0\",\n",
    "            \"-s\"\n",
    "        ], stdout=out_f, check=True)\n",
    "\n",
    "def extract_promoter_fasta(genome_fa, promoter_bed, output_fasta):\n",
    "    subprocess.run([\n",
    "        \"bedtools\", \"getfasta\",\n",
    "        \"-fi\", genome_fa,\n",
    "        \"-bed\", promoter_bed,\n",
    "        \"-fo\", output_fasta,\n",
    "        \"-s\"\n",
    "    ], check=True)\n"
   ]
  },
  {
   "cell_type": "code",
   "execution_count": null,
   "metadata": {},
   "outputs": [],
   "source": [
    "\n",
    "\n",
    "# Run steps\n",
    "filter_gtf_by_genes(gtf, gene_list, filtered_gtf)\n",
    "extract_tss_bed(filtered_gtf, tss_bed)\n",
    "create_promoter_bed(tss_bed, genome_sizes, promoter_bed)\n",
    "extract_promoter_fasta(genome_fa, promoter_bed, output_fasta)\n",
    "\n",
    "print(\"✅ Promoter FASTA extraction complete.\")"
   ]
  },
  {
   "cell_type": "code",
   "execution_count": null,
   "metadata": {},
   "outputs": [],
   "source": []
  }
 ],
 "metadata": {
  "kernelspec": {
   "display_name": "transcriptomics",
   "language": "python",
   "name": "python3"
  },
  "language_info": {
   "codemirror_mode": {
    "name": "ipython",
    "version": 3
   },
   "file_extension": ".py",
   "mimetype": "text/x-python",
   "name": "python",
   "nbconvert_exporter": "python",
   "pygments_lexer": "ipython3",
   "version": "3.12.0"
  }
 },
 "nbformat": 4,
 "nbformat_minor": 2
}
