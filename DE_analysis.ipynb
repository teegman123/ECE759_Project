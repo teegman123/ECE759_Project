{
 "cells": [
  {
   "cell_type": "markdown",
   "metadata": {},
   "source": [
    "## Differential Expression Analysis Notebook"
   ]
  },
  {
   "cell_type": "markdown",
   "metadata": {},
   "source": [
    "I had to make a new enviornment for this notebook becuase inmoose requires certain dependencies to be certain versions, ex. pandas 1.5.3 was needed to simulate rna_seq data\n",
    "\n",
    "Make sure enviroinment is set to 'inmoose_env'"
   ]
  },
  {
   "cell_type": "code",
   "execution_count": 2,
   "metadata": {},
   "outputs": [],
   "source": [
    "from inmoose.edgepy import DGEList, glmLRT, topTags # 'import inmoose' directly does not work\n",
    "import pandas as pd\n",
    "from inmoose.sim import sim_rnaseq # can be used to simualte RNA-seq data"
   ]
  },
  {
   "cell_type": "code",
   "execution_count": 4,
   "metadata": {},
   "outputs": [
    {
     "ename": "ImportError",
     "evalue": "cannot import name 'HTS_Seq' from 'inmoose' (/home/temccrac/Downloads/anaconda3/envs/inmoose_env/lib/python3.9/site-packages/inmoose/__init__.py)",
     "output_type": "error",
     "traceback": [
      "\u001b[0;31m---------------------------------------------------------------------------\u001b[0m",
      "\u001b[0;31mImportError\u001b[0m                               Traceback (most recent call last)",
      "Cell \u001b[0;32mIn[4], line 1\u001b[0m\n\u001b[0;32m----> 1\u001b[0m \u001b[38;5;28;01mfrom\u001b[39;00m\u001b[38;5;250m \u001b[39m\u001b[38;5;21;01minmoose\u001b[39;00m\u001b[38;5;250m \u001b[39m\u001b[38;5;28;01mimport\u001b[39;00m HTS_Seq\n",
      "\u001b[0;31mImportError\u001b[0m: cannot import name 'HTS_Seq' from 'inmoose' (/home/temccrac/Downloads/anaconda3/envs/inmoose_env/lib/python3.9/site-packages/inmoose/__init__.py)"
     ]
    }
   ],
   "source": [
    "from inmoose import HTS_Seq\n"
   ]
  },
  {
   "cell_type": "code",
   "execution_count": null,
   "metadata": {},
   "outputs": [],
   "source": []
  }
 ],
 "metadata": {
  "kernelspec": {
   "display_name": "inmoose_env",
   "language": "python",
   "name": "python3"
  },
  "language_info": {
   "codemirror_mode": {
    "name": "ipython",
    "version": 3
   },
   "file_extension": ".py",
   "mimetype": "text/x-python",
   "name": "python",
   "nbconvert_exporter": "python",
   "pygments_lexer": "ipython3",
   "version": "3.9.15"
  }
 },
 "nbformat": 4,
 "nbformat_minor": 2
}
