{
 "cells": [
  {
   "cell_type": "markdown",
   "metadata": {},
   "source": [
    "## Unpacking Cellular Clarity Dataset to Preprocess and Prepare the Dataset"
   ]
  },
  {
   "cell_type": "markdown",
   "metadata": {},
   "source": [
    "#### Teague McCracken 2/24/25"
   ]
  },
  {
   "cell_type": "markdown",
   "metadata": {},
   "source": [
    "Note: create a new environment if sequence alignment tools are needed"
   ]
  },
  {
   "cell_type": "code",
   "execution_count": 1,
   "metadata": {},
   "outputs": [],
   "source": [
    "import pandas as pd\n",
    "import os\n",
    "\n",
    "git_path = os.getcwd() #gives path to git clone\n",
    "data_path = os.path.join(git_path, 'cellular_clarity')"
   ]
  },
  {
   "cell_type": "code",
   "execution_count": 8,
   "metadata": {},
   "outputs": [],
   "source": [
    "epidermis_RPKM = pd.read_excel(os.path.join(data_path, 'GSE228011_epidermis_RPKM.xlsx'))"
   ]
  },
  {
   "cell_type": "code",
   "execution_count": 10,
   "metadata": {},
   "outputs": [
    {
     "data": {
      "text/plain": [
       "Index(['AGI', 'Alias', 'Description', 'A1', 'A2', 'A3', 'Mean  A', 'B+1',\n",
       "       'B+2', 'B+3', 'Mean B+', 'C+1', 'C+2', 'C+3', 'Mean C+', 'D+1', 'D+2',\n",
       "       'D+3', 'Mean D+', 'E+1', 'E+2', 'E+3', 'Mean E+', 'F+1', 'F+2', 'F+3',\n",
       "       'Mean F+', 'G+1', 'G+3', 'G+4', 'Mean G+', 'B-1', 'B-2', 'B-3',\n",
       "       'Mean B-', 'C-1', 'C-2', 'C-3', 'Mean C-', 'D-1', 'D-2', 'D-3',\n",
       "       'Mean D-', 'E-1', 'E-2', 'E-3', 'Mean E-', 'F-1', 'F-2', 'F-3',\n",
       "       'Mean F-', 'G-1', 'G-2', 'G-4', 'Mean G-'],\n",
       "      dtype='object')"
      ]
     },
     "execution_count": 10,
     "metadata": {},
     "output_type": "execute_result"
    }
   ],
   "source": [
    "epidermis_RPKM.columns"
   ]
  },
  {
   "cell_type": "code",
   "execution_count": 11,
   "metadata": {},
   "outputs": [
    {
     "data": {
      "application/vnd.microsoft.datawrangler.viewer.v0+json": {
       "columns": [
        {
         "name": "index",
         "rawType": "int64",
         "type": "integer"
        },
        {
         "name": "AGI",
         "rawType": "object",
         "type": "string"
        },
        {
         "name": "Alias",
         "rawType": "object",
         "type": "string"
        },
        {
         "name": "Description",
         "rawType": "object",
         "type": "unknown"
        },
        {
         "name": "A1",
         "rawType": "float64",
         "type": "float"
        },
        {
         "name": "A2",
         "rawType": "float64",
         "type": "float"
        },
        {
         "name": "A3",
         "rawType": "float64",
         "type": "float"
        },
        {
         "name": "Mean  A",
         "rawType": "float64",
         "type": "float"
        },
        {
         "name": "B+1",
         "rawType": "float64",
         "type": "float"
        },
        {
         "name": "B+2",
         "rawType": "float64",
         "type": "float"
        },
        {
         "name": "B+3",
         "rawType": "float64",
         "type": "float"
        },
        {
         "name": "Mean B+",
         "rawType": "float64",
         "type": "float"
        },
        {
         "name": "C+1",
         "rawType": "float64",
         "type": "float"
        },
        {
         "name": "C+2",
         "rawType": "float64",
         "type": "float"
        },
        {
         "name": "C+3",
         "rawType": "float64",
         "type": "float"
        },
        {
         "name": "Mean C+",
         "rawType": "float64",
         "type": "float"
        },
        {
         "name": "D+1",
         "rawType": "float64",
         "type": "float"
        },
        {
         "name": "D+2",
         "rawType": "float64",
         "type": "float"
        },
        {
         "name": "D+3",
         "rawType": "float64",
         "type": "float"
        },
        {
         "name": "Mean D+",
         "rawType": "float64",
         "type": "float"
        },
        {
         "name": "E+1",
         "rawType": "float64",
         "type": "float"
        },
        {
         "name": "E+2",
         "rawType": "float64",
         "type": "float"
        },
        {
         "name": "E+3",
         "rawType": "float64",
         "type": "float"
        },
        {
         "name": "Mean E+",
         "rawType": "float64",
         "type": "float"
        },
        {
         "name": "F+1",
         "rawType": "float64",
         "type": "float"
        },
        {
         "name": "F+2",
         "rawType": "float64",
         "type": "float"
        },
        {
         "name": "F+3",
         "rawType": "float64",
         "type": "float"
        },
        {
         "name": "Mean F+",
         "rawType": "float64",
         "type": "float"
        },
        {
         "name": "G+1",
         "rawType": "float64",
         "type": "float"
        },
        {
         "name": "G+3",
         "rawType": "float64",
         "type": "float"
        },
        {
         "name": "G+4",
         "rawType": "float64",
         "type": "float"
        },
        {
         "name": "Mean G+",
         "rawType": "float64",
         "type": "float"
        },
        {
         "name": "B-1",
         "rawType": "float64",
         "type": "float"
        },
        {
         "name": "B-2",
         "rawType": "float64",
         "type": "float"
        },
        {
         "name": "B-3",
         "rawType": "float64",
         "type": "float"
        },
        {
         "name": "Mean B-",
         "rawType": "float64",
         "type": "float"
        },
        {
         "name": "C-1",
         "rawType": "float64",
         "type": "float"
        },
        {
         "name": "C-2",
         "rawType": "float64",
         "type": "float"
        },
        {
         "name": "C-3",
         "rawType": "float64",
         "type": "float"
        },
        {
         "name": "Mean C-",
         "rawType": "float64",
         "type": "float"
        },
        {
         "name": "D-1",
         "rawType": "float64",
         "type": "float"
        },
        {
         "name": "D-2",
         "rawType": "float64",
         "type": "float"
        },
        {
         "name": "D-3",
         "rawType": "float64",
         "type": "float"
        },
        {
         "name": "Mean D-",
         "rawType": "float64",
         "type": "float"
        },
        {
         "name": "E-1",
         "rawType": "float64",
         "type": "float"
        },
        {
         "name": "E-2",
         "rawType": "float64",
         "type": "float"
        },
        {
         "name": "E-3",
         "rawType": "float64",
         "type": "float"
        },
        {
         "name": "Mean E-",
         "rawType": "float64",
         "type": "float"
        },
        {
         "name": "F-1",
         "rawType": "float64",
         "type": "float"
        },
        {
         "name": "F-2",
         "rawType": "float64",
         "type": "float"
        },
        {
         "name": "F-3",
         "rawType": "float64",
         "type": "float"
        },
        {
         "name": "Mean F-",
         "rawType": "float64",
         "type": "float"
        },
        {
         "name": "G-1",
         "rawType": "float64",
         "type": "float"
        },
        {
         "name": "G-2",
         "rawType": "float64",
         "type": "float"
        },
        {
         "name": "G-4",
         "rawType": "float64",
         "type": "float"
        },
        {
         "name": "Mean G-",
         "rawType": "float64",
         "type": "float"
        }
       ],
       "conversionMethod": "pd.DataFrame",
       "ref": "5d7bb7cf-dbd3-4a20-a359-02a882d5bc2f",
       "rows": [
        [
         "0",
         "AT1G01010",
         "NAC001",
         "NAC domain containing protein 1",
         "9.39528474046342",
         "10.5653482584335",
         "8.50767503836295",
         "9.48943601241996",
         "6.16853495008346",
         "6.55810253874885",
         "5.52867636281331",
         "6.08510461721521",
         "4.85522303524273",
         "6.35460961144699",
         "9.44436885965439",
         "6.88473383544804",
         "3.60697958181321",
         "6.56261684723072",
         "9.17513593544443",
         "6.44824412149612",
         "6.93915371737636",
         "7.91022601883701",
         "6.72098756318581",
         "7.19012243313306",
         "4.15022177991492",
         "5.85298548729016",
         "7.51241083762002",
         "5.83853936827503",
         "10.0868168737761",
         "13.6350798582264",
         "7.30396362169213",
         "10.3419534512315",
         "7.94488409612198",
         "9.951783937325",
         "8.04138042491206",
         "8.64601615278635",
         "8.39107876806819",
         "10.2131838201501",
         "9.00896674766456",
         "9.20440977862762",
         "8.88792153643878",
         "7.1020446269293",
         "7.20182071988809",
         "7.73059562775206",
         "5.91103582758453",
         "8.13174138786709",
         "6.10694871809203",
         "6.71657531118122",
         "7.0563391588367",
         "9.98730427708085",
         "8.87677706506055",
         "8.6401401669927",
         "13.7428121329727",
         "12.4947206257942",
         "8.31729014160477",
         "11.5182743001239"
        ],
        [
         "1",
         "AT1G01020",
         "ARV1",
         null,
         "12.1018141831472",
         "11.0640935438218",
         "10.2102124027034",
         "11.1253733765575",
         "12.7768920225737",
         "11.6173540379141",
         "13.7987870832293",
         "12.7310110479057",
         "14.6116232106474",
         "11.2991099806559",
         "13.0713085047425",
         "12.9940138986819",
         "11.0808457618518",
         "10.5501398852024",
         "9.53042894354092",
         "10.387138196865",
         "9.96844854215116",
         "11.304440353736",
         "13.4879894718898",
         "11.5869594559257",
         "11.3429506489363",
         "12.1725178128674",
         "10.2002747914675",
         "11.2385810844237",
         "10.8027501368074",
         "11.9955863072234",
         "11.3812287109668",
         "11.3931883849992",
         "10.3549268601716",
         "10.2455167066138",
         "12.0165285927108",
         "10.8723240531654",
         "9.67111900061072",
         "10.6510035513535",
         "12.4838299739969",
         "10.9353175086537",
         "10.0095551705244",
         "10.7696094027108",
         "8.5954738187912",
         "9.79154613067547",
         "9.02584624115318",
         "9.92224525125302",
         "8.7534347679084",
         "9.23384208677153",
         "8.69723035974172",
         "9.19053630695475",
         "11.1325982344339",
         "9.67345496704346",
         "12.5973411936354",
         "10.8982512485789",
         "12.8317804531489",
         "12.1091242984544"
        ],
        [
         "2",
         "AT1G01030",
         "NGA3",
         "NGATHA3",
         "1.73996445590576",
         "2.35353554659337",
         "1.6299587673697",
         "1.90781958995628",
         "1.06651169535788",
         "1.79277509061727",
         "1.59408671298414",
         "1.48445783298643",
         "1.70085430286669",
         "1.25127804305891",
         "2.00568640340904",
         "1.65260624977821",
         "1.62088222317641",
         "2.08685770509095",
         "1.49013279455264",
         "1.73262424094",
         "1.13791051244347",
         "1.33254109355976",
         "1.26326555391082",
         "1.24457238663802",
         "1.40839156263958",
         "1.28389682935098",
         "1.72026210362889",
         "1.47085016520648",
         "2.05066863186535",
         "3.00360022472628",
         "1.92971390732274",
         "2.32799425463812",
         "1.59728285831119",
         "1.83109513037527",
         "1.76938982831583",
         "1.7325892723341",
         "1.82215853545292",
         "1.73756011725742",
         "2.24756996270252",
         "1.93576287180429",
         "1.5979258377962",
         "2.67329893444043",
         "2.07988190340246",
         "2.11703555854636",
         "1.24214353452587",
         "2.03447958687832",
         "1.77306476033446",
         "1.68322929391288",
         "2.10577980636602",
         "1.86308270420914",
         "2.29298011385387",
         "2.08728087480968",
         "2.67774363133455",
         "3.12888450773056",
         "1.72971189677152",
         "2.51211334527888"
        ],
        [
         "3",
         "AT1G01040",
         "ASU1, ATDCL1, CAF, DCL1, EMB60, EMB76, SIN1, SUS1",
         "ABNORMAL SUSPENSOR 1, DICER-LIKE 1, CARPEL FACTORY, dicer-like 1, EMBRYO DEFECTIVE 60, EMBRYO DEFECTIVE 76, SHORT INTEGUMENTS 1, SUSPENSOR 1",
         "0.913234154908988",
         "1.03552051684939",
         "1.36535760993892",
         "1.1047040938991",
         "0.89337834091079",
         "0.790886577419624",
         "0.757958036796067",
         "0.814074318375494",
         "1.03617762934476",
         "0.779616029313786",
         "0.737344049862147",
         "0.851045902840231",
         "1.48118674535549",
         "1.47132005262042",
         "1.50855657564747",
         "1.48702112454113",
         "0.912140241279189",
         "1.12028055032275",
         "1.28632163636261",
         "1.10624747598818",
         "1.15592525184928",
         "1.47684709784729",
         "1.5150450073203",
         "1.38260578567229",
         "0.883930226625561",
         "0.503715488113808",
         "0.868136280463415",
         "0.751927331734261",
         "1.18932104949405",
         "0.689862077736143",
         "1.15076328322799",
         "1.00998213681939",
         "1.39716637480432",
         "1.1688036805704",
         "1.36924233416959",
         "1.31173746318144",
         "1.43703093412299",
         "1.08236197316036",
         "1.50226374288003",
         "1.34055221672113",
         "1.43778014813444",
         "1.18778279366637",
         "1.04509854866316",
         "1.22355383015466",
         "1.9637661944216",
         "1.63157516559249",
         "0.965135508572736",
         "1.52015895619561",
         "0.495218645785379",
         "0.65982048270695",
         "0.549524212107372",
         "0.5681877801999"
        ],
        [
         "4",
         "AT1G01046",
         "MIR838A",
         "microRNA838A",
         "0.246349482608731",
         "0.0",
         "0.0",
         "0.0821164942029103",
         "0.306718716735621",
         "0.0",
         "0.0",
         "0.102239572245207",
         "0.0",
         "0.523426585864565",
         "0.0",
         "0.174475528621522",
         "0.210095981162895",
         "0.0",
         "0.0",
         "0.070031993720965",
         "0.1837206141372",
         "0.0",
         "0.166081496218089",
         "0.116600703451763",
         "0.180017842648175",
         "0.0",
         "0.0",
         "0.0600059475493917",
         "0.0",
         "0.0",
         "0.273214789554056",
         "0.0910715965180187",
         "0.0",
         "0.0",
         "0.0",
         "0.0",
         "0.0",
         "0.0",
         "0.713246839738182",
         "0.237748946579394",
         "0.350132128019526",
         "0.152808067636122",
         "0.0",
         "0.167646731885216",
         "0.0",
         "0.0",
         "0.0",
         "0.0",
         "0.0",
         "0.0",
         "0.0",
         "0.0",
         "0.293369083143105",
         "0.0",
         "0.0",
         "0.097789694381035"
        ]
       ],
       "shape": {
        "columns": 55,
        "rows": 5
       }
      },
      "text/html": [
       "<div>\n",
       "<style scoped>\n",
       "    .dataframe tbody tr th:only-of-type {\n",
       "        vertical-align: middle;\n",
       "    }\n",
       "\n",
       "    .dataframe tbody tr th {\n",
       "        vertical-align: top;\n",
       "    }\n",
       "\n",
       "    .dataframe thead th {\n",
       "        text-align: right;\n",
       "    }\n",
       "</style>\n",
       "<table border=\"1\" class=\"dataframe\">\n",
       "  <thead>\n",
       "    <tr style=\"text-align: right;\">\n",
       "      <th></th>\n",
       "      <th>AGI</th>\n",
       "      <th>Alias</th>\n",
       "      <th>Description</th>\n",
       "      <th>A1</th>\n",
       "      <th>A2</th>\n",
       "      <th>A3</th>\n",
       "      <th>Mean  A</th>\n",
       "      <th>B+1</th>\n",
       "      <th>B+2</th>\n",
       "      <th>B+3</th>\n",
       "      <th>...</th>\n",
       "      <th>E-3</th>\n",
       "      <th>Mean E-</th>\n",
       "      <th>F-1</th>\n",
       "      <th>F-2</th>\n",
       "      <th>F-3</th>\n",
       "      <th>Mean F-</th>\n",
       "      <th>G-1</th>\n",
       "      <th>G-2</th>\n",
       "      <th>G-4</th>\n",
       "      <th>Mean G-</th>\n",
       "    </tr>\n",
       "  </thead>\n",
       "  <tbody>\n",
       "    <tr>\n",
       "      <th>0</th>\n",
       "      <td>AT1G01010</td>\n",
       "      <td>NAC001</td>\n",
       "      <td>NAC domain containing protein 1</td>\n",
       "      <td>9.395285</td>\n",
       "      <td>10.565348</td>\n",
       "      <td>8.507675</td>\n",
       "      <td>9.489436</td>\n",
       "      <td>6.168535</td>\n",
       "      <td>6.558103</td>\n",
       "      <td>5.528676</td>\n",
       "      <td>...</td>\n",
       "      <td>6.106949</td>\n",
       "      <td>6.716575</td>\n",
       "      <td>7.056339</td>\n",
       "      <td>9.987304</td>\n",
       "      <td>8.876777</td>\n",
       "      <td>8.640140</td>\n",
       "      <td>13.742812</td>\n",
       "      <td>12.494721</td>\n",
       "      <td>8.317290</td>\n",
       "      <td>11.518274</td>\n",
       "    </tr>\n",
       "    <tr>\n",
       "      <th>1</th>\n",
       "      <td>AT1G01020</td>\n",
       "      <td>ARV1</td>\n",
       "      <td>NaN</td>\n",
       "      <td>12.101814</td>\n",
       "      <td>11.064094</td>\n",
       "      <td>10.210212</td>\n",
       "      <td>11.125373</td>\n",
       "      <td>12.776892</td>\n",
       "      <td>11.617354</td>\n",
       "      <td>13.798787</td>\n",
       "      <td>...</td>\n",
       "      <td>8.753435</td>\n",
       "      <td>9.233842</td>\n",
       "      <td>8.697230</td>\n",
       "      <td>9.190536</td>\n",
       "      <td>11.132598</td>\n",
       "      <td>9.673455</td>\n",
       "      <td>12.597341</td>\n",
       "      <td>10.898251</td>\n",
       "      <td>12.831780</td>\n",
       "      <td>12.109124</td>\n",
       "    </tr>\n",
       "    <tr>\n",
       "      <th>2</th>\n",
       "      <td>AT1G01030</td>\n",
       "      <td>NGA3</td>\n",
       "      <td>NGATHA3</td>\n",
       "      <td>1.739964</td>\n",
       "      <td>2.353536</td>\n",
       "      <td>1.629959</td>\n",
       "      <td>1.907820</td>\n",
       "      <td>1.066512</td>\n",
       "      <td>1.792775</td>\n",
       "      <td>1.594087</td>\n",
       "      <td>...</td>\n",
       "      <td>1.773065</td>\n",
       "      <td>1.683229</td>\n",
       "      <td>2.105780</td>\n",
       "      <td>1.863083</td>\n",
       "      <td>2.292980</td>\n",
       "      <td>2.087281</td>\n",
       "      <td>2.677744</td>\n",
       "      <td>3.128885</td>\n",
       "      <td>1.729712</td>\n",
       "      <td>2.512113</td>\n",
       "    </tr>\n",
       "    <tr>\n",
       "      <th>3</th>\n",
       "      <td>AT1G01040</td>\n",
       "      <td>ASU1, ATDCL1, CAF, DCL1, EMB60, EMB76, SIN1, SUS1</td>\n",
       "      <td>ABNORMAL SUSPENSOR 1, DICER-LIKE 1, CARPEL FAC...</td>\n",
       "      <td>0.913234</td>\n",
       "      <td>1.035521</td>\n",
       "      <td>1.365358</td>\n",
       "      <td>1.104704</td>\n",
       "      <td>0.893378</td>\n",
       "      <td>0.790887</td>\n",
       "      <td>0.757958</td>\n",
       "      <td>...</td>\n",
       "      <td>1.045099</td>\n",
       "      <td>1.223554</td>\n",
       "      <td>1.963766</td>\n",
       "      <td>1.631575</td>\n",
       "      <td>0.965136</td>\n",
       "      <td>1.520159</td>\n",
       "      <td>0.495219</td>\n",
       "      <td>0.659820</td>\n",
       "      <td>0.549524</td>\n",
       "      <td>0.568188</td>\n",
       "    </tr>\n",
       "    <tr>\n",
       "      <th>4</th>\n",
       "      <td>AT1G01046</td>\n",
       "      <td>MIR838A</td>\n",
       "      <td>microRNA838A</td>\n",
       "      <td>0.246349</td>\n",
       "      <td>0.000000</td>\n",
       "      <td>0.000000</td>\n",
       "      <td>0.082116</td>\n",
       "      <td>0.306719</td>\n",
       "      <td>0.000000</td>\n",
       "      <td>0.000000</td>\n",
       "      <td>...</td>\n",
       "      <td>0.000000</td>\n",
       "      <td>0.000000</td>\n",
       "      <td>0.000000</td>\n",
       "      <td>0.000000</td>\n",
       "      <td>0.000000</td>\n",
       "      <td>0.000000</td>\n",
       "      <td>0.293369</td>\n",
       "      <td>0.000000</td>\n",
       "      <td>0.000000</td>\n",
       "      <td>0.097790</td>\n",
       "    </tr>\n",
       "  </tbody>\n",
       "</table>\n",
       "<p>5 rows × 55 columns</p>\n",
       "</div>"
      ],
      "text/plain": [
       "         AGI                                              Alias  \\\n",
       "0  AT1G01010                                             NAC001   \n",
       "1  AT1G01020                                               ARV1   \n",
       "2  AT1G01030                                               NGA3   \n",
       "3  AT1G01040  ASU1, ATDCL1, CAF, DCL1, EMB60, EMB76, SIN1, SUS1   \n",
       "4  AT1G01046                                            MIR838A   \n",
       "\n",
       "                                         Description         A1         A2  \\\n",
       "0                    NAC domain containing protein 1   9.395285  10.565348   \n",
       "1                                                NaN  12.101814  11.064094   \n",
       "2                                            NGATHA3   1.739964   2.353536   \n",
       "3  ABNORMAL SUSPENSOR 1, DICER-LIKE 1, CARPEL FAC...   0.913234   1.035521   \n",
       "4                                       microRNA838A   0.246349   0.000000   \n",
       "\n",
       "          A3    Mean  A        B+1        B+2        B+3  ...       E-3  \\\n",
       "0   8.507675   9.489436   6.168535   6.558103   5.528676  ...  6.106949   \n",
       "1  10.210212  11.125373  12.776892  11.617354  13.798787  ...  8.753435   \n",
       "2   1.629959   1.907820   1.066512   1.792775   1.594087  ...  1.773065   \n",
       "3   1.365358   1.104704   0.893378   0.790887   0.757958  ...  1.045099   \n",
       "4   0.000000   0.082116   0.306719   0.000000   0.000000  ...  0.000000   \n",
       "\n",
       "    Mean E-       F-1       F-2        F-3   Mean F-        G-1        G-2  \\\n",
       "0  6.716575  7.056339  9.987304   8.876777  8.640140  13.742812  12.494721   \n",
       "1  9.233842  8.697230  9.190536  11.132598  9.673455  12.597341  10.898251   \n",
       "2  1.683229  2.105780  1.863083   2.292980  2.087281   2.677744   3.128885   \n",
       "3  1.223554  1.963766  1.631575   0.965136  1.520159   0.495219   0.659820   \n",
       "4  0.000000  0.000000  0.000000   0.000000  0.000000   0.293369   0.000000   \n",
       "\n",
       "         G-4    Mean G-  \n",
       "0   8.317290  11.518274  \n",
       "1  12.831780  12.109124  \n",
       "2   1.729712   2.512113  \n",
       "3   0.549524   0.568188  \n",
       "4   0.000000   0.097790  \n",
       "\n",
       "[5 rows x 55 columns]"
      ]
     },
     "execution_count": 11,
     "metadata": {},
     "output_type": "execute_result"
    }
   ],
   "source": [
    "epidermis_RPKM.head()"
   ]
  },
  {
   "cell_type": "code",
   "execution_count": 13,
   "metadata": {},
   "outputs": [
    {
     "data": {
      "text/plain": [
       "Index(['GeneID', 't0(Fe+)', 't6 (Fe+)', 't6 (Fe-)', 't12 (Fe+)', 't12 (Fe-)',\n",
       "       't18 (Fe+)', 't18 (Fe-)', 't24 (Fe+)', 't24 (Fe-)', 't30 (Fe+)',\n",
       "       't30 (Fe-)', 't36 (Fe+)', 't36(Fe-)', 'GeneName'],\n",
       "      dtype='object')"
      ]
     },
     "execution_count": 13,
     "metadata": {},
     "output_type": "execute_result"
    }
   ],
   "source": [
    "DE_genes_epidermis_RPKM = pd.read_csv(os.path.join(data_path, 'GSE228011_rpkm_DE_genes_epidermis.csv.gz'), compression = 'gzip')\n",
    "DE_genes_epidermis_RPKM.columns"
   ]
  },
  {
   "cell_type": "code",
   "execution_count": 14,
   "metadata": {},
   "outputs": [
    {
     "data": {
      "application/vnd.microsoft.datawrangler.viewer.v0+json": {
       "columns": [
        {
         "name": "index",
         "rawType": "int64",
         "type": "integer"
        },
        {
         "name": "GeneID",
         "rawType": "object",
         "type": "string"
        },
        {
         "name": "t0(Fe+)",
         "rawType": "float64",
         "type": "float"
        },
        {
         "name": "t6 (Fe+)",
         "rawType": "float64",
         "type": "float"
        },
        {
         "name": "t6 (Fe-)",
         "rawType": "float64",
         "type": "float"
        },
        {
         "name": "t12 (Fe+)",
         "rawType": "float64",
         "type": "float"
        },
        {
         "name": "t12 (Fe-)",
         "rawType": "float64",
         "type": "float"
        },
        {
         "name": "t18 (Fe+)",
         "rawType": "float64",
         "type": "float"
        },
        {
         "name": "t18 (Fe-)",
         "rawType": "float64",
         "type": "float"
        },
        {
         "name": "t24 (Fe+)",
         "rawType": "float64",
         "type": "float"
        },
        {
         "name": "t24 (Fe-)",
         "rawType": "float64",
         "type": "float"
        },
        {
         "name": "t30 (Fe+)",
         "rawType": "float64",
         "type": "float"
        },
        {
         "name": "t30 (Fe-)",
         "rawType": "float64",
         "type": "float"
        },
        {
         "name": "t36 (Fe+)",
         "rawType": "float64",
         "type": "float"
        },
        {
         "name": "t36(Fe-)",
         "rawType": "float64",
         "type": "float"
        },
        {
         "name": "GeneName",
         "rawType": "object",
         "type": "string"
        }
       ],
       "conversionMethod": "pd.DataFrame",
       "ref": "f327306a-43a1-49b8-92a6-95ffa4e3a126",
       "rows": [
        [
         "0",
         "AT1G03070",
         "671.3393063",
         "346.3705693",
         "534.5581171",
         "544.9180313",
         "548.0793347",
         "552.9255616",
         "531.8057139",
         "561.5208476",
         "646.8305014",
         "546.5319553",
         "511.3584942",
         "618.6424931",
         "466.0281198",
         "unknown"
        ],
        [
         "1",
         "AT1G03090",
         "56.48990899",
         "413.2322069",
         "115.2515911",
         "256.1826471",
         "92.07233697",
         "138.8238459",
         "76.02053554",
         "211.4053461",
         "51.50887988",
         "178.7866298",
         "43.95419705",
         "89.6474165",
         "55.00269224",
         "MCCA"
        ],
        [
         "2",
         "AT1G04610",
         "555.8427212",
         "334.2144281",
         "515.0207558",
         "389.253013",
         "504.6867178",
         "593.0030598",
         "737.0958892",
         "515.2494148",
         "602.2950807",
         "566.374468",
         "633.2931839",
         "449.8953631",
         "435.1543377",
         "YUC3"
        ],
        [
         "3",
         "AT1G04990",
         "442.0630759",
         "305.6875747",
         "386.7437032",
         "306.5713264",
         "360.5001732",
         "332.1707686",
         "373.9651895",
         "420.0780448",
         "374.7902218",
         "349.3001867",
         "377.9684627",
         "422.1885474",
         "398.5440919",
         "unknown"
        ],
        [
         "4",
         "AT1G05560",
         "820.8994473",
         "380.1289088",
         "695.3395147",
         "406.5960998",
         "845.0465693",
         "528.0742465",
         "632.5836435",
         "654.9783334",
         "966.961101",
         "577.2207485",
         "965.8815246",
         "917.4047497",
         "805.2413282",
         "UGT1, UGT75B1"
        ]
       ],
       "shape": {
        "columns": 15,
        "rows": 5
       }
      },
      "text/html": [
       "<div>\n",
       "<style scoped>\n",
       "    .dataframe tbody tr th:only-of-type {\n",
       "        vertical-align: middle;\n",
       "    }\n",
       "\n",
       "    .dataframe tbody tr th {\n",
       "        vertical-align: top;\n",
       "    }\n",
       "\n",
       "    .dataframe thead th {\n",
       "        text-align: right;\n",
       "    }\n",
       "</style>\n",
       "<table border=\"1\" class=\"dataframe\">\n",
       "  <thead>\n",
       "    <tr style=\"text-align: right;\">\n",
       "      <th></th>\n",
       "      <th>GeneID</th>\n",
       "      <th>t0(Fe+)</th>\n",
       "      <th>t6 (Fe+)</th>\n",
       "      <th>t6 (Fe-)</th>\n",
       "      <th>t12 (Fe+)</th>\n",
       "      <th>t12 (Fe-)</th>\n",
       "      <th>t18 (Fe+)</th>\n",
       "      <th>t18 (Fe-)</th>\n",
       "      <th>t24 (Fe+)</th>\n",
       "      <th>t24 (Fe-)</th>\n",
       "      <th>t30 (Fe+)</th>\n",
       "      <th>t30 (Fe-)</th>\n",
       "      <th>t36 (Fe+)</th>\n",
       "      <th>t36(Fe-)</th>\n",
       "      <th>GeneName</th>\n",
       "    </tr>\n",
       "  </thead>\n",
       "  <tbody>\n",
       "    <tr>\n",
       "      <th>0</th>\n",
       "      <td>AT1G03070</td>\n",
       "      <td>671.339306</td>\n",
       "      <td>346.370569</td>\n",
       "      <td>534.558117</td>\n",
       "      <td>544.918031</td>\n",
       "      <td>548.079335</td>\n",
       "      <td>552.925562</td>\n",
       "      <td>531.805714</td>\n",
       "      <td>561.520848</td>\n",
       "      <td>646.830501</td>\n",
       "      <td>546.531955</td>\n",
       "      <td>511.358494</td>\n",
       "      <td>618.642493</td>\n",
       "      <td>466.028120</td>\n",
       "      <td>unknown</td>\n",
       "    </tr>\n",
       "    <tr>\n",
       "      <th>1</th>\n",
       "      <td>AT1G03090</td>\n",
       "      <td>56.489909</td>\n",
       "      <td>413.232207</td>\n",
       "      <td>115.251591</td>\n",
       "      <td>256.182647</td>\n",
       "      <td>92.072337</td>\n",
       "      <td>138.823846</td>\n",
       "      <td>76.020536</td>\n",
       "      <td>211.405346</td>\n",
       "      <td>51.508880</td>\n",
       "      <td>178.786630</td>\n",
       "      <td>43.954197</td>\n",
       "      <td>89.647417</td>\n",
       "      <td>55.002692</td>\n",
       "      <td>MCCA</td>\n",
       "    </tr>\n",
       "    <tr>\n",
       "      <th>2</th>\n",
       "      <td>AT1G04610</td>\n",
       "      <td>555.842721</td>\n",
       "      <td>334.214428</td>\n",
       "      <td>515.020756</td>\n",
       "      <td>389.253013</td>\n",
       "      <td>504.686718</td>\n",
       "      <td>593.003060</td>\n",
       "      <td>737.095889</td>\n",
       "      <td>515.249415</td>\n",
       "      <td>602.295081</td>\n",
       "      <td>566.374468</td>\n",
       "      <td>633.293184</td>\n",
       "      <td>449.895363</td>\n",
       "      <td>435.154338</td>\n",
       "      <td>YUC3</td>\n",
       "    </tr>\n",
       "    <tr>\n",
       "      <th>3</th>\n",
       "      <td>AT1G04990</td>\n",
       "      <td>442.063076</td>\n",
       "      <td>305.687575</td>\n",
       "      <td>386.743703</td>\n",
       "      <td>306.571326</td>\n",
       "      <td>360.500173</td>\n",
       "      <td>332.170769</td>\n",
       "      <td>373.965190</td>\n",
       "      <td>420.078045</td>\n",
       "      <td>374.790222</td>\n",
       "      <td>349.300187</td>\n",
       "      <td>377.968463</td>\n",
       "      <td>422.188547</td>\n",
       "      <td>398.544092</td>\n",
       "      <td>unknown</td>\n",
       "    </tr>\n",
       "    <tr>\n",
       "      <th>4</th>\n",
       "      <td>AT1G05560</td>\n",
       "      <td>820.899447</td>\n",
       "      <td>380.128909</td>\n",
       "      <td>695.339515</td>\n",
       "      <td>406.596100</td>\n",
       "      <td>845.046569</td>\n",
       "      <td>528.074246</td>\n",
       "      <td>632.583643</td>\n",
       "      <td>654.978333</td>\n",
       "      <td>966.961101</td>\n",
       "      <td>577.220749</td>\n",
       "      <td>965.881525</td>\n",
       "      <td>917.404750</td>\n",
       "      <td>805.241328</td>\n",
       "      <td>UGT1, UGT75B1</td>\n",
       "    </tr>\n",
       "  </tbody>\n",
       "</table>\n",
       "</div>"
      ],
      "text/plain": [
       "      GeneID     t0(Fe+)    t6 (Fe+)    t6 (Fe-)   t12 (Fe+)   t12 (Fe-)  \\\n",
       "0  AT1G03070  671.339306  346.370569  534.558117  544.918031  548.079335   \n",
       "1  AT1G03090   56.489909  413.232207  115.251591  256.182647   92.072337   \n",
       "2  AT1G04610  555.842721  334.214428  515.020756  389.253013  504.686718   \n",
       "3  AT1G04990  442.063076  305.687575  386.743703  306.571326  360.500173   \n",
       "4  AT1G05560  820.899447  380.128909  695.339515  406.596100  845.046569   \n",
       "\n",
       "    t18 (Fe+)   t18 (Fe-)   t24 (Fe+)   t24 (Fe-)   t30 (Fe+)   t30 (Fe-)  \\\n",
       "0  552.925562  531.805714  561.520848  646.830501  546.531955  511.358494   \n",
       "1  138.823846   76.020536  211.405346   51.508880  178.786630   43.954197   \n",
       "2  593.003060  737.095889  515.249415  602.295081  566.374468  633.293184   \n",
       "3  332.170769  373.965190  420.078045  374.790222  349.300187  377.968463   \n",
       "4  528.074246  632.583643  654.978333  966.961101  577.220749  965.881525   \n",
       "\n",
       "    t36 (Fe+)    t36(Fe-)       GeneName  \n",
       "0  618.642493  466.028120        unknown  \n",
       "1   89.647417   55.002692           MCCA  \n",
       "2  449.895363  435.154338           YUC3  \n",
       "3  422.188547  398.544092        unknown  \n",
       "4  917.404750  805.241328  UGT1, UGT75B1  "
      ]
     },
     "execution_count": 14,
     "metadata": {},
     "output_type": "execute_result"
    }
   ],
   "source": [
    "DE_genes_epidermis_RPKM.head()"
   ]
  },
  {
   "cell_type": "code",
   "execution_count": 15,
   "metadata": {},
   "outputs": [
    {
     "data": {
      "text/plain": [
       "(806, 15)"
      ]
     },
     "execution_count": 15,
     "metadata": {},
     "output_type": "execute_result"
    }
   ],
   "source": [
    "DE_genes_epidermis_RPKM.shape"
   ]
  },
  {
   "cell_type": "code",
   "execution_count": 16,
   "metadata": {},
   "outputs": [
    {
     "data": {
      "text/plain": [
       "Index(['Run', 'AGE', 'Assay Type', 'AvgSpotLen', 'Bases', 'BioProject',\n",
       "       'BioSample', 'Bytes', 'Center Name', 'collection_date', 'condition',\n",
       "       'Consent', 'DATASTORE filetype', 'DATASTORE provider',\n",
       "       'DATASTORE region', 'Experiment', 'geo_loc_name_country',\n",
       "       'geo_loc_name_country_continent', 'geo_loc_name', 'gfp_localization',\n",
       "       'Instrument', 'Library Name', 'LibraryLayout', 'LibrarySelection',\n",
       "       'LibrarySource', 'Organism', 'Platform', 'ReleaseDate', 'create_date',\n",
       "       'version', 'Sample Name', 'source_name', 'SRA Study', 'tissue',\n",
       "       'treatment'],\n",
       "      dtype='object')"
      ]
     },
     "execution_count": 16,
     "metadata": {},
     "output_type": "execute_result"
    }
   ],
   "source": [
    "SRA_metadata = pd.read_csv(os.path.join(data_path, 'SRARunTable.csv'))\n",
    "SRA_metadata.columns"
   ]
  },
  {
   "cell_type": "markdown",
   "metadata": {},
   "source": [
    "## Testing RPKM Properties"
   ]
  },
  {
   "cell_type": "code",
   "execution_count": 5,
   "metadata": {},
   "outputs": [],
   "source": [
    "example_data_path = '/Users/teaguemcc/Programs/data/cellular_clarity/example_data'\n",
    "X_id = pd.read_csv(os.path.join(example_data_path, 'X_id.csv'))\n",
    "Y = pd.read_csv(os.path.join(example_data_path, 'Y.csv.gz'), compression='gzip', index_col = 0)"
   ]
  },
  {
   "cell_type": "code",
   "execution_count": null,
   "metadata": {},
   "outputs": [
    {
     "data": {
      "text/plain": [
       "LRFN4,grch38_11          20601.0\n",
       "TMEM203,grch38_9         41442.0\n",
       "TMEM14C,grch38_6         27403.0\n",
       "COL5A1,grch38_9          10488.0\n",
       "CPSF2,grch38_14          13434.0\n",
       "                          ...   \n",
       "SSR2,grch38_1           255922.0\n",
       "BAG2,grch38_6            42564.0\n",
       "APEX2,grch38_X           89239.0\n",
       "RNF8,grch38_6            30038.0\n",
       "AP000344.4,grch38_22     43702.0\n",
       "Length: 8413, dtype: float64"
      ]
     },
     "execution_count": 10,
     "metadata": {},
     "output_type": "execute_result"
    }
   ],
   "source": [
    "# Simulate RPKM \n",
    "import numpy as np\n",
    "num_genes = len(Y.columns) # number of genes, columns are genes and rows are samples\n",
    "gene_lengths = np.random.randint(500, 5000, size=num_genes) # get random gene lengths\n",
    "total_mapped_reads = Y.sum(axis=0) # total amount of each gene detected\n"
   ]
  },
  {
   "cell_type": "code",
   "execution_count": null,
   "metadata": {},
   "outputs": [
    {
     "data": {
      "text/plain": [
       "array([2262, 4487, 1195, ..., 1927, 1933, 1080])"
      ]
     },
     "execution_count": 9,
     "metadata": {},
     "output_type": "execute_result"
    }
   ],
   "source": []
  }
 ],
 "metadata": {
  "kernelspec": {
   "display_name": "transcriptomics",
   "language": "python",
   "name": "python3"
  },
  "language_info": {
   "codemirror_mode": {
    "name": "ipython",
    "version": 3
   },
   "file_extension": ".py",
   "mimetype": "text/x-python",
   "name": "python",
   "nbconvert_exporter": "python",
   "pygments_lexer": "ipython3",
   "version": "3.12.2"
  }
 },
 "nbformat": 4,
 "nbformat_minor": 2
}
