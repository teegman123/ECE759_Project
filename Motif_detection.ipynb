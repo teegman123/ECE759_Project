{
 "cells": [
  {
   "cell_type": "markdown",
   "metadata": {},
   "source": [
    "# Motif Detection of Every Gene Detected in Experimental Data"
   ]
  },
  {
   "cell_type": "markdown",
   "metadata": {},
   "source": [
    "Teague McCracken \n",
    "03/30/2025"
   ]
  },
  {
   "cell_type": "code",
   "execution_count": 1,
   "metadata": {},
   "outputs": [],
   "source": [
    "# Initialize the notebook, set environment to transcriptomics\n",
    "import pandas as pd\n",
    "import subprocess\n",
    "import os\n",
    "import multiprocessing\n",
    "from pathlib import Path\n",
    "import numpy as np\n",
    "\n",
    "data_path = '/home/temccrac/Programs/git_clones/ECE759_Project/cellular_clarity'\n",
    "checkpoint_path = '/home/temccrac/Programs/cellular_clarity_project/checkpoints' # on Teague's server "
   ]
  },
  {
   "cell_type": "markdown",
   "metadata": {},
   "source": [
    "## Create the New Reference Genome, trying Araport11"
   ]
  },
  {
   "cell_type": "code",
   "execution_count": 2,
   "metadata": {},
   "outputs": [],
   "source": [
    "# File paths for step 1, had 5324 missing genes\n",
    "gtf = \"/home/temccrac/Programs/data/genomes/Arabidopsis_thaliana.TAIR10.54.gtf\"\n",
    "#gene_list = \"/home/temccrac/Programs/git_clones/ECE759_Project/cellular_clarity/genes_of_interest.txt\" # our results\n",
    "gene_list = \"/home/temccrac/Programs/git_clones/ECE759_Project/cellular_clarity/paperresults/genes_of_interest.txt\"\n",
    "genome_fa = \"/home/temccrac/Programs/data/genomes/Arabidopsis_thaliana.TAIR10.dna.toplevel.fa\"\n",
    "genome_sizes = \"/home/temccrac/Programs/data/genomes/Arabidopsis.genome\""
   ]
  },
  {
   "cell_type": "code",
   "execution_count": 2,
   "metadata": {},
   "outputs": [],
   "source": [
    "# File paths for step 1 using Araport 11 annotations, 2016, had ~2778 missing genes, only 35 are DEGs\n",
    "gtf = \"/home/temccrac/Programs/data/genomes/Araport11/Araport11_renamed.gff\"\n",
    "#gene_list = \"/home/temccrac/Programs/git_clones/ECE759_Project/cellular_clarity/genes_of_interest.txt\" # our results\n",
    "gene_list = \"/home/temccrac/Programs/git_clones/ECE759_Project/cellular_clarity/paperresults/genes_of_interest.txt\"\n",
    "genome_fa = \"/home/temccrac/Programs/data/genomes/Araport11/Arabidopsis_thaliana.TAIR10.dna.toplevel.fa\"\n",
    "genome_sizes = \"/home/temccrac/Programs/data/genomes/Araport11/TAIR10.chrom.sizes\""
   ]
  },
  {
   "cell_type": "code",
   "execution_count": 4,
   "metadata": {},
   "outputs": [],
   "source": [
    "# File paths for step 1 using Araport 11 Mar9 2021 annotations, missing 2900 genes\n",
    "gtf = \"/home/temccrac/Programs/data/genomes/Araport11_2021/Araport11_renamed.gff\"\n",
    "#gene_list = \"/home/temccrac/Programs/git_clones/ECE759_Project/cellular_clarity/genes_of_interest.txt\" # our results\n",
    "gene_list = \"/home/temccrac/Programs/git_clones/ECE759_Project/cellular_clarity/paperresults/genes_of_interest.txt\"\n",
    "genome_fa = \"/home/temccrac/Programs/data/genomes/Araport11_2021/Arabidopsis_thaliana.TAIR10.dna.toplevel.fa\"\n",
    "genome_sizes = \"/home/temccrac/Programs/data/genomes/Araport11_2021/TAIR10.chrom.sizes\""
   ]
  },
  {
   "cell_type": "code",
   "execution_count": 5,
   "metadata": {},
   "outputs": [],
   "source": [
    "# File paths for step 1 using Araport 11 Feb 2022 annotations\n",
    "gtf = \"/home/temccrac/Programs/data/genomes/Araport11_2021/Araport11_renamed.gff\"\n",
    "#gene_list = \"/home/temccrac/Programs/git_clones/ECE759_Project/cellular_clarity/genes_of_interest.txt\" # our results\n",
    "gene_list = \"/home/temccrac/Programs/git_clones/ECE759_Project/cellular_clarity/paperresults/genes_of_interest.txt\"\n",
    "genome_fa = \"/home/temccrac/Programs/data/genomes/Araport11_2021/Arabidopsis_thaliana.TAIR10.dna.toplevel.fa\"\n",
    "genome_sizes = \"/home/temccrac/Programs/data/genomes/Araport11_2021/TAIR10.chrom.sizes\""
   ]
  },
  {
   "cell_type": "markdown",
   "metadata": {},
   "source": [
    "## Step 1 - Extract promoter sequences for each gene"
   ]
  },
  {
   "cell_type": "markdown",
   "metadata": {},
   "source": [
    "Inputs needed: <br>\n",
    "1. gtf_file (reference genome information) <br>\n",
    "2. gene_list_file (detected genes from experiment) <br>\n",
    "3. genome.fa <br>\n",
    "4. genomes size file Arabidopsis.genome (contains genome size information) <br>\n",
    "\n",
    "Outputs: all outputs go to project checkpoint folder <br>\n",
    "1. filtered_gtf (reduced version of Arabidopsis gtf file) <br>\n",
    "2. tss.bed (bed format with transcription start sites) <br>\n",
    "3. promoters.bed (bed format with 1000 bp upstream regions (promoters) of genes) <br>\n",
    "4. promoters.fasta (the final output, sequences of promoter regions of each gene of interest) <br>"
   ]
  },
  {
   "cell_type": "code",
   "execution_count": 10,
   "metadata": {},
   "outputs": [],
   "source": [
    "# Core functions for promoter extraction\n",
    "def filter_gtf_by_genes(gtf_file, gene_list_file, output_gtf):\n",
    "    with open(gene_list_file, 'r') as f:\n",
    "        genes = set(f.read().splitlines())\n",
    "\n",
    "    with open(gtf_file, 'r') as gtf_in, open(output_gtf, 'w') as gtf_out:\n",
    "        for line in gtf_in:\n",
    "            if line.startswith('#'):\n",
    "                continue\n",
    "            if any(gene in line for gene in genes):\n",
    "                gtf_out.write(line)\n",
    "\n",
    "def extract_tss_bed_original(filtered_gtf, output_bed): #with tair .gtf annotations\n",
    "    awk_cmd = (\n",
    "        '''awk '$3 == \"transcript\" {\n",
    "            match($0, /gene_id \"([^\"]+)\"/, m);\n",
    "            gene = m[1];\n",
    "            if ($7 == \"+\") {\n",
    "                print $1 \"\\\\t\" $4-1 \"\\\\t\" $4 \"\\\\t\" gene \"\\\\t.\\\\t\" $7;\n",
    "            } else {\n",
    "                print $1 \"\\\\t\" $5-1 \"\\\\t\" $5 \"\\\\t\" gene \"\\\\t.\\\\t\" $7;\n",
    "            }\n",
    "        }' '''\n",
    "    )\n",
    "    full_cmd = f\"{awk_cmd} {filtered_gtf} > {output_bed}\"\n",
    "    subprocess.run(full_cmd, shell=True, check=True)\n",
    "\n",
    "def extract_tss_bed(filtered_gtf, output_bed): # command for using araport11 .gff\n",
    "    awk_cmd = (\n",
    "    '''awk '$3 == \"mRNA\" {\n",
    "        # Extract the gene ID from \"Parent=...\" in the 9th field\n",
    "        match($9, /Parent=([^;]+)/, m);\n",
    "        gene = m[1];\n",
    "\n",
    "        # For plus-strand, TSS is the start ($4). For minus-strand, TSS is the end ($5).\n",
    "        if ($7 == \"+\") {\n",
    "            print $1 \"\\\\t\" $4-1 \"\\\\t\" $4 \"\\\\t\" gene \"\\\\t.\\\\t\" $7;\n",
    "        } else {\n",
    "            print $1 \"\\\\t\" $5-1 \"\\\\t\" $5 \"\\\\t\" gene \"\\\\t.\\\\t\" $7;\n",
    "        }\n",
    "    }' '''\n",
    "    )\n",
    "    full_cmd = f\"{awk_cmd} {filtered_gtf} > {output_bed}\"\n",
    "    subprocess.run(full_cmd, shell=True, check=True)\n",
    "\n",
    "def create_promoter_bed(tss_bed, genome_sizes, output_bed, length=1000):\n",
    "    with open(output_bed, 'w') as out_f:\n",
    "        subprocess.run([\n",
    "            \"bedtools\", \"flank\",\n",
    "            \"-i\", tss_bed,\n",
    "            \"-g\", genome_sizes,\n",
    "            \"-l\", str(length),\n",
    "            \"-r\", \"0\",\n",
    "            \"-s\"\n",
    "        ], stdout=out_f, check=True)\n",
    "\n",
    "def extract_promoter_fasta(genome_fa, promoter_bed, output_fasta):\n",
    "    subprocess.run([\n",
    "        \"bedtools\", \"getfasta\",\n",
    "        \"-fi\", genome_fa,\n",
    "        \"-bed\", promoter_bed,\n",
    "        \"-fo\", output_fasta,\n",
    "        \"-s\",\n",
    "        \"-name\"  # preserves gene IDs in FASTA headers\n",
    "    ], check=True)\n",
    "\n",
    "# Functions to execute the above commands in parallel\n",
    "def run_promoter_pipeline(chunk_id, gene_list_chunk, gtf, genome_fa, genome_sizes, outdir):\n",
    "    filtered_gtf = f\"{outdir}/filtered_{chunk_id}.gtf\"\n",
    "    tss_bed = f\"{outdir}/tss_{chunk_id}.bed\"\n",
    "    promoter_bed = f\"{outdir}/promoters_{chunk_id}.bed\"\n",
    "    fasta_out = f\"{outdir}/promoters_{chunk_id}.fa\"\n",
    "\n",
    "    # Write chunked gene list\n",
    "    gene_list_file = f\"{outdir}/genes_{chunk_id}.txt\"\n",
    "    with open(gene_list_file, 'w') as f:\n",
    "        f.write('\\n'.join(gene_list_chunk))\n",
    "\n",
    "    # Run sub-steps\n",
    "    filter_gtf_by_genes(gtf, gene_list_file, filtered_gtf)\n",
    "    extract_tss_bed(filtered_gtf, tss_bed)\n",
    "    create_promoter_bed(tss_bed, genome_sizes, promoter_bed)\n",
    "    extract_promoter_fasta(genome_fa, promoter_bed, fasta_out)\n",
    "\n",
    "def parallel_promoter_extraction(genes_file, gtf, genome_fa, genome_sizes, outdir, num_cpus=10):\n",
    "    with open(genes_file) as f:\n",
    "        genes = f.read().splitlines()\n",
    "\n",
    "    # Split gene list into chunks\n",
    "    chunk_size = len(genes) // num_cpus\n",
    "    chunks = [genes[i:i + chunk_size] for i in range(0, len(genes), chunk_size)]\n",
    "\n",
    "    os.makedirs(outdir, exist_ok=True)\n",
    "\n",
    "    args = [(i, chunks[i], gtf, genome_fa, genome_sizes, outdir) for i in range(len(chunks))]\n",
    "    with multiprocessing.Pool(num_cpus) as pool:\n",
    "        pool.starmap(run_promoter_pipeline, args)\n",
    "\n",
    "    # Merge all .fa files\n",
    "    merged_fasta = os.path.join(outdir, \"promoters_merged.fa\")\n",
    "    with open(merged_fasta, 'w') as outfile:\n",
    "        for i in range(len(chunks)):\n",
    "            chunk_fasta = os.path.join(outdir, f\"promoters_{i}.fa\")\n",
    "            with open(chunk_fasta, 'r') as infile:\n",
    "                outfile.write(infile.read())\n",
    "\n",
    "    print(\"✅ All promoters extracted and merged.\")"
   ]
  },
  {
   "cell_type": "code",
   "execution_count": 11,
   "metadata": {},
   "outputs": [
    {
     "name": "stdout",
     "output_type": "stream",
     "text": [
      "✅ All promoters extracted and merged.\n",
      "✅ Promoter FASTA extraction complete.\n"
     ]
    }
   ],
   "source": [
    "# Run steps for Step 1\n",
    "parallel_promoter_extraction(\n",
    "    genes_file=gene_list,\n",
    "    gtf=gtf,\n",
    "    genome_fa=genome_fa,\n",
    "    genome_sizes=genome_sizes,\n",
    "    outdir=checkpoint_path,\n",
    "    num_cpus=10\n",
    ")\n",
    "\n",
    "print(\"✅ Promoter FASTA extraction complete.\")"
   ]
  },
  {
   "cell_type": "markdown",
   "metadata": {},
   "source": [
    "After running, I deleted all the unneccessary intermediate files and kept only the promoter_merged.fa file"
   ]
  },
  {
   "cell_type": "markdown",
   "metadata": {},
   "source": [
    "Now, I check that all the genes of interests have promoters that were saved in the merged promoter file"
   ]
  },
  {
   "cell_type": "code",
   "execution_count": 12,
   "metadata": {},
   "outputs": [
    {
     "name": "stdout",
     "output_type": "stream",
     "text": [
      "✅ Found promoters for 30824 / 33602 genes.\n",
      "❌ Missing 2778 genes:\n",
      "   AT1G52350\n",
      "   AT1G20040\n",
      "   AT1G80250\n",
      "   AT4G21605\n",
      "   AT3G31908\n",
      "   AT2G33950\n",
      "   AT3G28321\n",
      "   AT4G03405\n",
      "   AT1G69110\n",
      "   AT4G34071\n"
     ]
    }
   ],
   "source": [
    "def check_promoter_coverage(gene_list_file, promoters_fasta):\n",
    "    # Read expected gene list\n",
    "    with open(gene_list_file) as f:\n",
    "        expected_genes = set(f.read().splitlines())\n",
    "\n",
    "    # Read FASTA headers and extract gene IDs from lines like \"AT5G23180::5:...\"\n",
    "    with open(promoters_fasta) as f:\n",
    "        found_genes = set(\n",
    "            line[1:].strip().split(\"::\")[0]\n",
    "            for line in f if line.startswith(\">\")\n",
    "        )\n",
    "\n",
    "    missing = expected_genes - found_genes\n",
    "    extra = found_genes - expected_genes\n",
    "\n",
    "    print(f\"✅ Found promoters for {len(found_genes)} / {len(expected_genes)} genes.\")\n",
    "    if missing:\n",
    "        print(f\"❌ Missing {len(missing)} genes:\")\n",
    "        for gene in list(missing)[:10]:\n",
    "            print(\"  \", gene)\n",
    "    else:\n",
    "        print(\"🎉 No missing genes.\")\n",
    "\n",
    "    if extra:\n",
    "        print(f\"⚠️ {len(extra)} unexpected gene(s) in output (not in your original list):\")\n",
    "        for gene in list(extra)[:5]:\n",
    "            print(\"  \", gene)\n",
    "    return missing\n",
    "\n",
    "\n",
    "# Example usage:\n",
    "missing = check_promoter_coverage(\n",
    "    gene_list_file=gene_list,\n",
    "    promoters_fasta=\"/home/temccrac/Programs/cellular_clarity_project/checkpoints/promoters_merged.fa\"\n",
    ")"
   ]
  },
  {
   "cell_type": "markdown",
   "metadata": {},
   "source": [
    "Looking at which ones are missing from the reference annotation and then I will save this for our records"
   ]
  },
  {
   "cell_type": "code",
   "execution_count": 13,
   "metadata": {},
   "outputs": [
    {
     "data": {
      "text/plain": [
       "2704"
      ]
     },
     "execution_count": 13,
     "metadata": {},
     "output_type": "execute_result"
    }
   ],
   "source": [
    "DEGs_pr = pd.read_csv(os.path.join(data_path, 'paperresults/DEGs_clusters_epidermis_paperresults.csv'), index_col=None) # We are working with the Epidermis data\n",
    "notmissing = set(DEGs_pr['AGI']) - set(missing) \n",
    "len(notmissing)"
   ]
  },
  {
   "cell_type": "code",
   "execution_count": 19,
   "metadata": {},
   "outputs": [],
   "source": [
    "missing_DEGs = set(missing).intersection(set(DEGs_pr['AGI']))\n",
    "missing_DEGs = pd.Series(list(missing_DEGs))\n",
    "missing_DEGs.to_csv(os.path.join(data_path, 'Araport11_2016_missingDEGs.txt'), index=False, header=False)"
   ]
  },
  {
   "cell_type": "markdown",
   "metadata": {},
   "source": [
    "## Step 2 - Clustering / DEG Detection"
   ]
  },
  {
   "cell_type": "markdown",
   "metadata": {},
   "source": [
    "I will use the papers DEG and cluster results"
   ]
  },
  {
   "cell_type": "code",
   "execution_count": 15,
   "metadata": {},
   "outputs": [
    {
     "name": "stdout",
     "output_type": "stream",
     "text": [
      "smallest cluster size is 3 genes\n"
     ]
    },
    {
     "data": {
      "application/vnd.microsoft.datawrangler.viewer.v0+json": {
       "columns": [
        {
         "name": "index",
         "rawType": "int64",
         "type": "integer"
        },
        {
         "name": "AGI",
         "rawType": "object",
         "type": "string"
        },
        {
         "name": "Alias",
         "rawType": "object",
         "type": "unknown"
        },
        {
         "name": "cluster_id",
         "rawType": "int64",
         "type": "integer"
        },
        {
         "name": "DE_6",
         "rawType": "int64",
         "type": "integer"
        },
        {
         "name": "DE_12",
         "rawType": "int64",
         "type": "integer"
        },
        {
         "name": "DE_18",
         "rawType": "int64",
         "type": "integer"
        },
        {
         "name": "DE_24",
         "rawType": "int64",
         "type": "integer"
        },
        {
         "name": "DE_30",
         "rawType": "int64",
         "type": "integer"
        },
        {
         "name": "DE_36",
         "rawType": "int64",
         "type": "integer"
        }
       ],
       "conversionMethod": "pd.DataFrame",
       "ref": "94bff60a-b6f5-4bf8-a1df-686276419f59",
       "rows": [
        [
         "0",
         "AT1G01140",
         "CIPK9, PKS6, SnRK3.12",
         "1",
         "1",
         "0",
         "0",
         "0",
         "0",
         "0"
        ],
        [
         "1",
         "AT1G02400",
         "ATGA2OX4, ATGA2OX6, DTA1, GA2OX6",
         "1",
         "0",
         "1",
         "0",
         "0",
         "0",
         "1"
        ],
        [
         "2",
         "AT1G04700",
         null,
         "1",
         "0",
         "0",
         "0",
         "1",
         "0",
         "0"
        ],
        [
         "3",
         "AT1G09080",
         "BIP3",
         "1",
         "1",
         "0",
         "0",
         "0",
         "0",
         "0"
        ],
        [
         "4",
         "AT1G12040",
         "LRX1",
         "1",
         "1",
         "0",
         "0",
         "0",
         "0",
         "0"
        ],
        [
         "5",
         "AT1G19200",
         null,
         "1",
         "1",
         "0",
         "0",
         "1",
         "0",
         "0"
        ],
        [
         "6",
         "AT1G19700",
         "BEL10, BLH10",
         "1",
         "0",
         "0",
         "0",
         "1",
         "0",
         "0"
        ],
        [
         "7",
         "AT1G30270",
         "ATCIPK23, CIPK23, LKS1, PKS17, SnRK3.23",
         "1",
         "1",
         "1",
         "0",
         "1",
         "0",
         "0"
        ],
        [
         "8",
         "AT1G55330",
         "AGP21, ATAGP21",
         "1",
         "1",
         "0",
         "0",
         "0",
         "0",
         "0"
        ],
        [
         "9",
         "AT1G62975",
         null,
         "1",
         "1",
         "0",
         "0",
         "0",
         "0",
         "0"
        ],
        [
         "10",
         "AT1G70750",
         null,
         "1",
         "1",
         "0",
         "0",
         "0",
         "0",
         "0"
        ],
        [
         "11",
         "AT1G72150",
         "PATL1",
         "1",
         "1",
         "0",
         "0",
         "0",
         "0",
         "0"
        ],
        [
         "12",
         "AT1G75620",
         null,
         "1",
         "1",
         "0",
         "0",
         "0",
         "0",
         "0"
        ],
        [
         "13",
         "AT1G76230",
         null,
         "1",
         "1",
         "0",
         "0",
         "1",
         "1",
         "0"
        ],
        [
         "14",
         "AT1G78260",
         null,
         "1",
         "1",
         "0",
         "0",
         "0",
         "0",
         "0"
        ],
        [
         "15",
         "AT2G15300",
         null,
         "1",
         "0",
         "1",
         "0",
         "0",
         "0",
         "0"
        ],
        [
         "16",
         "AT2G15980",
         null,
         "1",
         "1",
         "0",
         "0",
         "0",
         "0",
         "0"
        ],
        [
         "18",
         "AT2G21880",
         "ATRAB7A, ATRABG2, RAB7A",
         "1",
         "1",
         "0",
         "0",
         "0",
         "0",
         "0"
        ],
        [
         "19",
         "AT2G23960",
         null,
         "1",
         "0",
         "0",
         "0",
         "1",
         "0",
         "0"
        ],
        [
         "20",
         "AT2G24260",
         "LRL1",
         "1",
         "0",
         "0",
         "0",
         "1",
         "0",
         "0"
        ],
        [
         "21",
         "AT2G32270",
         "ZIP3",
         "1",
         "0",
         "1",
         "0",
         "0",
         "0",
         "0"
        ],
        [
         "22",
         "AT2G34070",
         "TBL37",
         "1",
         "1",
         "1",
         "0",
         "0",
         "0",
         "0"
        ],
        [
         "23",
         "AT2G45890",
         "ATROPGEF4, GEF4, RHS11, ROPGEF4",
         "1",
         "0",
         "1",
         "0",
         "0",
         "0",
         "0"
        ],
        [
         "24",
         "AT2G46680",
         "ATHB-7, ATHB7, HB-7",
         "1",
         "0",
         "0",
         "0",
         "1",
         "0",
         "0"
        ],
        [
         "25",
         "AT3G01420",
         "ALPHA-DOX1, DIOX1, DOX1, PADOX-1",
         "1",
         "0",
         "0",
         "0",
         "1",
         "0",
         "0"
        ],
        [
         "26",
         "AT3G04010",
         null,
         "1",
         "1",
         "0",
         "0",
         "1",
         "0",
         "0"
        ],
        [
         "27",
         "AT3G12700",
         "NANA",
         "1",
         "1",
         "0",
         "0",
         "1",
         "0",
         "0"
        ],
        [
         "28",
         "AT3G14440",
         "ATNCED3, NCED3, SIS7, STO1",
         "1",
         "1",
         "0",
         "0",
         "1",
         "0",
         "0"
        ],
        [
         "29",
         "AT3G14850",
         "TBL41",
         "1",
         "1",
         "0",
         "0",
         "0",
         "0",
         "0"
        ],
        [
         "30",
         "AT3G16340",
         "ABCG29, AtABCG29, ATPDR1, PDR1",
         "1",
         "1",
         "0",
         "0",
         "0",
         "0",
         "0"
        ],
        [
         "31",
         "AT3G16390",
         "NSP3",
         "1",
         "0",
         "1",
         "0",
         "1",
         "1",
         "0"
        ],
        [
         "32",
         "AT3G21180",
         "ACA9, ATACA9",
         "1",
         "1",
         "0",
         "0",
         "0",
         "0",
         "0"
        ],
        [
         "33",
         "AT3G26700",
         null,
         "1",
         "1",
         "0",
         "0",
         "0",
         "0",
         "0"
        ],
        [
         "34",
         "AT3G28345",
         "ABCB15, MDR13",
         "1",
         "1",
         "1",
         "0",
         "1",
         "1",
         "0"
        ],
        [
         "35",
         "AT3G47220",
         "ATPLC9, PLC9",
         "1",
         "1",
         "0",
         "0",
         "0",
         "0",
         "0"
        ],
        [
         "36",
         "AT3G47420",
         "AtG3Pp1, ATPS3, G3Pp1, PS3",
         "1",
         "1",
         "0",
         "0",
         "1",
         "0",
         "0"
        ],
        [
         "37",
         "AT3G49780",
         "ATPSK3 (FORMER SYMBOL), ATPSK4, PSK4",
         "1",
         "1",
         "0",
         "0",
         "1",
         "0",
         "0"
        ],
        [
         "38",
         "AT3G56930",
         null,
         "1",
         "1",
         "0",
         "0",
         "0",
         "0",
         "0"
        ],
        [
         "39",
         "AT3G61890",
         "ATHB-12, ATHB12, HB-12",
         "1",
         "1",
         "1",
         "0",
         "0",
         "1",
         "0"
        ],
        [
         "40",
         "AT4G13620",
         null,
         "1",
         "1",
         "0",
         "0",
         "0",
         "0",
         "0"
        ],
        [
         "41",
         "AT4G17340",
         "DELTA-TIP2, TIP2;2",
         "1",
         "0",
         "1",
         "0",
         "0",
         "0",
         "0"
        ],
        [
         "42",
         "AT4G18010",
         "5PTASE2, AT5PTASE2, IP5PII",
         "1",
         "1",
         "1",
         "0",
         "1",
         "0",
         "0"
        ],
        [
         "43",
         "AT4G22070",
         "ATWRKY31, WRKY31",
         "1",
         "1",
         "0",
         "0",
         "1",
         "0",
         "0"
        ],
        [
         "44",
         "AT4G25070",
         null,
         "1",
         "1",
         "0",
         "0",
         "0",
         "0",
         "0"
        ],
        [
         "45",
         "AT4G26320",
         "AGP13",
         "1",
         "1",
         "0",
         "0",
         "0",
         "0",
         "0"
        ],
        [
         "46",
         "AT4G27410",
         "ANAC072, RD26",
         "1",
         "1",
         "0",
         "0",
         "1",
         "0",
         "0"
        ],
        [
         "47",
         "AT4G30290",
         "ATXTH19, XTH19",
         "1",
         "1",
         "0",
         "0",
         "0",
         "0",
         "0"
        ],
        [
         "48",
         "AT4G34580",
         "COW1, SRH1",
         "1",
         "0",
         "0",
         "0",
         "1",
         "0",
         "0"
        ],
        [
         "49",
         "AT4G36380",
         "ROT3",
         "1",
         "1",
         "0",
         "0",
         "0",
         "0",
         "0"
        ],
        [
         "50",
         "AT4G40060",
         "ATHB-16, ATHB16, HB16",
         "1",
         "1",
         "0",
         "0",
         "0",
         "0",
         "0"
        ]
       ],
       "shape": {
        "columns": 9,
        "rows": 2704
       }
      },
      "text/html": [
       "<div>\n",
       "<style scoped>\n",
       "    .dataframe tbody tr th:only-of-type {\n",
       "        vertical-align: middle;\n",
       "    }\n",
       "\n",
       "    .dataframe tbody tr th {\n",
       "        vertical-align: top;\n",
       "    }\n",
       "\n",
       "    .dataframe thead th {\n",
       "        text-align: right;\n",
       "    }\n",
       "</style>\n",
       "<table border=\"1\" class=\"dataframe\">\n",
       "  <thead>\n",
       "    <tr style=\"text-align: right;\">\n",
       "      <th></th>\n",
       "      <th>AGI</th>\n",
       "      <th>Alias</th>\n",
       "      <th>cluster_id</th>\n",
       "      <th>DE_6</th>\n",
       "      <th>DE_12</th>\n",
       "      <th>DE_18</th>\n",
       "      <th>DE_24</th>\n",
       "      <th>DE_30</th>\n",
       "      <th>DE_36</th>\n",
       "    </tr>\n",
       "  </thead>\n",
       "  <tbody>\n",
       "    <tr>\n",
       "      <th>0</th>\n",
       "      <td>AT1G01140</td>\n",
       "      <td>CIPK9, PKS6, SnRK3.12</td>\n",
       "      <td>1</td>\n",
       "      <td>1</td>\n",
       "      <td>0</td>\n",
       "      <td>0</td>\n",
       "      <td>0</td>\n",
       "      <td>0</td>\n",
       "      <td>0</td>\n",
       "    </tr>\n",
       "    <tr>\n",
       "      <th>1</th>\n",
       "      <td>AT1G02400</td>\n",
       "      <td>ATGA2OX4, ATGA2OX6, DTA1, GA2OX6</td>\n",
       "      <td>1</td>\n",
       "      <td>0</td>\n",
       "      <td>1</td>\n",
       "      <td>0</td>\n",
       "      <td>0</td>\n",
       "      <td>0</td>\n",
       "      <td>1</td>\n",
       "    </tr>\n",
       "    <tr>\n",
       "      <th>2</th>\n",
       "      <td>AT1G04700</td>\n",
       "      <td>NaN</td>\n",
       "      <td>1</td>\n",
       "      <td>0</td>\n",
       "      <td>0</td>\n",
       "      <td>0</td>\n",
       "      <td>1</td>\n",
       "      <td>0</td>\n",
       "      <td>0</td>\n",
       "    </tr>\n",
       "    <tr>\n",
       "      <th>3</th>\n",
       "      <td>AT1G09080</td>\n",
       "      <td>BIP3</td>\n",
       "      <td>1</td>\n",
       "      <td>1</td>\n",
       "      <td>0</td>\n",
       "      <td>0</td>\n",
       "      <td>0</td>\n",
       "      <td>0</td>\n",
       "      <td>0</td>\n",
       "    </tr>\n",
       "    <tr>\n",
       "      <th>4</th>\n",
       "      <td>AT1G12040</td>\n",
       "      <td>LRX1</td>\n",
       "      <td>1</td>\n",
       "      <td>1</td>\n",
       "      <td>0</td>\n",
       "      <td>0</td>\n",
       "      <td>0</td>\n",
       "      <td>0</td>\n",
       "      <td>0</td>\n",
       "    </tr>\n",
       "    <tr>\n",
       "      <th>...</th>\n",
       "      <td>...</td>\n",
       "      <td>...</td>\n",
       "      <td>...</td>\n",
       "      <td>...</td>\n",
       "      <td>...</td>\n",
       "      <td>...</td>\n",
       "      <td>...</td>\n",
       "      <td>...</td>\n",
       "      <td>...</td>\n",
       "    </tr>\n",
       "    <tr>\n",
       "      <th>2734</th>\n",
       "      <td>AT5G23405</td>\n",
       "      <td>NaN</td>\n",
       "      <td>49</td>\n",
       "      <td>0</td>\n",
       "      <td>0</td>\n",
       "      <td>0</td>\n",
       "      <td>1</td>\n",
       "      <td>0</td>\n",
       "      <td>0</td>\n",
       "    </tr>\n",
       "    <tr>\n",
       "      <th>2735</th>\n",
       "      <td>AT5G62190</td>\n",
       "      <td>PRH75</td>\n",
       "      <td>49</td>\n",
       "      <td>0</td>\n",
       "      <td>0</td>\n",
       "      <td>0</td>\n",
       "      <td>1</td>\n",
       "      <td>0</td>\n",
       "      <td>0</td>\n",
       "    </tr>\n",
       "    <tr>\n",
       "      <th>2736</th>\n",
       "      <td>AT4G03470</td>\n",
       "      <td>NaN</td>\n",
       "      <td>50</td>\n",
       "      <td>1</td>\n",
       "      <td>0</td>\n",
       "      <td>0</td>\n",
       "      <td>0</td>\n",
       "      <td>0</td>\n",
       "      <td>0</td>\n",
       "    </tr>\n",
       "    <tr>\n",
       "      <th>2737</th>\n",
       "      <td>AT4G24770</td>\n",
       "      <td>ATRBP31, ATRBP33, CP31, RBP31</td>\n",
       "      <td>50</td>\n",
       "      <td>1</td>\n",
       "      <td>1</td>\n",
       "      <td>0</td>\n",
       "      <td>0</td>\n",
       "      <td>0</td>\n",
       "      <td>0</td>\n",
       "    </tr>\n",
       "    <tr>\n",
       "      <th>2738</th>\n",
       "      <td>AT5G57920</td>\n",
       "      <td>AtENODL10, ENODL10</td>\n",
       "      <td>50</td>\n",
       "      <td>0</td>\n",
       "      <td>0</td>\n",
       "      <td>0</td>\n",
       "      <td>1</td>\n",
       "      <td>0</td>\n",
       "      <td>0</td>\n",
       "    </tr>\n",
       "  </tbody>\n",
       "</table>\n",
       "<p>2704 rows × 9 columns</p>\n",
       "</div>"
      ],
      "text/plain": [
       "            AGI                             Alias  cluster_id  DE_6  DE_12  \\\n",
       "0     AT1G01140             CIPK9, PKS6, SnRK3.12           1     1      0   \n",
       "1     AT1G02400  ATGA2OX4, ATGA2OX6, DTA1, GA2OX6           1     0      1   \n",
       "2     AT1G04700                               NaN           1     0      0   \n",
       "3     AT1G09080                              BIP3           1     1      0   \n",
       "4     AT1G12040                              LRX1           1     1      0   \n",
       "...         ...                               ...         ...   ...    ...   \n",
       "2734  AT5G23405                               NaN          49     0      0   \n",
       "2735  AT5G62190                             PRH75          49     0      0   \n",
       "2736  AT4G03470                               NaN          50     1      0   \n",
       "2737  AT4G24770     ATRBP31, ATRBP33, CP31, RBP31          50     1      1   \n",
       "2738  AT5G57920                AtENODL10, ENODL10          50     0      0   \n",
       "\n",
       "      DE_18  DE_24  DE_30  DE_36  \n",
       "0         0      0      0      0  \n",
       "1         0      0      0      1  \n",
       "2         0      1      0      0  \n",
       "3         0      0      0      0  \n",
       "4         0      0      0      0  \n",
       "...     ...    ...    ...    ...  \n",
       "2734      0      1      0      0  \n",
       "2735      0      1      0      0  \n",
       "2736      0      0      0      0  \n",
       "2737      0      0      0      0  \n",
       "2738      0      1      0      0  \n",
       "\n",
       "[2704 rows x 9 columns]"
      ]
     },
     "execution_count": 15,
     "metadata": {},
     "output_type": "execute_result"
    }
   ],
   "source": [
    "DEGs_included = DEGs_pr[~DEGs_pr['AGI'].isin(missing_DEGs)]\n",
    "cluster_sizes = DEGs_included['cluster_id'].value_counts()\n",
    "print('smallest cluster size is', cluster_sizes.min(), 'genes')\n",
    "DEGs_included"
   ]
  },
  {
   "cell_type": "markdown",
   "metadata": {},
   "source": [
    "## Step 3 - Motif Detection Using AME"
   ]
  },
  {
   "cell_type": "markdown",
   "metadata": {},
   "source": [
    "combined_motifs.meme is the DAP-Seq database"
   ]
  },
  {
   "cell_type": "code",
   "execution_count": 20,
   "metadata": {},
   "outputs": [],
   "source": [
    "import os\n",
    "import argparse\n",
    "import subprocess\n",
    "import multiprocessing\n",
    "from Bio import SeqIO\n",
    "import random\n",
    "random.seed(33)"
   ]
  },
  {
   "cell_type": "code",
   "execution_count": null,
   "metadata": {},
   "outputs": [],
   "source": [
    "motif_detection_path = '/home/temccrac/Programs/data/cellular_clarity/dap_seq_data/dap_data_v4/ArabidopsisDAPv1.meme'\n",
    "promoters_fasta = '/home/temccrac/Programs/cellular_clarity_project/checkpoints/promoters_Araport11_2016.fa'\n",
    "out_dir = \"/home/temccrac/Programs/cellular_clarity_project/checkpoints/motif_enrichment\"\n",
    "ame_executable = \"/home/temccrac/meme/bin/ame\"                        # AME executable (or provide full path)\n",
    "additional_params = \"\"                        # Additional parameters for AME (if any)\n",
    "cpus = 10                                      # Number of parallel processes\n",
    "\n",
    "\n",
    "foreground_groups = DEGs_included.groupby(\"cluster_id\")[\"AGI\"].apply(list).to_dict()\n",
    "nonDEGs_included = [id for id in list(notmissing) if id not in DEGs_included]\n",
    "# For each cluster, randomly sample a number of genes equal to the size of that cluster\n",
    "background_groups = {}\n",
    "for cluster_id, deg_genes in foreground_groups.items():\n",
    "    n = len(deg_genes)\n",
    "    # Use random.sample to get n genes from notmissing (sampling without replacement)\n",
    "    sampled_genes = random.sample(nonDEGs_included, n)\n",
    "    background_groups[cluster_id] = sampled_genes"
   ]
  },
  {
   "cell_type": "code",
   "execution_count": 22,
   "metadata": {},
   "outputs": [],
   "source": [
    "def run_ame(fg_fasta, bg_fasta, ame_output_dir, motif_detection_path, ame_executable=\"ame\", additional_params=\"\"):\n",
    "    \"\"\"\n",
    "    Runs the AME command using the provided motif file (first positional argument),\n",
    "    the foreground FASTA (second positional argument), and the background FASTA via --control.\n",
    "    \"\"\"\n",
    "    cmd = [\n",
    "        ame_executable,\n",
    "        \"--oc\", ame_output_dir,\n",
    "        \"--control\", bg_fasta,\n",
    "        fg_fasta,               # First positional argument: sequence file (foreground)\n",
    "        motif_detection_path    # Next positional argument: motif file in MEME format\n",
    "    ]\n",
    "    if additional_params:\n",
    "        cmd.extend(additional_params.split())\n",
    "    print(\"Running AME command:\", \" \".join(cmd))\n",
    "    subprocess.run(cmd, check=True)\n",
    "\n",
    "# Function to process one group: create FASTA files and run AME\n",
    "def process_group(group_name, fg_gene_ids, bg_gene_ids, promoters_dict, out_dir, motif_detection_path, ame_executable, additional_params):\n",
    "    # Define output FASTA file paths for foreground and background\n",
    "    fg_fasta = os.path.join(out_dir, f\"{group_name}_foreground.fa\")\n",
    "    bg_fasta = os.path.join(out_dir, f\"{group_name}_background.fa\")\n",
    "    \n",
    "    # Write the foreground FASTA (genes in this group)\n",
    "    with open(fg_fasta, \"w\") as fg_handle:\n",
    "        for gene in fg_gene_ids:\n",
    "            if gene in promoters_dict:\n",
    "                SeqIO.write(promoters_dict[gene], fg_handle, \"fasta\")\n",
    "            else:\n",
    "                print(f\"Warning: Foreground gene {gene} not found in promoters dictionary.\")\n",
    "    \n",
    "    # Write the background FASTA (all other genes for this group)\n",
    "    with open(bg_fasta, \"w\") as bg_handle:\n",
    "        for gene in bg_gene_ids:\n",
    "            if gene in promoters_dict:\n",
    "                SeqIO.write(promoters_dict[gene], bg_handle, \"fasta\")\n",
    "            else:\n",
    "                print(f\"Warning: Background gene {gene} not found in promoters dictionary.\")\n",
    "    \n",
    "    # Create an output directory for AME results for this group\n",
    "    ame_out = os.path.join(out_dir, f\"{group_name}_ame\")\n",
    "    os.makedirs(ame_out, exist_ok=True)\n",
    "    \n",
    "    # Run AME\n",
    "    run_ame(fg_fasta, bg_fasta, ame_out, motif_detection_path, ame_executable, additional_params)\n",
    "\n",
    "# Function to load all promoters from a FASTA file into a dictionary keyed by gene ID\n",
    "def load_promoters(promoters_fasta):\n",
    "    \"\"\"\n",
    "    Loads the large FASTA file of promoters into a dictionary keyed by gene ID.\n",
    "    Assumes that each record's id has the format 'AGI::...'\n",
    "    and uses the part before the first \"::\" as the key.\n",
    "    \"\"\"\n",
    "    promoters = {}\n",
    "    for record in SeqIO.parse(promoters_fasta, \"fasta\"):\n",
    "        # Extract the AGI by splitting on \"::\"\n",
    "        gene_id = record.id.split(\"::\")[0]\n",
    "        promoters[gene_id] = record\n",
    "    return promoters"
   ]
  },
  {
   "cell_type": "code",
   "execution_count": 25,
   "metadata": {},
   "outputs": [
    {
     "name": "stdout",
     "output_type": "stream",
     "text": [
      "Running AME command: /home/temccrac/meme/bin/ame --oc /home/temccrac/Programs/cellular_clarity_project/checkpoints/motif_enrichment/1_ame --control /home/temccrac/Programs/cellular_clarity_project/checkpoints/motif_enrichment/1_background.fa /home/temccrac/Programs/cellular_clarity_project/checkpoints/motif_enrichment/1_foreground.fa /home/temccrac/Programs/data/cellular_clarity/dap_seq_data/dap_data_v4/ArabidopsisDAPv1.meme\n",
      "Running AME command:"
     ]
    },
    {
     "name": "stderr",
     "output_type": "stream",
     "text": [
      "Added /home/temccrac/Programs/data/cellular_clarity/dap_seq_data/dap_data_v4/ArabidopsisDAPv1.meme to motif_sources which now has 1 file names.\n",
      "Motif file name is /home/temccrac/Programs/data/cellular_clarity/dap_seq_data/dap_data_v4/ArabidopsisDAPv1.meme.\n",
      "The output directory '/home/temccrac/Programs/cellular_clarity_project/checkpoints/motif_enrichment/1_ame' already exists.\n",
      "Its contents will be overwritten.\n",
      "E-value threshold for reporting results: 10\n",
      "Checking alphabets in 1 motif files.\n",
      "Loading motifs from file '/home/temccrac/Programs/data/cellular_clarity/dap_seq_data/dap_data_v4/ArabidopsisDAPv1.meme'\n",
      "Loading primary sequences.\n",
      "Loading control sequences.\n",
      "Not in partition maximization mode. Fixing partition at the number of primary sequences (60).\n",
      "MOTIF: 1 SEQ: 120/120\n",
      "Sorting sequences by sequence PWM score to get PWM ranks; breaking ties to put negatives first.\n",
      "Leaving sequences sorted by PWM score.\n",
      "Optimizing over sequence PWM score threshold.\n",
      "Added /home/temccrac/Programs/data/cellular_clarity/dap_seq_data/dap_data_v4/ArabidopsisDAPv1.meme to motif_sources which now has 1 file names.\n",
      "Motif file name is /home/temccrac/Programs/data/cellular_clarity/dap_seq_data/dap_data_v4/ArabidopsisDAPv1.meme.\n",
      "The output directory '/home/temccrac/Programs/cellular_clarity_project/checkpoints/motif_enrichment/3_ame' already exists.\n",
      "Its contents will be overwritten.\n",
      "E-value threshold for reporting results: 10\n",
      "Checking alphabets in 1 motif files.\n",
      "Loading motifs from file '/home/temccrac/Programs/data/cellular_clarity/dap_seq_data/dap_data_v4/ArabidopsisDAPv1.meme'\n",
      "MOTIF: 17 SEQ: 120/120\r"
     ]
    },
    {
     "name": "stdout",
     "output_type": "stream",
     "text": [
      " /home/temccrac/meme/bin/ame --oc /home/temccrac/Programs/cellular_clarity_project/checkpoints/motif_enrichment/3_ame --control /home/temccrac/Programs/cellular_clarity_project/checkpoints/motif_enrichment/3_background.fa /home/temccrac/Programs/cellular_clarity_project/checkpoints/motif_enrichment/3_foreground.fa /home/temccrac/Programs/data/cellular_clarity/dap_seq_data/dap_data_v4/ArabidopsisDAPv1.meme\n"
     ]
    },
    {
     "name": "stderr",
     "output_type": "stream",
     "text": [
      "MOTIF: 28 SEQ: 120/120\r"
     ]
    },
    {
     "name": "stdout",
     "output_type": "stream",
     "text": [
      "Running AME command: /home/temccrac/meme/bin/ame --oc /home/temccrac/Programs/cellular_clarity_project/checkpoints/motif_enrichment/5_ame --control /home/temccrac/Programs/cellular_clarity_project/checkpoints/motif_enrichment/5_background.fa /home/temccrac/Programs/cellular_clarity_project/checkpoints/motif_enrichment/5_foreground.fa /home/temccrac/Programs/data/cellular_clarity/dap_seq_data/dap_data_v4/ArabidopsisDAPv1.meme\n"
     ]
    },
    {
     "name": "stderr",
     "output_type": "stream",
     "text": [
      "Added /home/temccrac/Programs/data/cellular_clarity/dap_seq_data/dap_data_v4/ArabidopsisDAPv1.meme to motif_sources which now has 1 file names.\n",
      "Motif file name is /home/temccrac/Programs/data/cellular_clarity/dap_seq_data/dap_data_v4/ArabidopsisDAPv1.meme.\n",
      "The output directory '/home/temccrac/Programs/cellular_clarity_project/checkpoints/motif_enrichment/5_ame' already exists.\n",
      "Its contents will be overwritten.\n",
      "E-value threshold for reporting results: 10\n",
      "Checking alphabets in 1 motif files.\n",
      "Loading motifs from file '/home/temccrac/Programs/data/cellular_clarity/dap_seq_data/dap_data_v4/ArabidopsisDAPv1.meme'\n",
      "Loading primary sequences.\n",
      "Loading control sequences.\n",
      "Not in partition maximization mode. Fixing partition at the number of primary sequences (93).\n",
      "MOTIF: 1 SEQ: 186/1860\n",
      "Sorting sequences by sequence PWM score to get PWM ranks; breaking ties to put negatives first.\n",
      "Leaving sequences sorted by PWM score.\n",
      "Optimizing over sequence PWM score threshold.\n",
      "MOTIF: 82 SEQ: 120/120\r"
     ]
    },
    {
     "name": "stdout",
     "output_type": "stream",
     "text": [
      "Running AME command: /home/temccrac/meme/bin/ame --oc /home/temccrac/Programs/cellular_clarity_project/checkpoints/motif_enrichment/7_ame --control /home/temccrac/Programs/cellular_clarity_project/checkpoints/motif_enrichment/7_background.fa /home/temccrac/Programs/cellular_clarity_project/checkpoints/motif_enrichment/7_foreground.fa /home/temccrac/Programs/data/cellular_clarity/dap_seq_data/dap_data_v4/ArabidopsisDAPv1.meme\n"
     ]
    },
    {
     "name": "stderr",
     "output_type": "stream",
     "text": [
      "Added /home/temccrac/Programs/data/cellular_clarity/dap_seq_data/dap_data_v4/ArabidopsisDAPv1.meme to motif_sources which now has 1 file names.\n",
      "Motif file name is /home/temccrac/Programs/data/cellular_clarity/dap_seq_data/dap_data_v4/ArabidopsisDAPv1.meme.\n",
      "The output directory '/home/temccrac/Programs/cellular_clarity_project/checkpoints/motif_enrichment/7_ame' already exists.\n",
      "Its contents will be overwritten.\n",
      "E-value threshold for reporting results: 10\n",
      "Checking alphabets in 1 motif files.\n",
      "Loading motifs from file '/home/temccrac/Programs/data/cellular_clarity/dap_seq_data/dap_data_v4/ArabidopsisDAPv1.meme'\n",
      "Loading primary sequences.\n",
      "Loading control sequences.\n",
      "Not in partition maximization mode. Fixing partition at the number of primary sequences (119).\n",
      "MOTIF: 1 SEQ: 238/23860\n",
      "Sorting sequences by sequence PWM score to get PWM ranks; breaking ties to put negatives first.\n",
      "Leaving sequences sorted by PWM score.\n",
      "Optimizing over sequence PWM score threshold.\n",
      "MOTIF: 125 SEQ: 120/120\r"
     ]
    },
    {
     "name": "stdout",
     "output_type": "stream",
     "text": [
      "Running AME command: /home/temccrac/meme/bin/ame --oc /home/temccrac/Programs/cellular_clarity_project/checkpoints/motif_enrichment/9_ame --control /home/temccrac/Programs/cellular_clarity_project/checkpoints/motif_enrichment/9_background.fa /home/temccrac/Programs/cellular_clarity_project/checkpoints/motif_enrichment/9_foreground.fa /home/temccrac/Programs/data/cellular_clarity/dap_seq_data/dap_data_v4/ArabidopsisDAPv1.meme\n"
     ]
    },
    {
     "name": "stderr",
     "output_type": "stream",
     "text": [
      "Loading primary sequences.\n",
      "Loading control sequences.\n",
      "Not in partition maximization mode. Fixing partition at the number of primary sequences (103).\n",
      "MOTIF: 1 SEQ: 206/20620\n",
      "Sorting sequences by sequence PWM score to get PWM ranks; breaking ties to put negatives first.\n",
      "Leaving sequences sorted by PWM score.\n",
      "Optimizing over sequence PWM score threshold.\n",
      "Added /home/temccrac/Programs/data/cellular_clarity/dap_seq_data/dap_data_v4/ArabidopsisDAPv1.meme to motif_sources which now has 1 file names.\n",
      "Motif file name is /home/temccrac/Programs/data/cellular_clarity/dap_seq_data/dap_data_v4/ArabidopsisDAPv1.meme.\n",
      "The output directory '/home/temccrac/Programs/cellular_clarity_project/checkpoints/motif_enrichment/9_ame' already exists.\n",
      "Its contents will be overwritten.\n",
      "E-value threshold for reporting results: 10\n",
      "Checking alphabets in 1 motif files.\n",
      "Loading motifs from file '/home/temccrac/Programs/data/cellular_clarity/dap_seq_data/dap_data_v4/ArabidopsisDAPv1.meme'\n",
      "MOTIF: 29 SEQ: 206/2020"
     ]
    },
    {
     "name": "stdout",
     "output_type": "stream",
     "text": [
      "Running AME command: /home/temccrac/meme/bin/ame --oc /home/temccrac/Programs/cellular_clarity_project/checkpoints/motif_enrichment/11_ame --control /home/temccrac/Programs/cellular_clarity_project/checkpoints/motif_enrichment/11_background.fa /home/temccrac/Programs/cellular_clarity_project/checkpoints/motif_enrichment/11_foreground.fa /home/temccrac/Programs/data/cellular_clarity/dap_seq_data/dap_data_v4/ArabidopsisDAPv1.meme\n"
     ]
    },
    {
     "name": "stderr",
     "output_type": "stream",
     "text": [
      "Loading primary sequences.\n",
      "Loading control sequences.\n",
      "Not in partition maximization mode. Fixing partition at the number of primary sequences (64).\n",
      "MOTIF: 1 SEQ: 128/12860\n",
      "Sorting sequences by sequence PWM score to get PWM ranks; breaking ties to put negatives first.\n",
      "Leaving sequences sorted by PWM score.\n",
      "Optimizing over sequence PWM score threshold.\n",
      "Added /home/temccrac/Programs/data/cellular_clarity/dap_seq_data/dap_data_v4/ArabidopsisDAPv1.meme to motif_sources which now has 1 file names.\n",
      "Motif file name is /home/temccrac/Programs/data/cellular_clarity/dap_seq_data/dap_data_v4/ArabidopsisDAPv1.meme.\n",
      "The output directory '/home/temccrac/Programs/cellular_clarity_project/checkpoints/motif_enrichment/11_ame' already exists.\n",
      "Its contents will be overwritten.\n",
      "E-value threshold for reporting results: 10\n",
      "Checking alphabets in 1 motif files.\n",
      "Loading motifs from file '/home/temccrac/Programs/data/cellular_clarity/dap_seq_data/dap_data_v4/ArabidopsisDAPv1.meme'\n",
      "MOTIF: 52 SEQ: 206/2060\r"
     ]
    },
    {
     "name": "stdout",
     "output_type": "stream",
     "text": [
      "Running AME command: /home/temccrac/meme/bin/ame --oc /home/temccrac/Programs/cellular_clarity_project/checkpoints/motif_enrichment/13_ame --control /home/temccrac/Programs/cellular_clarity_project/checkpoints/motif_enrichment/13_background.fa /home/temccrac/Programs/cellular_clarity_project/checkpoints/motif_enrichment/13_foreground.fa /home/temccrac/Programs/data/cellular_clarity/dap_seq_data/dap_data_v4/ArabidopsisDAPv1.meme\n"
     ]
    },
    {
     "name": "stderr",
     "output_type": "stream",
     "text": [
      "Loading primary sequences.\n",
      "Loading control sequences.\n",
      "Not in partition maximization mode. Fixing partition at the number of primary sequences (27).\n",
      "MOTIF: 1 SEQ: 54/542380\n",
      "Sorting sequences by sequence PWM score to get PWM ranks; breaking ties to put negatives first.\n",
      "Leaving sequences sorted by PWM score.\n",
      "Optimizing over sequence PWM score threshold.\n",
      "Added /home/temccrac/Programs/data/cellular_clarity/dap_seq_data/dap_data_v4/ArabidopsisDAPv1.meme to motif_sources which now has 1 file names.\n",
      "Motif file name is /home/temccrac/Programs/data/cellular_clarity/dap_seq_data/dap_data_v4/ArabidopsisDAPv1.meme.\n",
      "The output directory '/home/temccrac/Programs/cellular_clarity_project/checkpoints/motif_enrichment/13_ame' already exists.\n",
      "Its contents will be overwritten.\n",
      "E-value threshold for reporting results: 10\n",
      "Checking alphabets in 1 motif files.\n",
      "Loading motifs from file '/home/temccrac/Programs/data/cellular_clarity/dap_seq_data/dap_data_v4/ArabidopsisDAPv1.meme'\n",
      "MOTIF: 86 SEQ: 206/2060\r"
     ]
    },
    {
     "name": "stdout",
     "output_type": "stream",
     "text": [
      "Running AME command: /home/temccrac/meme/bin/ame --oc /home/temccrac/Programs/cellular_clarity_project/checkpoints/motif_enrichment/15_ame --control /home/temccrac/Programs/cellular_clarity_project/checkpoints/motif_enrichment/15_background.fa /home/temccrac/Programs/cellular_clarity_project/checkpoints/motif_enrichment/15_foreground.fa /home/temccrac/Programs/data/cellular_clarity/dap_seq_data/dap_data_v4/ArabidopsisDAPv1.meme\n"
     ]
    },
    {
     "name": "stderr",
     "output_type": "stream",
     "text": [
      "Added /home/temccrac/Programs/data/cellular_clarity/dap_seq_data/dap_data_v4/ArabidopsisDAPv1.meme to motif_sources which now has 1 file names.\n",
      "Motif file name is /home/temccrac/Programs/data/cellular_clarity/dap_seq_data/dap_data_v4/ArabidopsisDAPv1.meme.\n",
      "The output directory '/home/temccrac/Programs/cellular_clarity_project/checkpoints/motif_enrichment/15_ame' already exists.\n",
      "Its contents will be overwritten.\n",
      "E-value threshold for reporting results: 10\n",
      "Checking alphabets in 1 motif files.\n",
      "Loading motifs from file '/home/temccrac/Programs/data/cellular_clarity/dap_seq_data/dap_data_v4/ArabidopsisDAPv1.meme'\n",
      "Loading primary sequences.\n",
      "Loading control sequences.\n",
      "Not in partition maximization mode. Fixing partition at the number of primary sequences (69).\n",
      "MOTIF: 1 SEQ: 138/13820\n",
      "Sorting sequences by sequence PWM score to get PWM ranks; breaking ties to put negatives first.\n",
      "Leaving sequences sorted by PWM score.\n",
      "Optimizing over sequence PWM score threshold.\n",
      "MOTIF: 9 SEQ: 138/13886\r"
     ]
    },
    {
     "name": "stdout",
     "output_type": "stream",
     "text": [
      "Running AME command: /home/temccrac/meme/bin/ame --oc /home/temccrac/Programs/cellular_clarity_project/checkpoints/motif_enrichment/17_ame --control /home/temccrac/Programs/cellular_clarity_project/checkpoints/motif_enrichment/17_background.fa /home/temccrac/Programs/cellular_clarity_project/checkpoints/motif_enrichment/17_foreground.fa /home/temccrac/Programs/data/cellular_clarity/dap_seq_data/dap_data_v4/ArabidopsisDAPv1.meme\n"
     ]
    },
    {
     "name": "stderr",
     "output_type": "stream",
     "text": [
      "Added /home/temccrac/Programs/data/cellular_clarity/dap_seq_data/dap_data_v4/ArabidopsisDAPv1.meme to motif_sources which now has 1 file names.\n",
      "Motif file name is /home/temccrac/Programs/data/cellular_clarity/dap_seq_data/dap_data_v4/ArabidopsisDAPv1.meme.\n",
      "The output directory '/home/temccrac/Programs/cellular_clarity_project/checkpoints/motif_enrichment/17_ame' already exists.\n",
      "Its contents will be overwritten.\n",
      "E-value threshold for reporting results: 10\n",
      "Checking alphabets in 1 motif files.\n",
      "Loading motifs from file '/home/temccrac/Programs/data/cellular_clarity/dap_seq_data/dap_data_v4/ArabidopsisDAPv1.meme'\n",
      "Loading primary sequences.\n",
      "Loading control sequences.\n",
      "Not in partition maximization mode. Fixing partition at the number of primary sequences (72).\n",
      "MOTIF: 1 SEQ: 144/14420\n",
      "Sorting sequences by sequence PWM score to get PWM ranks; breaking ties to put negatives first.\n",
      "Leaving sequences sorted by PWM score.\n",
      "Optimizing over sequence PWM score threshold.\n",
      "MOTIF: 8 SEQ: 144/14428\r"
     ]
    },
    {
     "name": "stdout",
     "output_type": "stream",
     "text": [
      "Running AME command: /home/temccrac/meme/bin/ame --oc /home/temccrac/Programs/cellular_clarity_project/checkpoints/motif_enrichment/19_ame --control /home/temccrac/Programs/cellular_clarity_project/checkpoints/motif_enrichment/19_background.fa /home/temccrac/Programs/cellular_clarity_project/checkpoints/motif_enrichment/19_foreground.fa /home/temccrac/Programs/data/cellular_clarity/dap_seq_data/dap_data_v4/ArabidopsisDAPv1.meme\n"
     ]
    },
    {
     "name": "stderr",
     "output_type": "stream",
     "text": [
      "Loading primary sequences.\n",
      "Loading control sequences.\n",
      "Not in partition maximization mode. Fixing partition at the number of primary sequences (56).\n",
      "MOTIF: 1 SEQ: 112/11248\n",
      "Sorting sequences by sequence PWM score to get PWM ranks; breaking ties to put negatives first.\n",
      "Leaving sequences sorted by PWM score.\n",
      "Optimizing over sequence PWM score threshold.\n",
      "Added /home/temccrac/Programs/data/cellular_clarity/dap_seq_data/dap_data_v4/ArabidopsisDAPv1.meme to motif_sources which now has 1 file names.\n",
      "Motif file name is /home/temccrac/Programs/data/cellular_clarity/dap_seq_data/dap_data_v4/ArabidopsisDAPv1.meme.\n",
      "The output directory '/home/temccrac/Programs/cellular_clarity_project/checkpoints/motif_enrichment/19_ame' already exists.\n",
      "Its contents will be overwritten.\n",
      "E-value threshold for reporting results: 10\n",
      "Checking alphabets in 1 motif files.\n",
      "Loading motifs from file '/home/temccrac/Programs/data/cellular_clarity/dap_seq_data/dap_data_v4/ArabidopsisDAPv1.meme'\n",
      "Loading primary sequences.\n",
      "Loading control sequences.\n",
      "Not in partition maximization mode. Fixing partition at the number of primary sequences (76).\n",
      "MOTIF: 1 SEQ: 152/15220\n",
      "Sorting sequences by sequence PWM score to get PWM ranks; breaking ties to put negatives first.\n",
      "Leaving sequences sorted by PWM score.\n",
      "Optimizing over sequence PWM score threshold.\n",
      "MOTIF: 201 SEQ: 112/112\r"
     ]
    },
    {
     "name": "stdout",
     "output_type": "stream",
     "text": [
      "Running AME command: /home/temccrac/meme/bin/ame --oc /home/temccrac/Programs/cellular_clarity_project/checkpoints/motif_enrichment/12_ame --control /home/temccrac/Programs/cellular_clarity_project/checkpoints/motif_enrichment/12_background.fa /home/temccrac/Programs/cellular_clarity_project/checkpoints/motif_enrichment/12_foreground.fa /home/temccrac/Programs/data/cellular_clarity/dap_seq_data/dap_data_v4/ArabidopsisDAPv1.meme\n"
     ]
    },
    {
     "name": "stderr",
     "output_type": "stream",
     "text": [
      "MOTIF: 872 SEQ: 54/5428\n",
      "Added /home/temccrac/Programs/data/cellular_clarity/dap_seq_data/dap_data_v4/ArabidopsisDAPv1.meme to motif_sources which now has 1 file names.\n",
      "Motif file name is /home/temccrac/Programs/data/cellular_clarity/dap_seq_data/dap_data_v4/ArabidopsisDAPv1.meme.\n",
      "The output directory '/home/temccrac/Programs/cellular_clarity_project/checkpoints/motif_enrichment/12_ame' already exists.\n",
      "Its contents will be overwritten.\n",
      "E-value threshold for reporting results: 10\n",
      "Checking alphabets in 1 motif files.\n",
      "Loading motifs from file '/home/temccrac/Programs/data/cellular_clarity/dap_seq_data/dap_data_v4/ArabidopsisDAPv1.meme'\n",
      "Loading primary sequences.\n",
      "Loading control sequences.\n",
      "Not in partition maximization mode. Fixing partition at the number of primary sequences (85).\n",
      "MOTIF: 1 SEQ: 170/17012\n",
      "Sorting sequences by sequence PWM score to get PWM ranks; breaking ties to put negatives first.\n",
      "Leaving sequences sorted by PWM score.\n",
      "Optimizing over sequence PWM score threshold.\n",
      "MOTIF: 457 SEQ: 138/138\r"
     ]
    },
    {
     "name": "stdout",
     "output_type": "stream",
     "text": [
      "Running AME command: /home/temccrac/meme/bin/ame --oc /home/temccrac/Programs/cellular_clarity_project/checkpoints/motif_enrichment/2_ame --control /home/temccrac/Programs/cellular_clarity_project/checkpoints/motif_enrichment/2_background.fa /home/temccrac/Programs/cellular_clarity_project/checkpoints/motif_enrichment/2_foreground.fa /home/temccrac/Programs/data/cellular_clarity/dap_seq_data/dap_data_v4/ArabidopsisDAPv1.meme\n"
     ]
    },
    {
     "name": "stderr",
     "output_type": "stream",
     "text": [
      "MOTIF: 872 SEQ: 120/120\n",
      "Added /home/temccrac/Programs/data/cellular_clarity/dap_seq_data/dap_data_v4/ArabidopsisDAPv1.meme to motif_sources which now has 1 file names.\n",
      "Motif file name is /home/temccrac/Programs/data/cellular_clarity/dap_seq_data/dap_data_v4/ArabidopsisDAPv1.meme.\n",
      "The output directory '/home/temccrac/Programs/cellular_clarity_project/checkpoints/motif_enrichment/2_ame' already exists.\n",
      "Its contents will be overwritten.\n",
      "E-value threshold for reporting results: 10\n",
      "Checking alphabets in 1 motif files.\n",
      "Loading motifs from file '/home/temccrac/Programs/data/cellular_clarity/dap_seq_data/dap_data_v4/ArabidopsisDAPv1.meme'\n",
      "Loading primary sequences.\n",
      "Loading control sequences.\n",
      "Not in partition maximization mode. Fixing partition at the number of primary sequences (63).\n",
      "MOTIF: 1 SEQ: 126/12628\n",
      "Sorting sequences by sequence PWM score to get PWM ranks; breaking ties to put negatives first.\n",
      "Leaving sequences sorted by PWM score.\n",
      "Optimizing over sequence PWM score threshold.\n",
      "MOTIF: 865 SEQ: 128/128\r"
     ]
    },
    {
     "name": "stdout",
     "output_type": "stream",
     "text": [
      "Running AME command: /home/temccrac/meme/bin/ame --oc /home/temccrac/Programs/cellular_clarity_project/checkpoints/motif_enrichment/10_ame --control /home/temccrac/Programs/cellular_clarity_project/checkpoints/motif_enrichment/10_background.fa /home/temccrac/Programs/cellular_clarity_project/checkpoints/motif_enrichment/10_foreground.fa /home/temccrac/Programs/data/cellular_clarity/dap_seq_data/dap_data_v4/ArabidopsisDAPv1.meme\n"
     ]
    },
    {
     "name": "stderr",
     "output_type": "stream",
     "text": [
      "MOTIF: 872 SEQ: 128/128\n",
      "Added /home/temccrac/Programs/data/cellular_clarity/dap_seq_data/dap_data_v4/ArabidopsisDAPv1.meme to motif_sources which now has 1 file names.\n",
      "Motif file name is /home/temccrac/Programs/data/cellular_clarity/dap_seq_data/dap_data_v4/ArabidopsisDAPv1.meme.\n",
      "The output directory '/home/temccrac/Programs/cellular_clarity_project/checkpoints/motif_enrichment/10_ame' already exists.\n",
      "Its contents will be overwritten.\n",
      "E-value threshold for reporting results: 10\n",
      "Checking alphabets in 1 motif files.\n",
      "Loading motifs from file '/home/temccrac/Programs/data/cellular_clarity/dap_seq_data/dap_data_v4/ArabidopsisDAPv1.meme'\n",
      "Loading primary sequences.\n",
      "Loading control sequences.\n",
      "Not in partition maximization mode. Fixing partition at the number of primary sequences (49).\n",
      "MOTIF: 1 SEQ: 98/98/112\n",
      "Sorting sequences by sequence PWM score to get PWM ranks; breaking ties to put negatives first.\n",
      "Leaving sequences sorted by PWM score.\n",
      "Optimizing over sequence PWM score threshold.\n",
      "MOTIF: 627 SEQ: 206/206\r"
     ]
    },
    {
     "name": "stdout",
     "output_type": "stream",
     "text": [
      "Running AME command: /home/temccrac/meme/bin/ame --oc /home/temccrac/Programs/cellular_clarity_project/checkpoints/motif_enrichment/18_ame --control /home/temccrac/Programs/cellular_clarity_project/checkpoints/motif_enrichment/18_background.fa /home/temccrac/Programs/cellular_clarity_project/checkpoints/motif_enrichment/18_foreground.fa /home/temccrac/Programs/data/cellular_clarity/dap_seq_data/dap_data_v4/ArabidopsisDAPv1.meme\n"
     ]
    },
    {
     "name": "stderr",
     "output_type": "stream",
     "text": [
      "MOTIF: 872 SEQ: 112/112\n",
      "Added /home/temccrac/Programs/data/cellular_clarity/dap_seq_data/dap_data_v4/ArabidopsisDAPv1.meme to motif_sources which now has 1 file names.\n",
      "Motif file name is /home/temccrac/Programs/data/cellular_clarity/dap_seq_data/dap_data_v4/ArabidopsisDAPv1.meme.\n",
      "The output directory '/home/temccrac/Programs/cellular_clarity_project/checkpoints/motif_enrichment/18_ame' already exists.\n",
      "Its contents will be overwritten.\n",
      "E-value threshold for reporting results: 10\n",
      "Checking alphabets in 1 motif files.\n",
      "Loading motifs from file '/home/temccrac/Programs/data/cellular_clarity/dap_seq_data/dap_data_v4/ArabidopsisDAPv1.meme'\n",
      "Loading primary sequences.\n",
      "Loading control sequences.\n",
      "Not in partition maximization mode. Fixing partition at the number of primary sequences (52).\n",
      "MOTIF: 630 SEQ: 152/152\r"
     ]
    },
    {
     "name": "stdout",
     "output_type": "stream",
     "text": [
      "Running AME command: /home/temccrac/meme/bin/ame --oc /home/temccrac/Programs/cellular_clarity_project/checkpoints/motif_enrichment/14_ame --control /home/temccrac/Programs/cellular_clarity_project/checkpoints/motif_enrichment/14_background.fa /home/temccrac/Programs/cellular_clarity_project/checkpoints/motif_enrichment/14_foreground.fa /home/temccrac/Programs/data/cellular_clarity/dap_seq_data/dap_data_v4/ArabidopsisDAPv1.meme\n"
     ]
    },
    {
     "name": "stderr",
     "output_type": "stream",
     "text": [
      "MOTIF: 1 SEQ: 104/10470\n",
      "Sorting sequences by sequence PWM score to get PWM ranks; breaking ties to put negatives first.\n",
      "Leaving sequences sorted by PWM score.\n",
      "Optimizing over sequence PWM score threshold.\n",
      "MOTIF: 872 SEQ: 138/138\n",
      "Added /home/temccrac/Programs/data/cellular_clarity/dap_seq_data/dap_data_v4/ArabidopsisDAPv1.meme to motif_sources which now has 1 file names.\n",
      "Motif file name is /home/temccrac/Programs/data/cellular_clarity/dap_seq_data/dap_data_v4/ArabidopsisDAPv1.meme.\n",
      "The output directory '/home/temccrac/Programs/cellular_clarity_project/checkpoints/motif_enrichment/14_ame' already exists.\n",
      "Its contents will be overwritten.\n",
      "E-value threshold for reporting results: 10\n",
      "Checking alphabets in 1 motif files.\n",
      "Loading motifs from file '/home/temccrac/Programs/data/cellular_clarity/dap_seq_data/dap_data_v4/ArabidopsisDAPv1.meme'\n",
      "MOTIF: 85 SEQ: 104/1046\r"
     ]
    },
    {
     "name": "stdout",
     "output_type": "stream",
     "text": [
      "Running AME command: /home/temccrac/meme/bin/ame --oc /home/temccrac/Programs/cellular_clarity_project/checkpoints/motif_enrichment/4_ame --control /home/temccrac/Programs/cellular_clarity_project/checkpoints/motif_enrichment/4_background.fa /home/temccrac/Programs/cellular_clarity_project/checkpoints/motif_enrichment/4_foreground.fa /home/temccrac/Programs/data/cellular_clarity/dap_seq_data/dap_data_v4/ArabidopsisDAPv1.meme\n"
     ]
    },
    {
     "name": "stderr",
     "output_type": "stream",
     "text": [
      "Loading primary sequences.\n",
      "Loading control sequences.\n",
      "Not in partition maximization mode. Fixing partition at the number of primary sequences (62).\n",
      "MOTIF: 872 SEQ: 186/186\n",
      "MOTIF: 1 SEQ: 124/1244\n",
      "Sorting sequences by sequence PWM score to get PWM ranks; breaking ties to put negatives first.\n",
      "Leaving sequences sorted by PWM score.\n",
      "Optimizing over sequence PWM score threshold.\n",
      "Added /home/temccrac/Programs/data/cellular_clarity/dap_seq_data/dap_data_v4/ArabidopsisDAPv1.meme to motif_sources which now has 1 file names.\n",
      "Motif file name is /home/temccrac/Programs/data/cellular_clarity/dap_seq_data/dap_data_v4/ArabidopsisDAPv1.meme.\n",
      "The output directory '/home/temccrac/Programs/cellular_clarity_project/checkpoints/motif_enrichment/4_ame' already exists.\n",
      "Its contents will be overwritten.\n",
      "E-value threshold for reporting results: 10\n",
      "Checking alphabets in 1 motif files.\n",
      "Loading motifs from file '/home/temccrac/Programs/data/cellular_clarity/dap_seq_data/dap_data_v4/ArabidopsisDAPv1.meme'\n",
      "MOTIF: 489 SEQ: 170/170\r"
     ]
    },
    {
     "name": "stdout",
     "output_type": "stream",
     "text": [
      "Running AME command: /home/temccrac/meme/bin/ame --oc /home/temccrac/Programs/cellular_clarity_project/checkpoints/motif_enrichment/16_ame --control /home/temccrac/Programs/cellular_clarity_project/checkpoints/motif_enrichment/16_background.fa /home/temccrac/Programs/cellular_clarity_project/checkpoints/motif_enrichment/16_foreground.fa /home/temccrac/Programs/data/cellular_clarity/dap_seq_data/dap_data_v4/ArabidopsisDAPv1.meme\n"
     ]
    },
    {
     "name": "stderr",
     "output_type": "stream",
     "text": [
      "MOTIF: 872 SEQ: 144/144\n",
      "Loading primary sequences.\n",
      "Loading control sequences.\n",
      "Not in partition maximization mode. Fixing partition at the number of primary sequences (56).\n",
      "MOTIF: 1 SEQ: 112/11204\n",
      "Sorting sequences by sequence PWM score to get PWM ranks; breaking ties to put negatives first.\n",
      "Leaving sequences sorted by PWM score.\n",
      "Optimizing over sequence PWM score threshold.\n",
      "Added /home/temccrac/Programs/data/cellular_clarity/dap_seq_data/dap_data_v4/ArabidopsisDAPv1.meme to motif_sources which now has 1 file names.\n",
      "Motif file name is /home/temccrac/Programs/data/cellular_clarity/dap_seq_data/dap_data_v4/ArabidopsisDAPv1.meme.\n",
      "The output directory '/home/temccrac/Programs/cellular_clarity_project/checkpoints/motif_enrichment/16_ame' already exists.\n",
      "Its contents will be overwritten.\n",
      "E-value threshold for reporting results: 10\n",
      "Checking alphabets in 1 motif files.\n",
      "Loading motifs from file '/home/temccrac/Programs/data/cellular_clarity/dap_seq_data/dap_data_v4/ArabidopsisDAPv1.meme'\n",
      "Loading primary sequences.\n",
      "Loading control sequences.\n",
      "Not in partition maximization mode. Fixing partition at the number of primary sequences (17).\n",
      "MOTIF: 1 SEQ: 34/34/206\n",
      "Sorting sequences by sequence PWM score to get PWM ranks; breaking ties to put negatives first.\n",
      "Leaving sequences sorted by PWM score.\n",
      "Optimizing over sequence PWM score threshold.\n",
      "MOTIF: 459 SEQ: 98/9812\r"
     ]
    },
    {
     "name": "stdout",
     "output_type": "stream",
     "text": [
      "Running AME command: /home/temccrac/meme/bin/ame --oc /home/temccrac/Programs/cellular_clarity_project/checkpoints/motif_enrichment/20_ame --control /home/temccrac/Programs/cellular_clarity_project/checkpoints/motif_enrichment/20_background.fa /home/temccrac/Programs/cellular_clarity_project/checkpoints/motif_enrichment/20_foreground.fa /home/temccrac/Programs/data/cellular_clarity/dap_seq_data/dap_data_v4/ArabidopsisDAPv1.meme\n",
      "Running AME command: /home/temccrac/meme/bin/ame --oc /home/temccrac/Programs/cellular_clarity_project/checkpoints/motif_enrichment/8_ame --control /home/temccrac/Programs/cellular_clarity_project/checkpoints/motif_enrichment/8_background.fa /home/temccrac/Programs/cellular_clarity_project/checkpoints/motif_enrichment/8_foreground.fa /home/temccrac/Programs/data/cellular_clarity/dap_seq_data/dap_data_v4/ArabidopsisDAPv1.meme\n"
     ]
    },
    {
     "name": "stderr",
     "output_type": "stream",
     "text": [
      "MOTIF: 872 SEQ: 152/152\n",
      "Added /home/temccrac/Programs/data/cellular_clarity/dap_seq_data/dap_data_v4/ArabidopsisDAPv1.meme to motif_sources which now has 1 file names.\n",
      "Motif file name is /home/temccrac/Programs/data/cellular_clarity/dap_seq_data/dap_data_v4/ArabidopsisDAPv1.meme.\n",
      "The output directory '/home/temccrac/Programs/cellular_clarity_project/checkpoints/motif_enrichment/20_ame' already exists.\n",
      "Its contents will be overwritten.\n",
      "E-value threshold for reporting results: 10\n",
      "Checking alphabets in 1 motif files.\n",
      "Loading motifs from file '/home/temccrac/Programs/data/cellular_clarity/dap_seq_data/dap_data_v4/ArabidopsisDAPv1.meme'\n",
      "MOTIF: 872 SEQ: 206/206\n",
      "Added /home/temccrac/Programs/data/cellular_clarity/dap_seq_data/dap_data_v4/ArabidopsisDAPv1.meme to motif_sources which now has 1 file names.\n",
      "Motif file name is /home/temccrac/Programs/data/cellular_clarity/dap_seq_data/dap_data_v4/ArabidopsisDAPv1.meme.\n",
      "The output directory '/home/temccrac/Programs/cellular_clarity_project/checkpoints/motif_enrichment/8_ame' already exists.\n",
      "Its contents will be overwritten.\n",
      "E-value threshold for reporting results: 10\n",
      "Checking alphabets in 1 motif files.\n",
      "Loading motifs from file '/home/temccrac/Programs/data/cellular_clarity/dap_seq_data/dap_data_v4/ArabidopsisDAPv1.meme'\n",
      "Loading primary sequences.\n",
      "Loading control sequences.\n",
      "Not in partition maximization mode. Fixing partition at the number of primary sequences (24).\n",
      "MOTIF: 1 SEQ: 48/48/238\n",
      "Sorting sequences by sequence PWM score to get PWM ranks; breaking ties to put negatives first.\n",
      "Leaving sequences sorted by PWM score.\n",
      "Optimizing over sequence PWM score threshold.\n",
      "Loading primary sequences.\n",
      "Loading control sequences.\n",
      "Not in partition maximization mode. Fixing partition at the number of primary sequences (34).\n",
      "MOTIF: 1 SEQ: 68/688104\n",
      "Sorting sequences by sequence PWM score to get PWM ranks; breaking ties to put negatives first.\n",
      "Leaving sequences sorted by PWM score.\n",
      "Optimizing over sequence PWM score threshold.\n",
      "MOTIF: 242 SEQ: 48/4870\n",
      "MOTIF: 824 SEQ: 126/126\r"
     ]
    },
    {
     "name": "stdout",
     "output_type": "stream",
     "text": [
      "Running AME command: /home/temccrac/meme/bin/ame --oc /home/temccrac/Programs/cellular_clarity_project/checkpoints/motif_enrichment/21_ame --control /home/temccrac/Programs/cellular_clarity_project/checkpoints/motif_enrichment/21_background.fa /home/temccrac/Programs/cellular_clarity_project/checkpoints/motif_enrichment/21_foreground.fa /home/temccrac/Programs/data/cellular_clarity/dap_seq_data/dap_data_v4/ArabidopsisDAPv1.meme\n",
      "Running AME command: /home/temccrac/meme/bin/ame --oc /home/temccrac/Programs/cellular_clarity_project/checkpoints/motif_enrichment/6_ame --control /home/temccrac/Programs/cellular_clarity_project/checkpoints/motif_enrichment/6_background.fa /home/temccrac/Programs/cellular_clarity_project/checkpoints/motif_enrichment/6_foreground.fa /home/temccrac/Programs/data/cellular_clarity/dap_seq_data/dap_data_v4/ArabidopsisDAPv1.meme\n"
     ]
    },
    {
     "name": "stderr",
     "output_type": "stream",
     "text": [
      "Added /home/temccrac/Programs/data/cellular_clarity/dap_seq_data/dap_data_v4/ArabidopsisDAPv1.meme to motif_sources which now has 1 file names.\n",
      "Motif file name is /home/temccrac/Programs/data/cellular_clarity/dap_seq_data/dap_data_v4/ArabidopsisDAPv1.meme.\n",
      "The output directory '/home/temccrac/Programs/cellular_clarity_project/checkpoints/motif_enrichment/21_ame' already exists.\n",
      "Its contents will be overwritten.\n",
      "E-value threshold for reporting results: 10\n",
      "Checking alphabets in 1 motif files.\n",
      "Loading motifs from file '/home/temccrac/Programs/data/cellular_clarity/dap_seq_data/dap_data_v4/ArabidopsisDAPv1.meme'\n",
      "MOTIF: 391 SEQ: 112/112\n",
      "Added /home/temccrac/Programs/data/cellular_clarity/dap_seq_data/dap_data_v4/ArabidopsisDAPv1.meme to motif_sources which now has 1 file names.\n",
      "Motif file name is /home/temccrac/Programs/data/cellular_clarity/dap_seq_data/dap_data_v4/ArabidopsisDAPv1.meme.\n",
      "The output directory '/home/temccrac/Programs/cellular_clarity_project/checkpoints/motif_enrichment/6_ame' already exists.\n",
      "Its contents will be overwritten.\n",
      "E-value threshold for reporting results: 10\n",
      "Checking alphabets in 1 motif files.\n",
      "Loading motifs from file '/home/temccrac/Programs/data/cellular_clarity/dap_seq_data/dap_data_v4/ArabidopsisDAPv1.meme'\n",
      "MOTIF: 872 SEQ: 126/126\n",
      "MOTIF: 477 SEQ: 48/4804\r"
     ]
    },
    {
     "name": "stdout",
     "output_type": "stream",
     "text": [
      "Running AME command: /home/temccrac/meme/bin/ame --oc /home/temccrac/Programs/cellular_clarity_project/checkpoints/motif_enrichment/23_ame --control /home/temccrac/Programs/cellular_clarity_project/checkpoints/motif_enrichment/23_background.fa /home/temccrac/Programs/cellular_clarity_project/checkpoints/motif_enrichment/23_foreground.fa /home/temccrac/Programs/data/cellular_clarity/dap_seq_data/dap_data_v4/ArabidopsisDAPv1.meme\n"
     ]
    },
    {
     "name": "stderr",
     "output_type": "stream",
     "text": [
      "Loading primary sequences.\n",
      "Loading control sequences.\n",
      "Not in partition maximization mode. Fixing partition at the number of primary sequences (47).\n",
      "MOTIF: 1 SEQ: 94/944824\n",
      "Sorting sequences by sequence PWM score to get PWM ranks; breaking ties to put negatives first.\n",
      "Leaving sequences sorted by PWM score.\n",
      "Optimizing over sequence PWM score threshold.\n",
      "Loading primary sequences.\n",
      "Loading control sequences.\n",
      "Not in partition maximization mode. Fixing partition at the number of primary sequences (37).\n",
      "MOTIF: 1 SEQ: 74/746804\n",
      "Sorting sequences by sequence PWM score to get PWM ranks; breaking ties to put negatives first.\n",
      "Leaving sequences sorted by PWM score.\n",
      "Optimizing over sequence PWM score threshold.\n",
      "Added /home/temccrac/Programs/data/cellular_clarity/dap_seq_data/dap_data_v4/ArabidopsisDAPv1.meme to motif_sources which now has 1 file names.\n",
      "Motif file name is /home/temccrac/Programs/data/cellular_clarity/dap_seq_data/dap_data_v4/ArabidopsisDAPv1.meme.\n",
      "The output directory '/home/temccrac/Programs/cellular_clarity_project/checkpoints/motif_enrichment/23_ame' already exists.\n",
      "Its contents will be overwritten.\n",
      "E-value threshold for reporting results: 10\n",
      "Checking alphabets in 1 motif files.\n",
      "Loading motifs from file '/home/temccrac/Programs/data/cellular_clarity/dap_seq_data/dap_data_v4/ArabidopsisDAPv1.meme'\n",
      "Loading primary sequences.\n",
      "Loading control sequences.\n",
      "Not in partition maximization mode. Fixing partition at the number of primary sequences (45).\n",
      "MOTIF: 1 SEQ: 90/90/124\n",
      "Sorting sequences by sequence PWM score to get PWM ranks; breaking ties to put negatives first.\n",
      "Leaving sequences sorted by PWM score.\n",
      "Optimizing over sequence PWM score threshold.\n",
      "MOTIF: 872 SEQ: 98/9824\n",
      "MOTIF: 682 SEQ: 48/4870\n",
      "MOTIF: 748 SEQ: 104/104\r"
     ]
    },
    {
     "name": "stdout",
     "output_type": "stream",
     "text": [
      "Running AME command: /home/temccrac/meme/bin/ame --oc /home/temccrac/Programs/cellular_clarity_project/checkpoints/motif_enrichment/25_ame --control /home/temccrac/Programs/cellular_clarity_project/checkpoints/motif_enrichment/25_background.fa /home/temccrac/Programs/cellular_clarity_project/checkpoints/motif_enrichment/25_foreground.fa /home/temccrac/Programs/data/cellular_clarity/dap_seq_data/dap_data_v4/ArabidopsisDAPv1.meme\n"
     ]
    },
    {
     "name": "stderr",
     "output_type": "stream",
     "text": [
      "Added /home/temccrac/Programs/data/cellular_clarity/dap_seq_data/dap_data_v4/ArabidopsisDAPv1.meme to motif_sources which now has 1 file names.\n",
      "Motif file name is /home/temccrac/Programs/data/cellular_clarity/dap_seq_data/dap_data_v4/ArabidopsisDAPv1.meme.\n",
      "The output directory '/home/temccrac/Programs/cellular_clarity_project/checkpoints/motif_enrichment/25_ame' already exists.\n",
      "Its contents will be overwritten.\n",
      "E-value threshold for reporting results: 10\n",
      "Checking alphabets in 1 motif files.\n",
      "Loading motifs from file '/home/temccrac/Programs/data/cellular_clarity/dap_seq_data/dap_data_v4/ArabidopsisDAPv1.meme'\n",
      "MOTIF: 872 SEQ: 48/4812\n",
      "MOTIF: 218 SEQ: 74/7412\r"
     ]
    },
    {
     "name": "stdout",
     "output_type": "stream",
     "text": [
      "Running AME command: /home/temccrac/meme/bin/ame --oc /home/temccrac/Programs/cellular_clarity_project/checkpoints/motif_enrichment/27_ame --control /home/temccrac/Programs/cellular_clarity_project/checkpoints/motif_enrichment/27_background.fa /home/temccrac/Programs/cellular_clarity_project/checkpoints/motif_enrichment/27_foreground.fa /home/temccrac/Programs/data/cellular_clarity/dap_seq_data/dap_data_v4/ArabidopsisDAPv1.meme\n",
      "Running AME command:"
     ]
    },
    {
     "name": "stderr",
     "output_type": "stream",
     "text": [
      "Loading primary sequences.\n",
      "Loading control sequences.\n",
      "Not in partition maximization mode. Fixing partition at the number of primary sequences (56).\n",
      "MOTIF: 1 SEQ: 112/11212\n",
      "Sorting sequences by sequence PWM score to get PWM ranks; breaking ties to put negatives first.\n",
      "Leaving sequences sorted by PWM score.\n",
      "Optimizing over sequence PWM score threshold.\n",
      "Added /home/temccrac/Programs/data/cellular_clarity/dap_seq_data/dap_data_v4/ArabidopsisDAPv1.meme to motif_sources which now has 1 file names.\n",
      "Motif file name is /home/temccrac/Programs/data/cellular_clarity/dap_seq_data/dap_data_v4/ArabidopsisDAPv1.meme.\n",
      "The output directory '/home/temccrac/Programs/cellular_clarity_project/checkpoints/motif_enrichment/27_ame' already exists.\n",
      "Its contents will be overwritten.\n",
      "E-value threshold for reporting results: 10\n",
      "Checking alphabets in 1 motif files.\n",
      "Loading motifs from file '/home/temccrac/Programs/data/cellular_clarity/dap_seq_data/dap_data_v4/ArabidopsisDAPv1.meme'\n",
      "MOTIF: 872 SEQ: 104/104\n",
      "MOTIF: 670 SEQ: 112/112"
     ]
    },
    {
     "name": "stdout",
     "output_type": "stream",
     "text": [
      " /home/temccrac/meme/bin/ame --oc /home/temccrac/Programs/cellular_clarity_project/checkpoints/motif_enrichment/29_ame --control /home/temccrac/Programs/cellular_clarity_project/checkpoints/motif_enrichment/29_background.fa /home/temccrac/Programs/cellular_clarity_project/checkpoints/motif_enrichment/29_foreground.fa /home/temccrac/Programs/data/cellular_clarity/dap_seq_data/dap_data_v4/ArabidopsisDAPv1.meme\n"
     ]
    },
    {
     "name": "stderr",
     "output_type": "stream",
     "text": [
      "Loading primary sequences.\n",
      "Loading control sequences.\n",
      "Not in partition maximization mode. Fixing partition at the number of primary sequences (39).\n",
      "MOTIF: 1 SEQ: 78/781122\n",
      "Sorting sequences by sequence PWM score to get PWM ranks; breaking ties to put negatives first.\n",
      "Leaving sequences sorted by PWM score.\n",
      "Optimizing over sequence PWM score threshold.\n",
      "Added /home/temccrac/Programs/data/cellular_clarity/dap_seq_data/dap_data_v4/ArabidopsisDAPv1.meme to motif_sources which now has 1 file names.\n",
      "Motif file name is /home/temccrac/Programs/data/cellular_clarity/dap_seq_data/dap_data_v4/ArabidopsisDAPv1.meme.\n",
      "The output directory '/home/temccrac/Programs/cellular_clarity_project/checkpoints/motif_enrichment/29_ame' already exists.\n",
      "Its contents will be overwritten.\n",
      "E-value threshold for reporting results: 10\n",
      "Checking alphabets in 1 motif files.\n",
      "Loading motifs from file '/home/temccrac/Programs/data/cellular_clarity/dap_seq_data/dap_data_v4/ArabidopsisDAPv1.meme'\n",
      "MOTIF: 422 SEQ: 74/7412\r"
     ]
    },
    {
     "name": "stdout",
     "output_type": "stream",
     "text": [
      "Running AME command: /home/temccrac/meme/bin/ame --oc /home/temccrac/Programs/cellular_clarity_project/checkpoints/motif_enrichment/31_ame --control /home/temccrac/Programs/cellular_clarity_project/checkpoints/motif_enrichment/31_background.fa /home/temccrac/Programs/cellular_clarity_project/checkpoints/motif_enrichment/31_foreground.fa /home/temccrac/Programs/data/cellular_clarity/dap_seq_data/dap_data_v4/ArabidopsisDAPv1.meme\n"
     ]
    },
    {
     "name": "stderr",
     "output_type": "stream",
     "text": [
      "Loading primary sequences.\n",
      "Loading control sequences.\n",
      "Not in partition maximization mode. Fixing partition at the number of primary sequences (59).\n",
      "MOTIF: 1 SEQ: 118/11824\n",
      "Sorting sequences by sequence PWM score to get PWM ranks; breaking ties to put negatives first.\n",
      "Leaving sequences sorted by PWM score.\n",
      "Optimizing over sequence PWM score threshold.\n",
      "Added /home/temccrac/Programs/data/cellular_clarity/dap_seq_data/dap_data_v4/ArabidopsisDAPv1.meme to motif_sources which now has 1 file names.\n",
      "Motif file name is /home/temccrac/Programs/data/cellular_clarity/dap_seq_data/dap_data_v4/ArabidopsisDAPv1.meme.\n",
      "The output directory '/home/temccrac/Programs/cellular_clarity_project/checkpoints/motif_enrichment/31_ame' already exists.\n",
      "Its contents will be overwritten.\n",
      "E-value threshold for reporting results: 10\n",
      "Checking alphabets in 1 motif files.\n",
      "Loading motifs from file '/home/temccrac/Programs/data/cellular_clarity/dap_seq_data/dap_data_v4/ArabidopsisDAPv1.meme'\n",
      "MOTIF: 872 SEQ: 68/6812\n",
      "MOTIF: 343 SEQ: 90/9012\r"
     ]
    },
    {
     "name": "stdout",
     "output_type": "stream",
     "text": [
      "Running AME command: /home/temccrac/meme/bin/ame --oc /home/temccrac/Programs/cellular_clarity_project/checkpoints/motif_enrichment/33_ame --control /home/temccrac/Programs/cellular_clarity_project/checkpoints/motif_enrichment/33_background.fa /home/temccrac/Programs/cellular_clarity_project/checkpoints/motif_enrichment/33_foreground.fa /home/temccrac/Programs/data/cellular_clarity/dap_seq_data/dap_data_v4/ArabidopsisDAPv1.meme\n"
     ]
    },
    {
     "name": "stderr",
     "output_type": "stream",
     "text": [
      "Loading primary sequences.\n",
      "Loading control sequences.\n",
      "Not in partition maximization mode. Fixing partition at the number of primary sequences (104).\n",
      "MOTIF: 1 SEQ: 208/20824\n",
      "Sorting sequences by sequence PWM score to get PWM ranks; breaking ties to put negatives first.\n",
      "Leaving sequences sorted by PWM score.\n",
      "Optimizing over sequence PWM score threshold.\n",
      "Added /home/temccrac/Programs/data/cellular_clarity/dap_seq_data/dap_data_v4/ArabidopsisDAPv1.meme to motif_sources which now has 1 file names.\n",
      "Motif file name is /home/temccrac/Programs/data/cellular_clarity/dap_seq_data/dap_data_v4/ArabidopsisDAPv1.meme.\n",
      "The output directory '/home/temccrac/Programs/cellular_clarity_project/checkpoints/motif_enrichment/33_ame' already exists.\n",
      "Its contents will be overwritten.\n",
      "E-value threshold for reporting results: 10\n",
      "Checking alphabets in 1 motif files.\n",
      "Loading motifs from file '/home/temccrac/Programs/data/cellular_clarity/dap_seq_data/dap_data_v4/ArabidopsisDAPv1.meme'\n",
      "MOTIF: 872 SEQ: 112/112\n",
      "Loading primary sequences.\n",
      "Loading control sequences.\n",
      "Not in partition maximization mode. Fixing partition at the number of primary sequences (99).\n",
      "MOTIF: 1 SEQ: 198/19824\n",
      "Sorting sequences by sequence PWM score to get PWM ranks; breaking ties to put negatives first.\n",
      "Leaving sequences sorted by PWM score.\n",
      "Optimizing over sequence PWM score threshold.\n",
      "MOTIF: 651 SEQ: 74/7412\r"
     ]
    },
    {
     "name": "stdout",
     "output_type": "stream",
     "text": [
      "Running AME command: /home/temccrac/meme/bin/ame --oc /home/temccrac/Programs/cellular_clarity_project/checkpoints/motif_enrichment/35_ame --control /home/temccrac/Programs/cellular_clarity_project/checkpoints/motif_enrichment/35_background.fa /home/temccrac/Programs/cellular_clarity_project/checkpoints/motif_enrichment/35_foreground.fa /home/temccrac/Programs/data/cellular_clarity/dap_seq_data/dap_data_v4/ArabidopsisDAPv1.meme\n",
      "Running AME command:"
     ]
    },
    {
     "name": "stderr",
     "output_type": "stream",
     "text": [
      "MOTIF: 14 SEQ: 198/1984\n",
      "Added /home/temccrac/Programs/data/cellular_clarity/dap_seq_data/dap_data_v4/ArabidopsisDAPv1.meme to motif_sources which now has 1 file names.\n",
      "Motif file name is /home/temccrac/Programs/data/cellular_clarity/dap_seq_data/dap_data_v4/ArabidopsisDAPv1.meme.\n",
      "The output directory '/home/temccrac/Programs/cellular_clarity_project/checkpoints/motif_enrichment/35_ame' already exists.\n",
      "Its contents will be overwritten.\n",
      "E-value threshold for reporting results: 10\n",
      "Checking alphabets in 1 motif files.\n",
      "Loading motifs from file '/home/temccrac/Programs/data/cellular_clarity/dap_seq_data/dap_data_v4/ArabidopsisDAPv1.meme'\n",
      "MOTIF: 390 SEQ: 112/112"
     ]
    },
    {
     "name": "stdout",
     "output_type": "stream",
     "text": [
      " /home/temccrac/meme/bin/ame --oc /home/temccrac/Programs/cellular_clarity_project/checkpoints/motif_enrichment/37_ame --control /home/temccrac/Programs/cellular_clarity_project/checkpoints/motif_enrichment/37_background.fa /home/temccrac/Programs/cellular_clarity_project/checkpoints/motif_enrichment/37_foreground.fa /home/temccrac/Programs/data/cellular_clarity/dap_seq_data/dap_data_v4/ArabidopsisDAPv1.meme\n"
     ]
    },
    {
     "name": "stderr",
     "output_type": "stream",
     "text": [
      "Loading primary sequences.\n",
      "Loading control sequences.\n",
      "Not in partition maximization mode. Fixing partition at the number of primary sequences (32).\n",
      "MOTIF: 1 SEQ: 64/647418\n",
      "Sorting sequences by sequence PWM score to get PWM ranks; breaking ties to put negatives first.\n",
      "Leaving sequences sorted by PWM score.\n",
      "Optimizing over sequence PWM score threshold.\n",
      "Added /home/temccrac/Programs/data/cellular_clarity/dap_seq_data/dap_data_v4/ArabidopsisDAPv1.meme to motif_sources which now has 1 file names.\n",
      "Motif file name is /home/temccrac/Programs/data/cellular_clarity/dap_seq_data/dap_data_v4/ArabidopsisDAPv1.meme.\n",
      "The output directory '/home/temccrac/Programs/cellular_clarity_project/checkpoints/motif_enrichment/37_ame' already exists.\n",
      "Its contents will be overwritten.\n",
      "E-value threshold for reporting results: 10\n",
      "Checking alphabets in 1 motif files.\n",
      "Loading motifs from file '/home/temccrac/Programs/data/cellular_clarity/dap_seq_data/dap_data_v4/ArabidopsisDAPv1.meme'\n",
      "MOTIF: 872 SEQ: 74/7418\n",
      "Loading primary sequences.\n",
      "Loading control sequences.\n",
      "Not in partition maximization mode. Fixing partition at the number of primary sequences (33).\n",
      "MOTIF: 1 SEQ: 66/66/118\n",
      "Sorting sequences by sequence PWM score to get PWM ranks; breaking ties to put negatives first.\n",
      "Leaving sequences sorted by PWM score.\n",
      "Optimizing over sequence PWM score threshold.\n",
      "MOTIF: 707 SEQ: 94/9418\r"
     ]
    },
    {
     "name": "stdout",
     "output_type": "stream",
     "text": [
      "Running AME command: /home/temccrac/meme/bin/ame --oc /home/temccrac/Programs/cellular_clarity_project/checkpoints/motif_enrichment/39_ame --control /home/temccrac/Programs/cellular_clarity_project/checkpoints/motif_enrichment/39_background.fa /home/temccrac/Programs/cellular_clarity_project/checkpoints/motif_enrichment/39_foreground.fa /home/temccrac/Programs/data/cellular_clarity/dap_seq_data/dap_data_v4/ArabidopsisDAPv1.meme\n"
     ]
    },
    {
     "name": "stderr",
     "output_type": "stream",
     "text": [
      "Added /home/temccrac/Programs/data/cellular_clarity/dap_seq_data/dap_data_v4/ArabidopsisDAPv1.meme to motif_sources which now has 1 file names.\n",
      "Motif file name is /home/temccrac/Programs/data/cellular_clarity/dap_seq_data/dap_data_v4/ArabidopsisDAPv1.meme.\n",
      "The output directory '/home/temccrac/Programs/cellular_clarity_project/checkpoints/motif_enrichment/39_ame' already exists.\n",
      "Its contents will be overwritten.\n",
      "E-value threshold for reporting results: 10\n",
      "Checking alphabets in 1 motif files.\n",
      "Loading motifs from file '/home/temccrac/Programs/data/cellular_clarity/dap_seq_data/dap_data_v4/ArabidopsisDAPv1.meme'\n",
      "Loading primary sequences.\n",
      "Loading control sequences.\n",
      "Not in partition maximization mode. Fixing partition at the number of primary sequences (85).\n",
      "MOTIF: 132 SEQ: 66/6698\n",
      "Sorting sequences by sequence PWM score to get PWM ranks; breaking ties to put negatives first.\n",
      "Leaving sequences sorted by PWM score.\n",
      "Optimizing over sequence PWM score threshold.\n",
      "MOTIF: 346 SEQ: 118/118\r"
     ]
    },
    {
     "name": "stdout",
     "output_type": "stream",
     "text": [
      "Running AME command: /home/temccrac/meme/bin/ame --oc /home/temccrac/Programs/cellular_clarity_project/checkpoints/motif_enrichment/22_ame --control /home/temccrac/Programs/cellular_clarity_project/checkpoints/motif_enrichment/22_background.fa /home/temccrac/Programs/cellular_clarity_project/checkpoints/motif_enrichment/22_foreground.fa /home/temccrac/Programs/data/cellular_clarity/dap_seq_data/dap_data_v4/ArabidopsisDAPv1.meme\n"
     ]
    },
    {
     "name": "stderr",
     "output_type": "stream",
     "text": [
      "MOTIF: 872 SEQ: 94/9412\n",
      "Added /home/temccrac/Programs/data/cellular_clarity/dap_seq_data/dap_data_v4/ArabidopsisDAPv1.meme to motif_sources which now has 1 file names.\n",
      "Motif file name is /home/temccrac/Programs/data/cellular_clarity/dap_seq_data/dap_data_v4/ArabidopsisDAPv1.meme.\n",
      "The output directory '/home/temccrac/Programs/cellular_clarity_project/checkpoints/motif_enrichment/22_ame' already exists.\n",
      "Its contents will be overwritten.\n",
      "E-value threshold for reporting results: 10\n",
      "Checking alphabets in 1 motif files.\n",
      "Loading motifs from file '/home/temccrac/Programs/data/cellular_clarity/dap_seq_data/dap_data_v4/ArabidopsisDAPv1.meme'\n",
      "MOTIF: 391 SEQ: 118/118\r"
     ]
    },
    {
     "name": "stdout",
     "output_type": "stream",
     "text": [
      "Running AME command: /home/temccrac/meme/bin/ame --oc /home/temccrac/Programs/cellular_clarity_project/checkpoints/motif_enrichment/24_ame --control /home/temccrac/Programs/cellular_clarity_project/checkpoints/motif_enrichment/24_background.fa /home/temccrac/Programs/cellular_clarity_project/checkpoints/motif_enrichment/24_foreground.fa /home/temccrac/Programs/data/cellular_clarity/dap_seq_data/dap_data_v4/ArabidopsisDAPv1.meme\n"
     ]
    },
    {
     "name": "stderr",
     "output_type": "stream",
     "text": [
      "MOTIF: 872 SEQ: 90/9018\n",
      "Added /home/temccrac/Programs/data/cellular_clarity/dap_seq_data/dap_data_v4/ArabidopsisDAPv1.meme to motif_sources which now has 1 file names.\n",
      "Motif file name is /home/temccrac/Programs/data/cellular_clarity/dap_seq_data/dap_data_v4/ArabidopsisDAPv1.meme.\n",
      "The output directory '/home/temccrac/Programs/cellular_clarity_project/checkpoints/motif_enrichment/24_ame' already exists.\n",
      "Its contents will be overwritten.\n",
      "E-value threshold for reporting results: 10\n",
      "Checking alphabets in 1 motif files.\n",
      "Loading motifs from file '/home/temccrac/Programs/data/cellular_clarity/dap_seq_data/dap_data_v4/ArabidopsisDAPv1.meme'\n",
      "Loading primary sequences.\n",
      "Loading control sequences.\n",
      "Not in partition maximization mode. Fixing partition at the number of primary sequences (81).\n",
      "MOTIF: 1 SEQ: 162/16212\n",
      "Sorting sequences by sequence PWM score to get PWM ranks; breaking ties to put negatives first.\n",
      "Leaving sequences sorted by PWM score.\n",
      "Optimizing over sequence PWM score threshold.\n",
      "MOTIF: 504 SEQ: 64/6408\r"
     ]
    },
    {
     "name": "stdout",
     "output_type": "stream",
     "text": [
      "Running AME command: /home/temccrac/meme/bin/ame --oc /home/temccrac/Programs/cellular_clarity_project/checkpoints/motif_enrichment/28_ame --control /home/temccrac/Programs/cellular_clarity_project/checkpoints/motif_enrichment/28_background.fa /home/temccrac/Programs/cellular_clarity_project/checkpoints/motif_enrichment/28_foreground.fa /home/temccrac/Programs/data/cellular_clarity/dap_seq_data/dap_data_v4/ArabidopsisDAPv1.meme\n"
     ]
    },
    {
     "name": "stderr",
     "output_type": "stream",
     "text": [
      "Loading primary sequences.\n",
      "Loading control sequences.\n",
      "Not in partition maximization mode. Fixing partition at the number of primary sequences (64).\n",
      "MOTIF: 1 SEQ: 128/12818\n",
      "Sorting sequences by sequence PWM score to get PWM ranks; breaking ties to put negatives first.\n",
      "Leaving sequences sorted by PWM score.\n",
      "Optimizing over sequence PWM score threshold.\n",
      "MOTIF: 872 SEQ: 78/7898\n",
      "Added /home/temccrac/Programs/data/cellular_clarity/dap_seq_data/dap_data_v4/ArabidopsisDAPv1.meme to motif_sources which now has 1 file names.\n",
      "Motif file name is /home/temccrac/Programs/data/cellular_clarity/dap_seq_data/dap_data_v4/ArabidopsisDAPv1.meme.\n",
      "The output directory '/home/temccrac/Programs/cellular_clarity_project/checkpoints/motif_enrichment/28_ame' already exists.\n",
      "Its contents will be overwritten.\n",
      "E-value threshold for reporting results: 10\n",
      "Checking alphabets in 1 motif files.\n",
      "Loading motifs from file '/home/temccrac/Programs/data/cellular_clarity/dap_seq_data/dap_data_v4/ArabidopsisDAPv1.meme'\n",
      "Loading primary sequences.\n",
      "Loading control sequences.\n",
      "Not in partition maximization mode. Fixing partition at the number of primary sequences (65).\n",
      "MOTIF: 1 SEQ: 130/13012\n",
      "Sorting sequences by sequence PWM score to get PWM ranks; breaking ties to put negatives first.\n",
      "Leaving sequences sorted by PWM score.\n",
      "Optimizing over sequence PWM score threshold.\n",
      "MOTIF: 844 SEQ: 64/6412\r"
     ]
    },
    {
     "name": "stdout",
     "output_type": "stream",
     "text": [
      "Running AME command: /home/temccrac/meme/bin/ame --oc /home/temccrac/Programs/cellular_clarity_project/checkpoints/motif_enrichment/36_ame --control /home/temccrac/Programs/cellular_clarity_project/checkpoints/motif_enrichment/36_background.fa /home/temccrac/Programs/cellular_clarity_project/checkpoints/motif_enrichment/36_foreground.fa /home/temccrac/Programs/data/cellular_clarity/dap_seq_data/dap_data_v4/ArabidopsisDAPv1.meme\n"
     ]
    },
    {
     "name": "stderr",
     "output_type": "stream",
     "text": [
      "MOTIF: 872 SEQ: 64/6430\n",
      "Added /home/temccrac/Programs/data/cellular_clarity/dap_seq_data/dap_data_v4/ArabidopsisDAPv1.meme to motif_sources which now has 1 file names.\n",
      "Motif file name is /home/temccrac/Programs/data/cellular_clarity/dap_seq_data/dap_data_v4/ArabidopsisDAPv1.meme.\n",
      "The output directory '/home/temccrac/Programs/cellular_clarity_project/checkpoints/motif_enrichment/36_ame' already exists.\n",
      "Its contents will be overwritten.\n",
      "E-value threshold for reporting results: 10\n",
      "Checking alphabets in 1 motif files.\n",
      "Loading motifs from file '/home/temccrac/Programs/data/cellular_clarity/dap_seq_data/dap_data_v4/ArabidopsisDAPv1.meme'\n",
      "MOTIF: 872 SEQ: 112/112\n",
      "MOTIF: 118 SEQ: 130/130\r"
     ]
    },
    {
     "name": "stdout",
     "output_type": "stream",
     "text": [
      "Running AME command: /home/temccrac/meme/bin/ame --oc /home/temccrac/Programs/cellular_clarity_project/checkpoints/motif_enrichment/26_ame --control /home/temccrac/Programs/cellular_clarity_project/checkpoints/motif_enrichment/26_background.fa /home/temccrac/Programs/cellular_clarity_project/checkpoints/motif_enrichment/26_foreground.fa /home/temccrac/Programs/data/cellular_clarity/dap_seq_data/dap_data_v4/ArabidopsisDAPv1.meme\n"
     ]
    },
    {
     "name": "stderr",
     "output_type": "stream",
     "text": [
      "Added /home/temccrac/Programs/data/cellular_clarity/dap_seq_data/dap_data_v4/ArabidopsisDAPv1.meme to motif_sources which now has 1 file names.\n",
      "Motif file name is /home/temccrac/Programs/data/cellular_clarity/dap_seq_data/dap_data_v4/ArabidopsisDAPv1.meme.\n",
      "The output directory '/home/temccrac/Programs/cellular_clarity_project/checkpoints/motif_enrichment/26_ame' already exists.\n",
      "Its contents will be overwritten.\n",
      "E-value threshold for reporting results: 10\n",
      "Checking alphabets in 1 motif files.\n",
      "Loading motifs from file '/home/temccrac/Programs/data/cellular_clarity/dap_seq_data/dap_data_v4/ArabidopsisDAPv1.meme'\n",
      "Loading primary sequences.\n",
      "Loading control sequences.\n",
      "Not in partition maximization mode. Fixing partition at the number of primary sequences (60).\n",
      "MOTIF: 1 SEQ: 120/12030\n",
      "Sorting sequences by sequence PWM score to get PWM ranks; breaking ties to put negatives first.\n",
      "Leaving sequences sorted by PWM score.\n",
      "Optimizing over sequence PWM score threshold.\n",
      "MOTIF: 823 SEQ: 66/6628\r"
     ]
    },
    {
     "name": "stdout",
     "output_type": "stream",
     "text": [
      "Running AME command: /home/temccrac/meme/bin/ame --oc /home/temccrac/Programs/cellular_clarity_project/checkpoints/motif_enrichment/38_ame --control /home/temccrac/Programs/cellular_clarity_project/checkpoints/motif_enrichment/38_background.fa /home/temccrac/Programs/cellular_clarity_project/checkpoints/motif_enrichment/38_foreground.fa /home/temccrac/Programs/data/cellular_clarity/dap_seq_data/dap_data_v4/ArabidopsisDAPv1.meme\n"
     ]
    },
    {
     "name": "stderr",
     "output_type": "stream",
     "text": [
      "Loading primary sequences.\n",
      "Loading control sequences.\n",
      "Not in partition maximization mode. Fixing partition at the number of primary sequences (59).\n",
      "MOTIF: 1 SEQ: 118/11898\n",
      "Sorting sequences by sequence PWM score to get PWM ranks; breaking ties to put negatives first.\n",
      "Leaving sequences sorted by PWM score.\n",
      "Optimizing over sequence PWM score threshold.\n",
      "MOTIF: 872 SEQ: 66/6630\n",
      "Added /home/temccrac/Programs/data/cellular_clarity/dap_seq_data/dap_data_v4/ArabidopsisDAPv1.meme to motif_sources which now has 1 file names.\n",
      "Motif file name is /home/temccrac/Programs/data/cellular_clarity/dap_seq_data/dap_data_v4/ArabidopsisDAPv1.meme.\n",
      "The output directory '/home/temccrac/Programs/cellular_clarity_project/checkpoints/motif_enrichment/38_ame' already exists.\n",
      "Its contents will be overwritten.\n",
      "E-value threshold for reporting results: 10\n",
      "Checking alphabets in 1 motif files.\n",
      "Loading motifs from file '/home/temccrac/Programs/data/cellular_clarity/dap_seq_data/dap_data_v4/ArabidopsisDAPv1.meme'\n",
      "Loading primary sequences.\n",
      "Loading control sequences.\n",
      "Not in partition maximization mode. Fixing partition at the number of primary sequences (43).\n",
      "MOTIF: 1 SEQ: 86/86/118\n",
      "Sorting sequences by sequence PWM score to get PWM ranks; breaking ties to put negatives first.\n",
      "Leaving sequences sorted by PWM score.\n",
      "Optimizing over sequence PWM score threshold.\n",
      "MOTIF: 43 SEQ: 86/86198\r"
     ]
    },
    {
     "name": "stdout",
     "output_type": "stream",
     "text": [
      "Running AME command: /home/temccrac/meme/bin/ame --oc /home/temccrac/Programs/cellular_clarity_project/checkpoints/motif_enrichment/30_ame --control /home/temccrac/Programs/cellular_clarity_project/checkpoints/motif_enrichment/30_background.fa /home/temccrac/Programs/cellular_clarity_project/checkpoints/motif_enrichment/30_foreground.fa /home/temccrac/Programs/data/cellular_clarity/dap_seq_data/dap_data_v4/ArabidopsisDAPv1.meme\n"
     ]
    },
    {
     "name": "stderr",
     "output_type": "stream",
     "text": [
      "MOTIF: 872 SEQ: 118/118\n",
      "Added /home/temccrac/Programs/data/cellular_clarity/dap_seq_data/dap_data_v4/ArabidopsisDAPv1.meme to motif_sources which now has 1 file names.\n",
      "Motif file name is /home/temccrac/Programs/data/cellular_clarity/dap_seq_data/dap_data_v4/ArabidopsisDAPv1.meme.\n",
      "The output directory '/home/temccrac/Programs/cellular_clarity_project/checkpoints/motif_enrichment/30_ame' already exists.\n",
      "Its contents will be overwritten.\n",
      "E-value threshold for reporting results: 10\n",
      "Checking alphabets in 1 motif files.\n",
      "Loading motifs from file '/home/temccrac/Programs/data/cellular_clarity/dap_seq_data/dap_data_v4/ArabidopsisDAPv1.meme'\n",
      "Loading primary sequences.\n",
      "Loading control sequences.\n",
      "Not in partition maximization mode. Fixing partition at the number of primary sequences (49).\n",
      "MOTIF: 1 SEQ: 98/98/170\n",
      "Sorting sequences by sequence PWM score to get PWM ranks; breaking ties to put negatives first.\n",
      "Leaving sequences sorted by PWM score.\n",
      "Optimizing over sequence PWM score threshold.\n",
      "MOTIF: 872 SEQ: 128/128\n",
      "MOTIF: 672 SEQ: 118/118\r"
     ]
    },
    {
     "name": "stdout",
     "output_type": "stream",
     "text": [
      "Running AME command: /home/temccrac/meme/bin/ame --oc /home/temccrac/Programs/cellular_clarity_project/checkpoints/motif_enrichment/41_ame --control /home/temccrac/Programs/cellular_clarity_project/checkpoints/motif_enrichment/41_background.fa /home/temccrac/Programs/cellular_clarity_project/checkpoints/motif_enrichment/41_foreground.fa /home/temccrac/Programs/data/cellular_clarity/dap_seq_data/dap_data_v4/ArabidopsisDAPv1.meme\n",
      "Running AME command:"
     ]
    },
    {
     "name": "stderr",
     "output_type": "stream",
     "text": [
      "MOTIF: 872 SEQ: 86/8618\n",
      "Added /home/temccrac/Programs/data/cellular_clarity/dap_seq_data/dap_data_v4/ArabidopsisDAPv1.meme to motif_sources which now has 1 file names.\n",
      "Motif file name is /home/temccrac/Programs/data/cellular_clarity/dap_seq_data/dap_data_v4/ArabidopsisDAPv1.meme.\n",
      "The output directory '/home/temccrac/Programs/cellular_clarity_project/checkpoints/motif_enrichment/41_ame' already exists.\n",
      "Its contents will be overwritten.\n",
      "E-value threshold for reporting results: 10\n",
      "Checking alphabets in 1 motif files.\n",
      "Loading motifs from file '/home/temccrac/Programs/data/cellular_clarity/dap_seq_data/dap_data_v4/ArabidopsisDAPv1.meme'\n",
      "MOTIF: 758 SEQ: 120/120"
     ]
    },
    {
     "name": "stdout",
     "output_type": "stream",
     "text": [
      " /home/temccrac/meme/bin/ame --oc /home/temccrac/Programs/cellular_clarity_project/checkpoints/motif_enrichment/43_ame --control /home/temccrac/Programs/cellular_clarity_project/checkpoints/motif_enrichment/43_background.fa /home/temccrac/Programs/cellular_clarity_project/checkpoints/motif_enrichment/43_foreground.fa /home/temccrac/Programs/data/cellular_clarity/dap_seq_data/dap_data_v4/ArabidopsisDAPv1.meme\n",
      "Running AME command:"
     ]
    },
    {
     "name": "stderr",
     "output_type": "stream",
     "text": [
      "Loading primary sequences.\n",
      "Loading control sequences.\n",
      "Not in partition maximization mode. Fixing partition at the number of primary sequences (33).\n",
      "MOTIF: 1 SEQ: 66/66/118\n",
      "Sorting sequences by sequence PWM score to get PWM ranks; breaking ties to put negatives first.\n",
      "Leaving sequences sorted by PWM score.\n",
      "Optimizing over sequence PWM score threshold.\n",
      "Added /home/temccrac/Programs/data/cellular_clarity/dap_seq_data/dap_data_v4/ArabidopsisDAPv1.meme to motif_sources which now has 1 file names.\n",
      "Motif file name is /home/temccrac/Programs/data/cellular_clarity/dap_seq_data/dap_data_v4/ArabidopsisDAPv1.meme.\n",
      "The output directory '/home/temccrac/Programs/cellular_clarity_project/checkpoints/motif_enrichment/43_ame' already exists.\n",
      "Its contents will be overwritten.\n",
      "E-value threshold for reporting results: 10\n",
      "Checking alphabets in 1 motif files.\n",
      "MOTIF: 872 SEQ: 130/130\n",
      "Loading motifs from file '/home/temccrac/Programs/data/cellular_clarity/dap_seq_data/dap_data_v4/ArabidopsisDAPv1.meme'\n",
      "MOTIF: 869 SEQ: 198/198"
     ]
    },
    {
     "name": "stdout",
     "output_type": "stream",
     "text": [
      " /home/temccrac/meme/bin/ame --oc /home/temccrac/Programs/cellular_clarity_project/checkpoints/motif_enrichment/34_ame --control /home/temccrac/Programs/cellular_clarity_project/checkpoints/motif_enrichment/34_background.fa /home/temccrac/Programs/cellular_clarity_project/checkpoints/motif_enrichment/34_foreground.fa /home/temccrac/Programs/data/cellular_clarity/dap_seq_data/dap_data_v4/ArabidopsisDAPv1.meme\n",
      "Running AME command: /home/temccrac/meme/bin/ame --oc /home/temccrac/Programs/cellular_clarity_project/checkpoints/motif_enrichment/45_ame --control /home/temccrac/Programs/cellular_clarity_project/checkpoints/motif_enrichment/45_background.fa /home/temccrac/Programs/cellular_clarity_project/checkpoints/motif_enrichment/45_foreground.fa /home/temccrac/Programs/data/cellular_clarity/dap_seq_data/dap_data_v4/ArabidopsisDAPv1.meme\n",
      "Running AME command: /home/temccrac/meme/bin/ame --oc /home/temccrac/Programs/cellular_clarity_project/checkpoints/motif_enrichment/32_ame --control /home/temccrac/Programs/cellular_clarity_project/checkpoints/motif_enrichment/32_background.fa /home/temccrac/Programs/cellular_clarity_project/checkpoints/motif_enrichment/32_foreground.fa /home/temccrac/Programs/data/cellular_clarity/dap_seq_data/dap_data_v4/ArabidopsisDAPv1.meme\n",
      "Running AME command: /home/temccrac/meme/bin/ame --oc /home/temccrac/Programs/cellular_clarity_project/checkpoints/motif_enrichment/40_ame --control /home/temccrac/Programs/cellular_clarity_project/checkpoints/motif_enrichment/40_background.fa /home/temccrac/Programs/cellular_clarity_project/checkpoints/motif_enrichment/40_foreground.fa /home/temccrac/Programs/data/cellular_clarity/dap_seq_data/dap_data_v4/ArabidopsisDAPv1.meme\n"
     ]
    },
    {
     "name": "stderr",
     "output_type": "stream",
     "text": [
      "MOTIF: 872 SEQ: 198/198\n",
      "Loading primary sequences.\n",
      "Loading control sequences.\n",
      "Not in partition maximization mode. Fixing partition at the number of primary sequences (66).\n",
      "MOTIF: 1 SEQ: 132/13270\n",
      "Sorting sequences by sequence PWM score to get PWM ranks; breaking ties to put negatives first.\n",
      "Leaving sequences sorted by PWM score.\n",
      "Optimizing over sequence PWM score threshold.\n",
      "Added /home/temccrac/Programs/data/cellular_clarity/dap_seq_data/dap_data_v4/ArabidopsisDAPv1.meme to motif_sources which now has 1 file names.\n",
      "Motif file name is /home/temccrac/Programs/data/cellular_clarity/dap_seq_data/dap_data_v4/ArabidopsisDAPv1.meme.\n",
      "The output directory '/home/temccrac/Programs/cellular_clarity_project/checkpoints/motif_enrichment/34_ame' already exists.\n",
      "Its contents will be overwritten.\n",
      "E-value threshold for reporting results: 10\n",
      "Checking alphabets in 1 motif files.\n",
      "Loading motifs from file '/home/temccrac/Programs/data/cellular_clarity/dap_seq_data/dap_data_v4/ArabidopsisDAPv1.meme'\n",
      "Added /home/temccrac/Programs/data/cellular_clarity/dap_seq_data/dap_data_v4/ArabidopsisDAPv1.meme to motif_sources which now has 1 file names.\n",
      "Motif file name is /home/temccrac/Programs/data/cellular_clarity/dap_seq_data/dap_data_v4/ArabidopsisDAPv1.meme.\n",
      "The output directory '/home/temccrac/Programs/cellular_clarity_project/checkpoints/motif_enrichment/45_ame' already exists.\n",
      "Its contents will be overwritten.\n",
      "E-value threshold for reporting results: 10\n",
      "Checking alphabets in 1 motif files.\n",
      "Loading motifs from file '/home/temccrac/Programs/data/cellular_clarity/dap_seq_data/dap_data_v4/ArabidopsisDAPv1.meme'\n",
      "MOTIF: 872 SEQ: 208/208\n",
      "MOTIF: 872 SEQ: 170/170\n",
      "Added /home/temccrac/Programs/data/cellular_clarity/dap_seq_data/dap_data_v4/ArabidopsisDAPv1.meme to motif_sources which now has 1 file names.\n",
      "Motif file name is /home/temccrac/Programs/data/cellular_clarity/dap_seq_data/dap_data_v4/ArabidopsisDAPv1.meme.\n",
      "The output directory '/home/temccrac/Programs/cellular_clarity_project/checkpoints/motif_enrichment/32_ame' already exists.\n",
      "Its contents will be overwritten.\n",
      "E-value threshold for reporting results: 10\n",
      "Checking alphabets in 1 motif files.\n",
      "Loading motifs from file '/home/temccrac/Programs/data/cellular_clarity/dap_seq_data/dap_data_v4/ArabidopsisDAPv1.meme'\n",
      "Added /home/temccrac/Programs/data/cellular_clarity/dap_seq_data/dap_data_v4/ArabidopsisDAPv1.meme to motif_sources which now has 1 file names.\n",
      "Motif file name is /home/temccrac/Programs/data/cellular_clarity/dap_seq_data/dap_data_v4/ArabidopsisDAPv1.meme.\n",
      "The output directory '/home/temccrac/Programs/cellular_clarity_project/checkpoints/motif_enrichment/40_ame' already exists.\n",
      "Its contents will be overwritten.\n",
      "E-value threshold for reporting results: 10\n",
      "Checking alphabets in 1 motif files.\n",
      "Loading motifs from file '/home/temccrac/Programs/data/cellular_clarity/dap_seq_data/dap_data_v4/ArabidopsisDAPv1.meme'\n",
      "MOTIF: 872 SEQ: 120/120\n",
      "MOTIF: 872 SEQ: 118/118\n",
      "MOTIF: 872 SEQ: 162/162\n",
      "Loading primary sequences.\n",
      "Loading control sequences.\n",
      "Not in partition maximization mode. Fixing partition at the number of primary sequences (35).\n",
      "MOTIF: 1 SEQ: 70/70132\n",
      "Sorting sequences by sequence PWM score to get PWM ranks; breaking ties to put negatives first.\n",
      "Leaving sequences sorted by PWM score.\n",
      "Optimizing over sequence PWM score threshold.\n",
      "Loading primary sequences.\n",
      "Loading control sequences.\n",
      "Not in partition maximization mode. Fixing partition at the number of primary sequences (48).\n",
      "MOTIF: 1 SEQ: 96/96662\n",
      "Sorting sequences by sequence PWM score to get PWM ranks; breaking ties to put negatives first.\n",
      "Leaving sequences sorted by PWM score.\n",
      "Optimizing over sequence PWM score threshold.\n",
      "MOTIF: 54 SEQ: 132/132\r"
     ]
    },
    {
     "name": "stdout",
     "output_type": "stream",
     "text": [
      "Running AME command:"
     ]
    },
    {
     "name": "stderr",
     "output_type": "stream",
     "text": [
      "Loading primary sequences.\n",
      "Loading control sequences.\n",
      "Not in partition maximization mode. Fixing partition at the number of primary sequences (63).\n",
      "MOTIF: 1 SEQ: 126/1262\n",
      "Sorting sequences by sequence PWM score to get PWM ranks; breaking ties to put negatives first.\n",
      "Leaving sequences sorted by PWM score.\n",
      "Optimizing over sequence PWM score threshold.\n",
      "Loading primary sequences.\n",
      "Loading control sequences.\n",
      "Not in partition maximization mode. Fixing partition at the number of primary sequences (52).\n",
      "MOTIF: 1 SEQ: 104/1042\n",
      "Sorting sequences by sequence PWM score to get PWM ranks; breaking ties to put negatives first.\n",
      "Leaving sequences sorted by PWM score.\n",
      "Optimizing over sequence PWM score threshold.\n",
      "MOTIF: 872 SEQ: 98/982\n",
      "MOTIF: 58 SEQ: 70/7066"
     ]
    },
    {
     "name": "stdout",
     "output_type": "stream",
     "text": [
      " /home/temccrac/meme/bin/ame --oc /home/temccrac/Programs/cellular_clarity_project/checkpoints/motif_enrichment/47_ame --control /home/temccrac/Programs/cellular_clarity_project/checkpoints/motif_enrichment/47_background.fa /home/temccrac/Programs/cellular_clarity_project/checkpoints/motif_enrichment/47_foreground.fa /home/temccrac/Programs/data/cellular_clarity/dap_seq_data/dap_data_v4/ArabidopsisDAPv1.meme\n",
      "Running AME command: /home/temccrac/meme/bin/ame --oc /home/temccrac/Programs/cellular_clarity_project/checkpoints/motif_enrichment/49_ame --control /home/temccrac/Programs/cellular_clarity_project/checkpoints/motif_enrichment/49_background.fa /home/temccrac/Programs/cellular_clarity_project/checkpoints/motif_enrichment/49_foreground.fa /home/temccrac/Programs/data/cellular_clarity/dap_seq_data/dap_data_v4/ArabidopsisDAPv1.meme\n"
     ]
    },
    {
     "name": "stderr",
     "output_type": "stream",
     "text": [
      "Added /home/temccrac/Programs/data/cellular_clarity/dap_seq_data/dap_data_v4/ArabidopsisDAPv1.meme to motif_sources which now has 1 file names.\n",
      "Motif file name is /home/temccrac/Programs/data/cellular_clarity/dap_seq_data/dap_data_v4/ArabidopsisDAPv1.meme.\n",
      "The output directory '/home/temccrac/Programs/cellular_clarity_project/checkpoints/motif_enrichment/47_ame' already exists.\n",
      "Its contents will be overwritten.\n",
      "E-value threshold for reporting results: 10\n",
      "Checking alphabets in 1 motif files.\n",
      "Loading motifs from file '/home/temccrac/Programs/data/cellular_clarity/dap_seq_data/dap_data_v4/ArabidopsisDAPv1.meme'\n",
      "Loading primary sequences.\n",
      "Loading control sequences.\n",
      "Not in partition maximization mode. Fixing partition at the number of primary sequences (45).\n",
      "MOTIF: 1 SEQ: 90/907062\n",
      "Sorting sequences by sequence PWM score to get PWM ranks; breaking ties to put negatives first.\n",
      "Leaving sequences sorted by PWM score.\n",
      "Optimizing over sequence PWM score threshold.\n",
      "Added /home/temccrac/Programs/data/cellular_clarity/dap_seq_data/dap_data_v4/ArabidopsisDAPv1.meme to motif_sources which now has 1 file names.\n",
      "Motif file name is /home/temccrac/Programs/data/cellular_clarity/dap_seq_data/dap_data_v4/ArabidopsisDAPv1.meme.\n",
      "The output directory '/home/temccrac/Programs/cellular_clarity_project/checkpoints/motif_enrichment/49_ame' already exists.\n",
      "Its contents will be overwritten.\n",
      "E-value threshold for reporting results: 10\n",
      "Checking alphabets in 1 motif files.\n",
      "Loading motifs from file '/home/temccrac/Programs/data/cellular_clarity/dap_seq_data/dap_data_v4/ArabidopsisDAPv1.meme'\n",
      "Loading primary sequences.\n",
      "Loading control sequences.\n",
      "Not in partition maximization mode. Fixing partition at the number of primary sequences (22).\n",
      "MOTIF: 1 SEQ: 44/44/104\n",
      "Sorting sequences by sequence PWM score to get PWM ranks; breaking ties to put negatives first.\n",
      "Leaving sequences sorted by PWM score.\n",
      "Optimizing over sequence PWM score threshold.\n",
      "MOTIF: 377 SEQ: 104/104\r"
     ]
    },
    {
     "name": "stdout",
     "output_type": "stream",
     "text": [
      "Running AME command: /home/temccrac/meme/bin/ame --oc /home/temccrac/Programs/cellular_clarity_project/checkpoints/motif_enrichment/42_ame --control /home/temccrac/Programs/cellular_clarity_project/checkpoints/motif_enrichment/42_background.fa /home/temccrac/Programs/cellular_clarity_project/checkpoints/motif_enrichment/42_foreground.fa /home/temccrac/Programs/data/cellular_clarity/dap_seq_data/dap_data_v4/ArabidopsisDAPv1.meme\n"
     ]
    },
    {
     "name": "stderr",
     "output_type": "stream",
     "text": [
      "MOTIF: 872 SEQ: 66/6626\n",
      "Added /home/temccrac/Programs/data/cellular_clarity/dap_seq_data/dap_data_v4/ArabidopsisDAPv1.meme to motif_sources which now has 1 file names.\n",
      "Motif file name is /home/temccrac/Programs/data/cellular_clarity/dap_seq_data/dap_data_v4/ArabidopsisDAPv1.meme.\n",
      "The output directory '/home/temccrac/Programs/cellular_clarity_project/checkpoints/motif_enrichment/42_ame' already exists.\n",
      "Its contents will be overwritten.\n",
      "E-value threshold for reporting results: 10\n",
      "Checking alphabets in 1 motif files.\n",
      "Loading motifs from file '/home/temccrac/Programs/data/cellular_clarity/dap_seq_data/dap_data_v4/ArabidopsisDAPv1.meme'\n",
      "Loading primary sequences.\n",
      "Loading control sequences.\n",
      "Not in partition maximization mode. Fixing partition at the number of primary sequences (22).\n",
      "MOTIF: 1 SEQ: 44/44/104\n",
      "Sorting sequences by sequence PWM score to get PWM ranks; breaking ties to put negatives first.\n",
      "Leaving sequences sorted by PWM score.\n",
      "Optimizing over sequence PWM score threshold.\n",
      "MOTIF: 110 SEQ: 44/4426\r"
     ]
    },
    {
     "name": "stdout",
     "output_type": "stream",
     "text": [
      "Running AME command: /home/temccrac/meme/bin/ame --oc /home/temccrac/Programs/cellular_clarity_project/checkpoints/motif_enrichment/50_ame --control /home/temccrac/Programs/cellular_clarity_project/checkpoints/motif_enrichment/50_background.fa /home/temccrac/Programs/cellular_clarity_project/checkpoints/motif_enrichment/50_foreground.fa /home/temccrac/Programs/data/cellular_clarity/dap_seq_data/dap_data_v4/ArabidopsisDAPv1.meme\n"
     ]
    },
    {
     "name": "stderr",
     "output_type": "stream",
     "text": [
      "MOTIF: 872 SEQ: 44/4404\n",
      "Added /home/temccrac/Programs/data/cellular_clarity/dap_seq_data/dap_data_v4/ArabidopsisDAPv1.meme to motif_sources which now has 1 file names.\n",
      "Motif file name is /home/temccrac/Programs/data/cellular_clarity/dap_seq_data/dap_data_v4/ArabidopsisDAPv1.meme.\n",
      "The output directory '/home/temccrac/Programs/cellular_clarity_project/checkpoints/motif_enrichment/50_ame' already exists.\n",
      "Its contents will be overwritten.\n",
      "E-value threshold for reporting results: 10\n",
      "Checking alphabets in 1 motif files.\n",
      "Loading motifs from file '/home/temccrac/Programs/data/cellular_clarity/dap_seq_data/dap_data_v4/ArabidopsisDAPv1.meme'\n",
      "MOTIF: 872 SEQ: 70/7026\n",
      "Loading primary sequences.\n",
      "Loading control sequences.\n",
      "Not in partition maximization mode. Fixing partition at the number of primary sequences (3).\n",
      "MOTIF: 1 SEQ: 6/6\n",
      "Sorting sequences by sequence PWM score to get PWM ranks; breaking ties to put negatives first.\n",
      "Leaving sequences sorted by PWM score.\n",
      "Optimizing over sequence PWM score threshold.\n",
      "MOTIF: 872 SEQ: 6/6/132\n",
      "MOTIF: 683 SEQ: 44/4404\r"
     ]
    },
    {
     "name": "stdout",
     "output_type": "stream",
     "text": [
      "Running AME command: /home/temccrac/meme/bin/ame --oc /home/temccrac/Programs/cellular_clarity_project/checkpoints/motif_enrichment/46_ame --control /home/temccrac/Programs/cellular_clarity_project/checkpoints/motif_enrichment/46_background.fa /home/temccrac/Programs/cellular_clarity_project/checkpoints/motif_enrichment/46_foreground.fa /home/temccrac/Programs/data/cellular_clarity/dap_seq_data/dap_data_v4/ArabidopsisDAPv1.meme\n"
     ]
    },
    {
     "name": "stderr",
     "output_type": "stream",
     "text": [
      "MOTIF: 872 SEQ: 96/9626\n",
      "Added /home/temccrac/Programs/data/cellular_clarity/dap_seq_data/dap_data_v4/ArabidopsisDAPv1.meme to motif_sources which now has 1 file names.\n",
      "Motif file name is /home/temccrac/Programs/data/cellular_clarity/dap_seq_data/dap_data_v4/ArabidopsisDAPv1.meme.\n",
      "The output directory '/home/temccrac/Programs/cellular_clarity_project/checkpoints/motif_enrichment/46_ame' already exists.\n",
      "Its contents will be overwritten.\n",
      "E-value threshold for reporting results: 10\n",
      "Checking alphabets in 1 motif files.\n",
      "Loading motifs from file '/home/temccrac/Programs/data/cellular_clarity/dap_seq_data/dap_data_v4/ArabidopsisDAPv1.meme'\n",
      "MOTIF: 791 SEQ: 44/4404\r"
     ]
    },
    {
     "name": "stdout",
     "output_type": "stream",
     "text": [
      "Running AME command: /home/temccrac/meme/bin/ame --oc /home/temccrac/Programs/cellular_clarity_project/checkpoints/motif_enrichment/48_ame --control /home/temccrac/Programs/cellular_clarity_project/checkpoints/motif_enrichment/48_background.fa /home/temccrac/Programs/cellular_clarity_project/checkpoints/motif_enrichment/48_foreground.fa /home/temccrac/Programs/data/cellular_clarity/dap_seq_data/dap_data_v4/ArabidopsisDAPv1.meme\n"
     ]
    },
    {
     "name": "stderr",
     "output_type": "stream",
     "text": [
      "MOTIF: 872 SEQ: 90/9032\n",
      "Added /home/temccrac/Programs/data/cellular_clarity/dap_seq_data/dap_data_v4/ArabidopsisDAPv1.meme to motif_sources which now has 1 file names.\n",
      "Motif file name is /home/temccrac/Programs/data/cellular_clarity/dap_seq_data/dap_data_v4/ArabidopsisDAPv1.meme.\n",
      "The output directory '/home/temccrac/Programs/cellular_clarity_project/checkpoints/motif_enrichment/48_ame' already exists.\n",
      "Its contents will be overwritten.\n",
      "E-value threshold for reporting results: 10\n",
      "Checking alphabets in 1 motif files.\n",
      "Loading motifs from file '/home/temccrac/Programs/data/cellular_clarity/dap_seq_data/dap_data_v4/ArabidopsisDAPv1.meme'\n",
      "Loading primary sequences.\n",
      "Loading control sequences.\n",
      "Not in partition maximization mode. Fixing partition at the number of primary sequences (13).\n",
      "MOTIF: 1 SEQ: 26/26/132\n",
      "Sorting sequences by sequence PWM score to get PWM ranks; breaking ties to put negatives first.\n",
      "Leaving sequences sorted by PWM score.\n",
      "Optimizing over sequence PWM score threshold.\n",
      "MOTIF: 872 SEQ: 44/4426\n",
      "MOTIF: 872 SEQ: 104/104\n",
      "Loading primary sequences.\n",
      "Loading control sequences.\n",
      "Not in partition maximization mode. Fixing partition at the number of primary sequences (40).\n",
      "MOTIF: 1 SEQ: 80/802632\n",
      "Sorting sequences by sequence PWM score to get PWM ranks; breaking ties to put negatives first.\n",
      "Leaving sequences sorted by PWM score.\n",
      "Optimizing over sequence PWM score threshold.\n",
      "MOTIF: 657 SEQ: 26/2626\r"
     ]
    },
    {
     "name": "stdout",
     "output_type": "stream",
     "text": [
      "Running AME command: /home/temccrac/meme/bin/ame --oc /home/temccrac/Programs/cellular_clarity_project/checkpoints/motif_enrichment/44_ame --control /home/temccrac/Programs/cellular_clarity_project/checkpoints/motif_enrichment/44_background.fa /home/temccrac/Programs/cellular_clarity_project/checkpoints/motif_enrichment/44_foreground.fa /home/temccrac/Programs/data/cellular_clarity/dap_seq_data/dap_data_v4/ArabidopsisDAPv1.meme\n"
     ]
    },
    {
     "name": "stderr",
     "output_type": "stream",
     "text": [
      "MOTIF: 872 SEQ: 132/132\n",
      "Added /home/temccrac/Programs/data/cellular_clarity/dap_seq_data/dap_data_v4/ArabidopsisDAPv1.meme to motif_sources which now has 1 file names.\n",
      "Motif file name is /home/temccrac/Programs/data/cellular_clarity/dap_seq_data/dap_data_v4/ArabidopsisDAPv1.meme.\n",
      "The output directory '/home/temccrac/Programs/cellular_clarity_project/checkpoints/motif_enrichment/44_ame' already exists.\n",
      "Its contents will be overwritten.\n",
      "E-value threshold for reporting results: 10\n",
      "Checking alphabets in 1 motif files.\n",
      "Loading motifs from file '/home/temccrac/Programs/data/cellular_clarity/dap_seq_data/dap_data_v4/ArabidopsisDAPv1.meme'\n",
      "MOTIF: 193 SEQ: 80/8026\n",
      "MOTIF: 872 SEQ: 26/26\n",
      "Loading primary sequences.\n",
      "Loading control sequences.\n",
      "Not in partition maximization mode. Fixing partition at the number of primary sequences (24).\n",
      "MOTIF: 1 SEQ: 48/48\n",
      "Sorting sequences by sequence PWM score to get PWM ranks; breaking ties to put negatives first.\n",
      "Leaving sequences sorted by PWM score.\n",
      "Optimizing over sequence PWM score threshold.\n",
      "MOTIF: 872 SEQ: 48/48\n",
      "MOTIF: 872 SEQ: 80/80\n"
     ]
    },
    {
     "name": "stdout",
     "output_type": "stream",
     "text": [
      "All AME analyses are complete.\n"
     ]
    }
   ],
   "source": [
    "# Load the promoter sequences into a dictionary\n",
    "promoters_dict = load_promoters(promoters_fasta)\n",
    "\n",
    "# Prepare arguments for each group\n",
    "args_list = []\n",
    "for group_name, fg_gene_ids in foreground_groups.items():\n",
    "    bg_gene_ids = background_groups.get(group_name, [])\n",
    "    args_list.append((group_name, fg_gene_ids, bg_gene_ids, promoters_dict, out_dir, motif_detection_path, ame_executable, additional_params))\n",
    "\n",
    "# Run AME for each group in parallel using multiprocessing\n",
    "pool = multiprocessing.Pool(processes=cpus)\n",
    "pool.starmap(process_group, args_list)\n",
    "pool.close()\n",
    "pool.join()\n",
    "\n",
    "print(\"All AME analyses are complete.\")"
   ]
  },
  {
   "cell_type": "markdown",
   "metadata": {},
   "source": [
    "## Step 4 - Processing Motif Information Output"
   ]
  },
  {
   "cell_type": "code",
   "execution_count": 12,
   "metadata": {},
   "outputs": [],
   "source": [
    "import re\n",
    "motif_enrichment_path = os.path.join(checkpoint_path, 'motif_enrichment')"
   ]
  },
  {
   "cell_type": "code",
   "execution_count": 13,
   "metadata": {},
   "outputs": [
    {
     "data": {
      "text/plain": [
       "['/home/temccrac/Programs/cellular_clarity_project/checkpoints/motif_enrichment/38_ame/sequences.tsv',\n",
       " '/home/temccrac/Programs/cellular_clarity_project/checkpoints/motif_enrichment/1_ame/sequences.tsv',\n",
       " '/home/temccrac/Programs/cellular_clarity_project/checkpoints/motif_enrichment/36_ame/sequences.tsv',\n",
       " '/home/temccrac/Programs/cellular_clarity_project/checkpoints/motif_enrichment/37_ame/sequences.tsv',\n",
       " '/home/temccrac/Programs/cellular_clarity_project/checkpoints/motif_enrichment/12_ame/sequences.tsv',\n",
       " '/home/temccrac/Programs/cellular_clarity_project/checkpoints/motif_enrichment/28_ame/sequences.tsv',\n",
       " '/home/temccrac/Programs/cellular_clarity_project/checkpoints/motif_enrichment/11_ame/sequences.tsv',\n",
       " '/home/temccrac/Programs/cellular_clarity_project/checkpoints/motif_enrichment/43_ame/sequences.tsv',\n",
       " '/home/temccrac/Programs/cellular_clarity_project/checkpoints/motif_enrichment/3_ame/sequences.tsv',\n",
       " '/home/temccrac/Programs/cellular_clarity_project/checkpoints/motif_enrichment/32_ame/sequences.tsv',\n",
       " '/home/temccrac/Programs/cellular_clarity_project/checkpoints/motif_enrichment/26_ame/sequences.tsv',\n",
       " '/home/temccrac/Programs/cellular_clarity_project/checkpoints/motif_enrichment/35_ame/sequences.tsv',\n",
       " '/home/temccrac/Programs/cellular_clarity_project/checkpoints/motif_enrichment/33_ame/sequences.tsv',\n",
       " '/home/temccrac/Programs/cellular_clarity_project/checkpoints/motif_enrichment/48_ame/sequences.tsv',\n",
       " '/home/temccrac/Programs/cellular_clarity_project/checkpoints/motif_enrichment/18_ame/sequences.tsv',\n",
       " '/home/temccrac/Programs/cellular_clarity_project/checkpoints/motif_enrichment/23_ame/sequences.tsv',\n",
       " '/home/temccrac/Programs/cellular_clarity_project/checkpoints/motif_enrichment/24_ame/sequences.tsv',\n",
       " '/home/temccrac/Programs/cellular_clarity_project/checkpoints/motif_enrichment/5_ame/sequences.tsv',\n",
       " '/home/temccrac/Programs/cellular_clarity_project/checkpoints/motif_enrichment/40_ame/sequences.tsv',\n",
       " '/home/temccrac/Programs/cellular_clarity_project/checkpoints/motif_enrichment/47_ame/sequences.tsv',\n",
       " '/home/temccrac/Programs/cellular_clarity_project/checkpoints/motif_enrichment/30_ame/sequences.tsv',\n",
       " '/home/temccrac/Programs/cellular_clarity_project/checkpoints/motif_enrichment/42_ame/sequences.tsv',\n",
       " '/home/temccrac/Programs/cellular_clarity_project/checkpoints/motif_enrichment/22_ame/sequences.tsv',\n",
       " '/home/temccrac/Programs/cellular_clarity_project/checkpoints/motif_enrichment/17_ame/sequences.tsv',\n",
       " '/home/temccrac/Programs/cellular_clarity_project/checkpoints/motif_enrichment/25_ame/sequences.tsv',\n",
       " '/home/temccrac/Programs/cellular_clarity_project/checkpoints/motif_enrichment/16_ame/sequences.tsv',\n",
       " '/home/temccrac/Programs/cellular_clarity_project/checkpoints/motif_enrichment/10_ame/sequences.tsv',\n",
       " '/home/temccrac/Programs/cellular_clarity_project/checkpoints/motif_enrichment/4_ame/sequences.tsv',\n",
       " '/home/temccrac/Programs/cellular_clarity_project/checkpoints/motif_enrichment/44_ame/sequences.tsv',\n",
       " '/home/temccrac/Programs/cellular_clarity_project/checkpoints/motif_enrichment/7_ame/sequences.tsv',\n",
       " '/home/temccrac/Programs/cellular_clarity_project/checkpoints/motif_enrichment/20_ame/sequences.tsv',\n",
       " '/home/temccrac/Programs/cellular_clarity_project/checkpoints/motif_enrichment/9_ame/sequences.tsv',\n",
       " '/home/temccrac/Programs/cellular_clarity_project/checkpoints/motif_enrichment/39_ame/sequences.tsv',\n",
       " '/home/temccrac/Programs/cellular_clarity_project/checkpoints/motif_enrichment/31_ame/sequences.tsv',\n",
       " '/home/temccrac/Programs/cellular_clarity_project/checkpoints/motif_enrichment/46_ame/sequences.tsv',\n",
       " '/home/temccrac/Programs/cellular_clarity_project/checkpoints/motif_enrichment/2_ame/sequences.tsv',\n",
       " '/home/temccrac/Programs/cellular_clarity_project/checkpoints/motif_enrichment/19_ame/sequences.tsv',\n",
       " '/home/temccrac/Programs/cellular_clarity_project/checkpoints/motif_enrichment/29_ame/sequences.tsv',\n",
       " '/home/temccrac/Programs/cellular_clarity_project/checkpoints/motif_enrichment/34_ame/sequences.tsv',\n",
       " '/home/temccrac/Programs/cellular_clarity_project/checkpoints/motif_enrichment/41_ame/sequences.tsv',\n",
       " '/home/temccrac/Programs/cellular_clarity_project/checkpoints/motif_enrichment/8_ame/sequences.tsv',\n",
       " '/home/temccrac/Programs/cellular_clarity_project/checkpoints/motif_enrichment/15_ame/sequences.tsv',\n",
       " '/home/temccrac/Programs/cellular_clarity_project/checkpoints/motif_enrichment/13_ame/sequences.tsv',\n",
       " '/home/temccrac/Programs/cellular_clarity_project/checkpoints/motif_enrichment/27_ame/sequences.tsv',\n",
       " '/home/temccrac/Programs/cellular_clarity_project/checkpoints/motif_enrichment/14_ame/sequences.tsv',\n",
       " '/home/temccrac/Programs/cellular_clarity_project/checkpoints/motif_enrichment/6_ame/sequences.tsv',\n",
       " '/home/temccrac/Programs/cellular_clarity_project/checkpoints/motif_enrichment/45_ame/sequences.tsv',\n",
       " '/home/temccrac/Programs/cellular_clarity_project/checkpoints/motif_enrichment/21_ame/sequences.tsv',\n",
       " '/home/temccrac/Programs/cellular_clarity_project/checkpoints/motif_enrichment/49_ame/sequences.tsv',\n",
       " '/home/temccrac/Programs/cellular_clarity_project/checkpoints/motif_enrichment/50_ame/sequences.tsv']"
      ]
     },
     "execution_count": 13,
     "metadata": {},
     "output_type": "execute_result"
    }
   ],
   "source": [
    "# Create all the file paths\n",
    "motif_results_paths = []\n",
    "for root, dir, files in os.walk(motif_enrichment_path):\n",
    "    for file in files: \n",
    "        if 'sequences.tsv' in file: \n",
    "            motif_results_paths.append(os.path.join(root, file))\n",
    "motif_results_paths"
   ]
  },
  {
   "cell_type": "code",
   "execution_count": null,
   "metadata": {},
   "outputs": [
    {
     "data": {
      "application/vnd.microsoft.datawrangler.viewer.v0+json": {
       "columns": [
        {
         "name": "index",
         "rawType": "int64",
         "type": "integer"
        },
        {
         "name": "motif_ID",
         "rawType": "object",
         "type": "string"
        },
        {
         "name": "gene",
         "rawType": "object",
         "type": "string"
        }
       ],
       "conversionMethod": "pd.DataFrame",
       "ref": "f9685859-a747-4f6a-83da-31f5380823c3",
       "rows": [
        [
         "0",
         "NAC_tnt.VND6_col_v31_m1",
         "AT2G31410"
        ],
        [
         "1",
         "NAC_tnt.VND6_col_v31_m1",
         "AT4G30290"
        ],
        [
         "2",
         "NAC_tnt.VND6_col_v31_m1",
         "AT4G25070"
        ],
        [
         "3",
         "NAC_tnt.VND6_col_v31_m1",
         "AT2G34070"
        ],
        [
         "4",
         "NAC_tnt.VND6_col_v31_m1",
         "AT1G55330"
        ],
        [
         "5",
         "NAC_tnt.VND6_col_v31_m1",
         "AT3G01420"
        ],
        [
         "6",
         "NAC_tnt.VND6_col_v31_m1",
         "AT4G36380"
        ],
        [
         "7",
         "NAC_tnt.VND6_col_v31_m1",
         "AT4G26320"
        ],
        [
         "8",
         "NAC_tnt.VND6_col_v31_m1",
         "AT5G55550"
        ],
        [
         "9",
         "NAC_tnt.VND6_col_v31_m1",
         "AT1G09080"
        ],
        [
         "10",
         "NAC_tnt.VND6_col_v31_m1",
         "AT2G15980"
        ],
        [
         "11",
         "NAC_tnt.VND6_col_v31_m1",
         "AT4G40060"
        ],
        [
         "12",
         "NAC_tnt.VND6_col_v31_m1",
         "AT3G47220"
        ],
        [
         "13",
         "NAC_tnt.VND6_col_v31_m1",
         "AT4G22070"
        ],
        [
         "14",
         "NAC_tnt.VND6_col_v31_m1",
         "AT3G21180"
        ]
       ],
       "shape": {
        "columns": 2,
        "rows": 15
       }
      },
      "text/html": [
       "<div>\n",
       "<style scoped>\n",
       "    .dataframe tbody tr th:only-of-type {\n",
       "        vertical-align: middle;\n",
       "    }\n",
       "\n",
       "    .dataframe tbody tr th {\n",
       "        vertical-align: top;\n",
       "    }\n",
       "\n",
       "    .dataframe thead th {\n",
       "        text-align: right;\n",
       "    }\n",
       "</style>\n",
       "<table border=\"1\" class=\"dataframe\">\n",
       "  <thead>\n",
       "    <tr style=\"text-align: right;\">\n",
       "      <th></th>\n",
       "      <th>motif_ID</th>\n",
       "      <th>gene</th>\n",
       "    </tr>\n",
       "  </thead>\n",
       "  <tbody>\n",
       "    <tr>\n",
       "      <th>0</th>\n",
       "      <td>NAC_tnt.VND6_col_v31_m1</td>\n",
       "      <td>AT2G31410</td>\n",
       "    </tr>\n",
       "    <tr>\n",
       "      <th>1</th>\n",
       "      <td>NAC_tnt.VND6_col_v31_m1</td>\n",
       "      <td>AT4G30290</td>\n",
       "    </tr>\n",
       "    <tr>\n",
       "      <th>2</th>\n",
       "      <td>NAC_tnt.VND6_col_v31_m1</td>\n",
       "      <td>AT4G25070</td>\n",
       "    </tr>\n",
       "    <tr>\n",
       "      <th>3</th>\n",
       "      <td>NAC_tnt.VND6_col_v31_m1</td>\n",
       "      <td>AT2G34070</td>\n",
       "    </tr>\n",
       "    <tr>\n",
       "      <th>4</th>\n",
       "      <td>NAC_tnt.VND6_col_v31_m1</td>\n",
       "      <td>AT1G55330</td>\n",
       "    </tr>\n",
       "    <tr>\n",
       "      <th>5</th>\n",
       "      <td>NAC_tnt.VND6_col_v31_m1</td>\n",
       "      <td>AT3G01420</td>\n",
       "    </tr>\n",
       "    <tr>\n",
       "      <th>6</th>\n",
       "      <td>NAC_tnt.VND6_col_v31_m1</td>\n",
       "      <td>AT4G36380</td>\n",
       "    </tr>\n",
       "    <tr>\n",
       "      <th>7</th>\n",
       "      <td>NAC_tnt.VND6_col_v31_m1</td>\n",
       "      <td>AT4G26320</td>\n",
       "    </tr>\n",
       "    <tr>\n",
       "      <th>8</th>\n",
       "      <td>NAC_tnt.VND6_col_v31_m1</td>\n",
       "      <td>AT5G55550</td>\n",
       "    </tr>\n",
       "    <tr>\n",
       "      <th>9</th>\n",
       "      <td>NAC_tnt.VND6_col_v31_m1</td>\n",
       "      <td>AT1G09080</td>\n",
       "    </tr>\n",
       "    <tr>\n",
       "      <th>10</th>\n",
       "      <td>NAC_tnt.VND6_col_v31_m1</td>\n",
       "      <td>AT2G15980</td>\n",
       "    </tr>\n",
       "    <tr>\n",
       "      <th>11</th>\n",
       "      <td>NAC_tnt.VND6_col_v31_m1</td>\n",
       "      <td>AT4G40060</td>\n",
       "    </tr>\n",
       "    <tr>\n",
       "      <th>12</th>\n",
       "      <td>NAC_tnt.VND6_col_v31_m1</td>\n",
       "      <td>AT3G47220</td>\n",
       "    </tr>\n",
       "    <tr>\n",
       "      <th>13</th>\n",
       "      <td>NAC_tnt.VND6_col_v31_m1</td>\n",
       "      <td>AT4G22070</td>\n",
       "    </tr>\n",
       "    <tr>\n",
       "      <th>14</th>\n",
       "      <td>NAC_tnt.VND6_col_v31_m1</td>\n",
       "      <td>AT3G21180</td>\n",
       "    </tr>\n",
       "  </tbody>\n",
       "</table>\n",
       "</div>"
      ],
      "text/plain": [
       "                   motif_ID       gene\n",
       "0   NAC_tnt.VND6_col_v31_m1  AT2G31410\n",
       "1   NAC_tnt.VND6_col_v31_m1  AT4G30290\n",
       "2   NAC_tnt.VND6_col_v31_m1  AT4G25070\n",
       "3   NAC_tnt.VND6_col_v31_m1  AT2G34070\n",
       "4   NAC_tnt.VND6_col_v31_m1  AT1G55330\n",
       "5   NAC_tnt.VND6_col_v31_m1  AT3G01420\n",
       "6   NAC_tnt.VND6_col_v31_m1  AT4G36380\n",
       "7   NAC_tnt.VND6_col_v31_m1  AT4G26320\n",
       "8   NAC_tnt.VND6_col_v31_m1  AT5G55550\n",
       "9   NAC_tnt.VND6_col_v31_m1  AT1G09080\n",
       "10  NAC_tnt.VND6_col_v31_m1  AT2G15980\n",
       "11  NAC_tnt.VND6_col_v31_m1  AT4G40060\n",
       "12  NAC_tnt.VND6_col_v31_m1  AT3G47220\n",
       "13  NAC_tnt.VND6_col_v31_m1  AT4G22070\n",
       "14  NAC_tnt.VND6_col_v31_m1  AT3G21180"
      ]
     },
     "execution_count": 11,
     "metadata": {},
     "output_type": "execute_result"
    }
   ],
   "source": [
    "# Takes one cluster's motif output and converts it to a dataframe with all the motifs mapped to genes they were identified in\n",
    "def process_cluster_moitfs(path):\n",
    "    df = pd.read_csv(path, delimiter = '\\t')\n",
    "    df_subset = df[['motif_ID', 'seq_ID']]\n",
    "    pattern = r'^(.+?)::'\n",
    "    df_subset_processed = df_subset.copy()\n",
    "    df_subset_processed['seq_ID'] = df_subset['seq_ID'].str.extract(pattern)\n",
    "    df_subset_processed.columns = [df_subset.columns[0], 'gene']\n",
    "    return df_subset_processed"
   ]
  },
  {
   "cell_type": "code",
   "execution_count": 17,
   "metadata": {},
   "outputs": [
    {
     "name": "stdout",
     "output_type": "stream",
     "text": [
      "/home/temccrac/Programs/cellular_clarity_project/checkpoints/motif_enrichment/38_ame/sequences.tsv\n"
     ]
    },
    {
     "ename": "EmptyDataError",
     "evalue": "No columns to parse from file",
     "output_type": "error",
     "traceback": [
      "\u001b[0;31m---------------------------------------------------------------------------\u001b[0m",
      "\u001b[0;31mEmptyDataError\u001b[0m                            Traceback (most recent call last)",
      "Cell \u001b[0;32mIn[17], line 6\u001b[0m\n\u001b[1;32m      4\u001b[0m     clust_id \u001b[38;5;241m=\u001b[39m re\u001b[38;5;241m.\u001b[39msearch(clust_id_pattern, path)\n\u001b[1;32m      5\u001b[0m     \u001b[38;5;28mprint\u001b[39m(path)\n\u001b[0;32m----> 6\u001b[0m     motif_enrichment_dict[clust_id] \u001b[38;5;241m=\u001b[39m process_cluster_moitfs(path)\n\u001b[1;32m      8\u001b[0m motif_enrichment_dict\n",
      "Cell \u001b[0;32mIn[11], line 5\u001b[0m, in \u001b[0;36mprocess_cluster_moitfs\u001b[0;34m(path)\u001b[0m\n\u001b[1;32m      4\u001b[0m \u001b[38;5;28;01mdef\u001b[39;00m \u001b[38;5;21mprocess_cluster_moitfs\u001b[39m(path):\n\u001b[0;32m----> 5\u001b[0m     df \u001b[38;5;241m=\u001b[39m pd\u001b[38;5;241m.\u001b[39mread_csv(path, delimiter \u001b[38;5;241m=\u001b[39m \u001b[38;5;124m'\u001b[39m\u001b[38;5;130;01m\\t\u001b[39;00m\u001b[38;5;124m'\u001b[39m)\n\u001b[1;32m      6\u001b[0m     df_subset \u001b[38;5;241m=\u001b[39m df[[\u001b[38;5;124m'\u001b[39m\u001b[38;5;124mmotif_ID\u001b[39m\u001b[38;5;124m'\u001b[39m, \u001b[38;5;124m'\u001b[39m\u001b[38;5;124mseq_ID\u001b[39m\u001b[38;5;124m'\u001b[39m]]\n\u001b[1;32m      7\u001b[0m     pattern \u001b[38;5;241m=\u001b[39m \u001b[38;5;124mr\u001b[39m\u001b[38;5;124m'\u001b[39m\u001b[38;5;124m^(.+?)::\u001b[39m\u001b[38;5;124m'\u001b[39m\n",
      "File \u001b[0;32m~/Downloads/anaconda3/envs/transcriptomics/lib/python3.12/site-packages/pandas/io/parsers/readers.py:1026\u001b[0m, in \u001b[0;36mread_csv\u001b[0;34m(filepath_or_buffer, sep, delimiter, header, names, index_col, usecols, dtype, engine, converters, true_values, false_values, skipinitialspace, skiprows, skipfooter, nrows, na_values, keep_default_na, na_filter, verbose, skip_blank_lines, parse_dates, infer_datetime_format, keep_date_col, date_parser, date_format, dayfirst, cache_dates, iterator, chunksize, compression, thousands, decimal, lineterminator, quotechar, quoting, doublequote, escapechar, comment, encoding, encoding_errors, dialect, on_bad_lines, delim_whitespace, low_memory, memory_map, float_precision, storage_options, dtype_backend)\u001b[0m\n\u001b[1;32m   1013\u001b[0m kwds_defaults \u001b[38;5;241m=\u001b[39m _refine_defaults_read(\n\u001b[1;32m   1014\u001b[0m     dialect,\n\u001b[1;32m   1015\u001b[0m     delimiter,\n\u001b[0;32m   (...)\u001b[0m\n\u001b[1;32m   1022\u001b[0m     dtype_backend\u001b[38;5;241m=\u001b[39mdtype_backend,\n\u001b[1;32m   1023\u001b[0m )\n\u001b[1;32m   1024\u001b[0m kwds\u001b[38;5;241m.\u001b[39mupdate(kwds_defaults)\n\u001b[0;32m-> 1026\u001b[0m \u001b[38;5;28;01mreturn\u001b[39;00m _read(filepath_or_buffer, kwds)\n",
      "File \u001b[0;32m~/Downloads/anaconda3/envs/transcriptomics/lib/python3.12/site-packages/pandas/io/parsers/readers.py:620\u001b[0m, in \u001b[0;36m_read\u001b[0;34m(filepath_or_buffer, kwds)\u001b[0m\n\u001b[1;32m    617\u001b[0m _validate_names(kwds\u001b[38;5;241m.\u001b[39mget(\u001b[38;5;124m\"\u001b[39m\u001b[38;5;124mnames\u001b[39m\u001b[38;5;124m\"\u001b[39m, \u001b[38;5;28;01mNone\u001b[39;00m))\n\u001b[1;32m    619\u001b[0m \u001b[38;5;66;03m# Create the parser.\u001b[39;00m\n\u001b[0;32m--> 620\u001b[0m parser \u001b[38;5;241m=\u001b[39m TextFileReader(filepath_or_buffer, \u001b[38;5;241m*\u001b[39m\u001b[38;5;241m*\u001b[39mkwds)\n\u001b[1;32m    622\u001b[0m \u001b[38;5;28;01mif\u001b[39;00m chunksize \u001b[38;5;129;01mor\u001b[39;00m iterator:\n\u001b[1;32m    623\u001b[0m     \u001b[38;5;28;01mreturn\u001b[39;00m parser\n",
      "File \u001b[0;32m~/Downloads/anaconda3/envs/transcriptomics/lib/python3.12/site-packages/pandas/io/parsers/readers.py:1620\u001b[0m, in \u001b[0;36mTextFileReader.__init__\u001b[0;34m(self, f, engine, **kwds)\u001b[0m\n\u001b[1;32m   1617\u001b[0m     \u001b[38;5;28mself\u001b[39m\u001b[38;5;241m.\u001b[39moptions[\u001b[38;5;124m\"\u001b[39m\u001b[38;5;124mhas_index_names\u001b[39m\u001b[38;5;124m\"\u001b[39m] \u001b[38;5;241m=\u001b[39m kwds[\u001b[38;5;124m\"\u001b[39m\u001b[38;5;124mhas_index_names\u001b[39m\u001b[38;5;124m\"\u001b[39m]\n\u001b[1;32m   1619\u001b[0m \u001b[38;5;28mself\u001b[39m\u001b[38;5;241m.\u001b[39mhandles: IOHandles \u001b[38;5;241m|\u001b[39m \u001b[38;5;28;01mNone\u001b[39;00m \u001b[38;5;241m=\u001b[39m \u001b[38;5;28;01mNone\u001b[39;00m\n\u001b[0;32m-> 1620\u001b[0m \u001b[38;5;28mself\u001b[39m\u001b[38;5;241m.\u001b[39m_engine \u001b[38;5;241m=\u001b[39m \u001b[38;5;28mself\u001b[39m\u001b[38;5;241m.\u001b[39m_make_engine(f, \u001b[38;5;28mself\u001b[39m\u001b[38;5;241m.\u001b[39mengine)\n",
      "File \u001b[0;32m~/Downloads/anaconda3/envs/transcriptomics/lib/python3.12/site-packages/pandas/io/parsers/readers.py:1898\u001b[0m, in \u001b[0;36mTextFileReader._make_engine\u001b[0;34m(self, f, engine)\u001b[0m\n\u001b[1;32m   1895\u001b[0m     \u001b[38;5;28;01mraise\u001b[39;00m \u001b[38;5;167;01mValueError\u001b[39;00m(msg)\n\u001b[1;32m   1897\u001b[0m \u001b[38;5;28;01mtry\u001b[39;00m:\n\u001b[0;32m-> 1898\u001b[0m     \u001b[38;5;28;01mreturn\u001b[39;00m mapping[engine](f, \u001b[38;5;241m*\u001b[39m\u001b[38;5;241m*\u001b[39m\u001b[38;5;28mself\u001b[39m\u001b[38;5;241m.\u001b[39moptions)\n\u001b[1;32m   1899\u001b[0m \u001b[38;5;28;01mexcept\u001b[39;00m \u001b[38;5;167;01mException\u001b[39;00m:\n\u001b[1;32m   1900\u001b[0m     \u001b[38;5;28;01mif\u001b[39;00m \u001b[38;5;28mself\u001b[39m\u001b[38;5;241m.\u001b[39mhandles \u001b[38;5;129;01mis\u001b[39;00m \u001b[38;5;129;01mnot\u001b[39;00m \u001b[38;5;28;01mNone\u001b[39;00m:\n",
      "File \u001b[0;32m~/Downloads/anaconda3/envs/transcriptomics/lib/python3.12/site-packages/pandas/io/parsers/c_parser_wrapper.py:93\u001b[0m, in \u001b[0;36mCParserWrapper.__init__\u001b[0;34m(self, src, **kwds)\u001b[0m\n\u001b[1;32m     90\u001b[0m \u001b[38;5;28;01mif\u001b[39;00m kwds[\u001b[38;5;124m\"\u001b[39m\u001b[38;5;124mdtype_backend\u001b[39m\u001b[38;5;124m\"\u001b[39m] \u001b[38;5;241m==\u001b[39m \u001b[38;5;124m\"\u001b[39m\u001b[38;5;124mpyarrow\u001b[39m\u001b[38;5;124m\"\u001b[39m:\n\u001b[1;32m     91\u001b[0m     \u001b[38;5;66;03m# Fail here loudly instead of in cython after reading\u001b[39;00m\n\u001b[1;32m     92\u001b[0m     import_optional_dependency(\u001b[38;5;124m\"\u001b[39m\u001b[38;5;124mpyarrow\u001b[39m\u001b[38;5;124m\"\u001b[39m)\n\u001b[0;32m---> 93\u001b[0m \u001b[38;5;28mself\u001b[39m\u001b[38;5;241m.\u001b[39m_reader \u001b[38;5;241m=\u001b[39m parsers\u001b[38;5;241m.\u001b[39mTextReader(src, \u001b[38;5;241m*\u001b[39m\u001b[38;5;241m*\u001b[39mkwds)\n\u001b[1;32m     95\u001b[0m \u001b[38;5;28mself\u001b[39m\u001b[38;5;241m.\u001b[39munnamed_cols \u001b[38;5;241m=\u001b[39m \u001b[38;5;28mself\u001b[39m\u001b[38;5;241m.\u001b[39m_reader\u001b[38;5;241m.\u001b[39munnamed_cols\n\u001b[1;32m     97\u001b[0m \u001b[38;5;66;03m# error: Cannot determine type of 'names'\u001b[39;00m\n",
      "File \u001b[0;32mparsers.pyx:581\u001b[0m, in \u001b[0;36mpandas._libs.parsers.TextReader.__cinit__\u001b[0;34m()\u001b[0m\n",
      "\u001b[0;31mEmptyDataError\u001b[0m: No columns to parse from file"
     ]
    }
   ],
   "source": [
    "clust_id_pattern = r'(?<=/)(\\d{1,2})(?=_ame)'\n",
    "motif_enrichment_dict = {}\n",
    "for n, path in enumerate(motif_results_paths):\n",
    "    clust_id = re.search(clust_id_pattern, path)\n",
    "    print(path)\n",
    "    motif_enrichment_dict[clust_id] = process_cluster_moitfs(path)\n",
    "\n",
    "motif_enrichment_dict"
   ]
  },
  {
   "cell_type": "code",
   "execution_count": null,
   "metadata": {},
   "outputs": [],
   "source": []
  }
 ],
 "metadata": {
  "kernelspec": {
   "display_name": "transcriptomics",
   "language": "python",
   "name": "python3"
  },
  "language_info": {
   "codemirror_mode": {
    "name": "ipython",
    "version": 3
   },
   "file_extension": ".py",
   "mimetype": "text/x-python",
   "name": "python",
   "nbconvert_exporter": "python",
   "pygments_lexer": "ipython3",
   "version": "3.12.0"
  }
 },
 "nbformat": 4,
 "nbformat_minor": 2
}
