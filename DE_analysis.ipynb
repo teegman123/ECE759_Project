{
 "cells": [
  {
   "cell_type": "markdown",
   "metadata": {},
   "source": [
    "## Differential Expression Analysis Notebook"
   ]
  },
  {
   "cell_type": "markdown",
   "metadata": {},
   "source": [
    "Used the R implementation of edgeR to perform the determination of differential gene expression from the paper see DE_analysis.R file for this process, the result is a list of DEGs for each time point and their statistics from the analysis \n",
    "\n",
    "The purpose of this notebook is to take these DEGs and create the class labels (DEG vs. non-DEG) for future modeling "
   ]
  },
  {
   "cell_type": "code",
   "execution_count": 6,
   "metadata": {},
   "outputs": [],
   "source": [
    "import pandas as pd\n",
    "import os\n",
    "import utils as ut\n",
    "\n",
    "git_path = os.getcwd() #gives path to git clone\n",
    "data_path = os.path.join(git_path, 'cellular_clarity')"
   ]
  },
  {
   "cell_type": "code",
   "execution_count": 7,
   "metadata": {},
   "outputs": [],
   "source": [
    "Y = pd.read_csv(os.path.join(git_path, 'cellular_clarity/read_count_matrix.csv'), index_col=0)"
   ]
  },
  {
   "cell_type": "code",
   "execution_count": null,
   "metadata": {},
   "outputs": [],
   "source": [
    "# Testing and development of function for labeling_degs \n",
    "def label_degs(): \n",
    "    return Y_labeled "
   ]
  }
 ],
 "metadata": {
  "kernelspec": {
   "display_name": "transcriptomics",
   "language": "python",
   "name": "python3"
  },
  "language_info": {
   "codemirror_mode": {
    "name": "ipython",
    "version": 3
   },
   "file_extension": ".py",
   "mimetype": "text/x-python",
   "name": "python",
   "nbconvert_exporter": "python",
   "pygments_lexer": "ipython3",
   "version": "3.12.2"
  }
 },
 "nbformat": 4,
 "nbformat_minor": 2
}
